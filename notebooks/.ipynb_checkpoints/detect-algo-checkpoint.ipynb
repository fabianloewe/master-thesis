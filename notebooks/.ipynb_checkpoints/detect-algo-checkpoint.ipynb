{
 "cells": [
  {
   "cell_type": "markdown",
   "id": "6c9a2ab0c77f8bfc",
   "metadata": {
    "collapsed": false,
    "jupyter": {
     "outputs_hidden": false
    }
   },
   "source": [
    "# Detect the payload size for LSB steganography\n",
    "\n",
    "In this notebook, different methods to detect the payload size are presented. \n",
    "The payload size is the size of the data that is being transmitted inside the stego image\n",
    "that was hidden using LSB steganography.\n",
    "\n",
    "Three methods will be presented that can be used depending on the information that is available:\n",
    "- Known message attack: If the original message is known, it is possible to detect the payload size by identifying the message in the extracted payload. This is the most reliable method but may take a while if the used LSBs are high.\n",
    "- Known stego image attack: If the stego image is known, it is possible to detect the payload size by checking how the file size changes and find the correlation between the payload size and the file size.\n",
    "- Statistical attack: Using RS analysis, it is possible to detect the payload size by analyzing the distribution of the pixel values.\n",
    "\n",
    "## Initialization\n",
    "\n",
    "First we need to import the extraction functions of [Extract LSBs](./extract-lsbs.ipynb)."
   ]
  },
  {
   "cell_type": "code",
   "execution_count": 1,
   "id": "c60f4d85554ff688",
   "metadata": {
    "ExecuteTime": {
     "end_time": "2024-03-20T11:09:14.513205Z",
     "start_time": "2024-03-20T11:09:14.468340Z"
    },
    "collapsed": false,
    "jupyter": {
     "outputs_hidden": false
    }
   },
   "outputs": [],
   "source": [
    "from tqdm.notebook import tqdm\n",
    "from pathlib import Path"
   ]
  },
  {
   "cell_type": "code",
   "execution_count": 2,
   "id": "f2872b3eeb338bfc",
   "metadata": {
    "ExecuteTime": {
     "end_time": "2024-03-20T11:06:40.268836Z",
     "start_time": "2024-03-20T11:06:33.814657Z"
    },
    "collapsed": false,
    "jupyter": {
     "outputs_hidden": false
    }
   },
   "outputs": [
    {
     "name": "stdout",
     "output_type": "stream",
     "text": [
      "Collecting pillow\r\n",
      "  Downloading pillow-10.2.0-cp311-cp311-macosx_11_0_arm64.whl.metadata (9.7 kB)\r\n",
      "Requirement already satisfied: tqdm in /Users/fabianloewe/Projects/master-thesis/venv/lib/python3.11/site-packages (4.66.2)\r\n",
      "Collecting ipywidgets\r\n",
      "  Downloading ipywidgets-8.1.2-py3-none-any.whl.metadata (2.4 kB)\r\n",
      "Requirement already satisfied: notebook in /Users/fabianloewe/Projects/master-thesis/venv/lib/python3.11/site-packages (7.0.7)\r\n",
      "Collecting asyncstdlib\r\n",
      "  Downloading asyncstdlib-3.12.1-py3-none-any.whl.metadata (3.4 kB)\r\n",
      "Requirement already satisfied: comm>=0.1.3 in /Users/fabianloewe/Projects/master-thesis/venv/lib/python3.11/site-packages (from ipywidgets) (0.2.1)\r\n",
      "Requirement already satisfied: ipython>=6.1.0 in /Users/fabianloewe/Projects/master-thesis/venv/lib/python3.11/site-packages (from ipywidgets) (8.21.0)\r\n",
      "Requirement already satisfied: traitlets>=4.3.1 in /Users/fabianloewe/Projects/master-thesis/venv/lib/python3.11/site-packages (from ipywidgets) (5.14.1)\r\n",
      "Collecting widgetsnbextension~=4.0.10 (from ipywidgets)\r\n",
      "  Downloading widgetsnbextension-4.0.10-py3-none-any.whl.metadata (1.6 kB)\r\n",
      "Collecting jupyterlab-widgets~=3.0.10 (from ipywidgets)\r\n",
      "  Downloading jupyterlab_widgets-3.0.10-py3-none-any.whl.metadata (4.1 kB)\r\n",
      "Requirement already satisfied: jupyter-server<3,>=2.4.0 in /Users/fabianloewe/Projects/master-thesis/venv/lib/python3.11/site-packages (from notebook) (2.12.5)\r\n",
      "Requirement already satisfied: jupyterlab-server<3,>=2.22.1 in /Users/fabianloewe/Projects/master-thesis/venv/lib/python3.11/site-packages (from notebook) (2.25.2)\r\n",
      "Requirement already satisfied: jupyterlab<5,>=4.0.2 in /Users/fabianloewe/Projects/master-thesis/venv/lib/python3.11/site-packages (from notebook) (4.1.0)\r\n",
      "Requirement already satisfied: notebook-shim<0.3,>=0.2 in /Users/fabianloewe/Projects/master-thesis/venv/lib/python3.11/site-packages (from notebook) (0.2.3)\r\n",
      "Requirement already satisfied: tornado>=6.2.0 in /Users/fabianloewe/Projects/master-thesis/venv/lib/python3.11/site-packages (from notebook) (6.4)\r\n",
      "Requirement already satisfied: decorator in /Users/fabianloewe/Projects/master-thesis/venv/lib/python3.11/site-packages (from ipython>=6.1.0->ipywidgets) (5.1.1)\r\n",
      "Requirement already satisfied: jedi>=0.16 in /Users/fabianloewe/Projects/master-thesis/venv/lib/python3.11/site-packages (from ipython>=6.1.0->ipywidgets) (0.19.1)\r\n",
      "Requirement already satisfied: matplotlib-inline in /Users/fabianloewe/Projects/master-thesis/venv/lib/python3.11/site-packages (from ipython>=6.1.0->ipywidgets) (0.1.6)\r\n",
      "Requirement already satisfied: prompt-toolkit<3.1.0,>=3.0.41 in /Users/fabianloewe/Projects/master-thesis/venv/lib/python3.11/site-packages (from ipython>=6.1.0->ipywidgets) (3.0.43)\r\n",
      "Requirement already satisfied: pygments>=2.4.0 in /Users/fabianloewe/Projects/master-thesis/venv/lib/python3.11/site-packages (from ipython>=6.1.0->ipywidgets) (2.17.2)\r\n",
      "Requirement already satisfied: stack-data in /Users/fabianloewe/Projects/master-thesis/venv/lib/python3.11/site-packages (from ipython>=6.1.0->ipywidgets) (0.6.3)\r\n",
      "Requirement already satisfied: pexpect>4.3 in /Users/fabianloewe/Projects/master-thesis/venv/lib/python3.11/site-packages (from ipython>=6.1.0->ipywidgets) (4.9.0)\r\n",
      "Requirement already satisfied: anyio>=3.1.0 in /Users/fabianloewe/Projects/master-thesis/venv/lib/python3.11/site-packages (from jupyter-server<3,>=2.4.0->notebook) (4.2.0)\r\n",
      "Requirement already satisfied: argon2-cffi in /Users/fabianloewe/Projects/master-thesis/venv/lib/python3.11/site-packages (from jupyter-server<3,>=2.4.0->notebook) (23.1.0)\r\n",
      "Requirement already satisfied: jinja2 in /Users/fabianloewe/Projects/master-thesis/venv/lib/python3.11/site-packages (from jupyter-server<3,>=2.4.0->notebook) (3.1.3)\r\n",
      "Requirement already satisfied: jupyter-client>=7.4.4 in /Users/fabianloewe/Projects/master-thesis/venv/lib/python3.11/site-packages (from jupyter-server<3,>=2.4.0->notebook) (8.6.0)\r\n",
      "Requirement already satisfied: jupyter-core!=5.0.*,>=4.12 in /Users/fabianloewe/Projects/master-thesis/venv/lib/python3.11/site-packages (from jupyter-server<3,>=2.4.0->notebook) (5.7.1)\r\n",
      "Requirement already satisfied: jupyter-events>=0.9.0 in /Users/fabianloewe/Projects/master-thesis/venv/lib/python3.11/site-packages (from jupyter-server<3,>=2.4.0->notebook) (0.9.0)\r\n",
      "Requirement already satisfied: jupyter-server-terminals in /Users/fabianloewe/Projects/master-thesis/venv/lib/python3.11/site-packages (from jupyter-server<3,>=2.4.0->notebook) (0.5.2)\r\n",
      "Requirement already satisfied: nbconvert>=6.4.4 in /Users/fabianloewe/Projects/master-thesis/venv/lib/python3.11/site-packages (from jupyter-server<3,>=2.4.0->notebook) (7.16.0)\r\n",
      "Requirement already satisfied: nbformat>=5.3.0 in /Users/fabianloewe/Projects/master-thesis/venv/lib/python3.11/site-packages (from jupyter-server<3,>=2.4.0->notebook) (5.9.2)\r\n",
      "Requirement already satisfied: overrides in /Users/fabianloewe/Projects/master-thesis/venv/lib/python3.11/site-packages (from jupyter-server<3,>=2.4.0->notebook) (7.7.0)\r\n",
      "Requirement already satisfied: packaging in /Users/fabianloewe/Projects/master-thesis/venv/lib/python3.11/site-packages (from jupyter-server<3,>=2.4.0->notebook) (23.2)\r\n",
      "Requirement already satisfied: prometheus-client in /Users/fabianloewe/Projects/master-thesis/venv/lib/python3.11/site-packages (from jupyter-server<3,>=2.4.0->notebook) (0.19.0)\r\n",
      "Requirement already satisfied: pyzmq>=24 in /Users/fabianloewe/Projects/master-thesis/venv/lib/python3.11/site-packages (from jupyter-server<3,>=2.4.0->notebook) (25.1.2)\r\n",
      "Requirement already satisfied: send2trash>=1.8.2 in /Users/fabianloewe/Projects/master-thesis/venv/lib/python3.11/site-packages (from jupyter-server<3,>=2.4.0->notebook) (1.8.2)\r\n",
      "Requirement already satisfied: terminado>=0.8.3 in /Users/fabianloewe/Projects/master-thesis/venv/lib/python3.11/site-packages (from jupyter-server<3,>=2.4.0->notebook) (0.18.0)\r\n",
      "Requirement already satisfied: websocket-client in /Users/fabianloewe/Projects/master-thesis/venv/lib/python3.11/site-packages (from jupyter-server<3,>=2.4.0->notebook) (1.7.0)\r\n",
      "Requirement already satisfied: async-lru>=1.0.0 in /Users/fabianloewe/Projects/master-thesis/venv/lib/python3.11/site-packages (from jupyterlab<5,>=4.0.2->notebook) (2.0.4)\r\n",
      "Requirement already satisfied: httpx>=0.25.0 in /Users/fabianloewe/Projects/master-thesis/venv/lib/python3.11/site-packages (from jupyterlab<5,>=4.0.2->notebook) (0.26.0)\r\n",
      "Requirement already satisfied: ipykernel in /Users/fabianloewe/Projects/master-thesis/venv/lib/python3.11/site-packages (from jupyterlab<5,>=4.0.2->notebook) (6.29.2)\r\n",
      "Requirement already satisfied: jupyter-lsp>=2.0.0 in /Users/fabianloewe/Projects/master-thesis/venv/lib/python3.11/site-packages (from jupyterlab<5,>=4.0.2->notebook) (2.2.2)\r\n",
      "Requirement already satisfied: babel>=2.10 in /Users/fabianloewe/Projects/master-thesis/venv/lib/python3.11/site-packages (from jupyterlab-server<3,>=2.22.1->notebook) (2.14.0)\r\n",
      "Requirement already satisfied: json5>=0.9.0 in /Users/fabianloewe/Projects/master-thesis/venv/lib/python3.11/site-packages (from jupyterlab-server<3,>=2.22.1->notebook) (0.9.14)\r\n",
      "Requirement already satisfied: jsonschema>=4.18.0 in /Users/fabianloewe/Projects/master-thesis/venv/lib/python3.11/site-packages (from jupyterlab-server<3,>=2.22.1->notebook) (4.21.1)\r\n",
      "Requirement already satisfied: requests>=2.31 in /Users/fabianloewe/Projects/master-thesis/venv/lib/python3.11/site-packages (from jupyterlab-server<3,>=2.22.1->notebook) (2.31.0)\r\n",
      "Requirement already satisfied: idna>=2.8 in /Users/fabianloewe/Projects/master-thesis/venv/lib/python3.11/site-packages (from anyio>=3.1.0->jupyter-server<3,>=2.4.0->notebook) (3.6)\r\n",
      "Requirement already satisfied: sniffio>=1.1 in /Users/fabianloewe/Projects/master-thesis/venv/lib/python3.11/site-packages (from anyio>=3.1.0->jupyter-server<3,>=2.4.0->notebook) (1.3.0)\r\n",
      "Requirement already satisfied: certifi in /Users/fabianloewe/Projects/master-thesis/venv/lib/python3.11/site-packages (from httpx>=0.25.0->jupyterlab<5,>=4.0.2->notebook) (2024.2.2)\r\n",
      "Requirement already satisfied: httpcore==1.* in /Users/fabianloewe/Projects/master-thesis/venv/lib/python3.11/site-packages (from httpx>=0.25.0->jupyterlab<5,>=4.0.2->notebook) (1.0.2)\r\n",
      "Requirement already satisfied: h11<0.15,>=0.13 in /Users/fabianloewe/Projects/master-thesis/venv/lib/python3.11/site-packages (from httpcore==1.*->httpx>=0.25.0->jupyterlab<5,>=4.0.2->notebook) (0.14.0)\r\n",
      "Requirement already satisfied: parso<0.9.0,>=0.8.3 in /Users/fabianloewe/Projects/master-thesis/venv/lib/python3.11/site-packages (from jedi>=0.16->ipython>=6.1.0->ipywidgets) (0.8.3)\r\n",
      "Requirement already satisfied: MarkupSafe>=2.0 in /Users/fabianloewe/Projects/master-thesis/venv/lib/python3.11/site-packages (from jinja2->jupyter-server<3,>=2.4.0->notebook) (2.1.5)\r\n",
      "Requirement already satisfied: attrs>=22.2.0 in /Users/fabianloewe/Projects/master-thesis/venv/lib/python3.11/site-packages (from jsonschema>=4.18.0->jupyterlab-server<3,>=2.22.1->notebook) (23.2.0)\r\n",
      "Requirement already satisfied: jsonschema-specifications>=2023.03.6 in /Users/fabianloewe/Projects/master-thesis/venv/lib/python3.11/site-packages (from jsonschema>=4.18.0->jupyterlab-server<3,>=2.22.1->notebook) (2023.12.1)\r\n",
      "Requirement already satisfied: referencing>=0.28.4 in /Users/fabianloewe/Projects/master-thesis/venv/lib/python3.11/site-packages (from jsonschema>=4.18.0->jupyterlab-server<3,>=2.22.1->notebook) (0.33.0)\r\n",
      "Requirement already satisfied: rpds-py>=0.7.1 in /Users/fabianloewe/Projects/master-thesis/venv/lib/python3.11/site-packages (from jsonschema>=4.18.0->jupyterlab-server<3,>=2.22.1->notebook) (0.17.1)\r\n",
      "Requirement already satisfied: python-dateutil>=2.8.2 in /Users/fabianloewe/Projects/master-thesis/venv/lib/python3.11/site-packages (from jupyter-client>=7.4.4->jupyter-server<3,>=2.4.0->notebook) (2.8.2)\r\n",
      "Requirement already satisfied: platformdirs>=2.5 in /Users/fabianloewe/Projects/master-thesis/venv/lib/python3.11/site-packages (from jupyter-core!=5.0.*,>=4.12->jupyter-server<3,>=2.4.0->notebook) (4.2.0)\r\n",
      "Requirement already satisfied: python-json-logger>=2.0.4 in /Users/fabianloewe/Projects/master-thesis/venv/lib/python3.11/site-packages (from jupyter-events>=0.9.0->jupyter-server<3,>=2.4.0->notebook) (2.0.7)\r\n",
      "Requirement already satisfied: pyyaml>=5.3 in /Users/fabianloewe/Projects/master-thesis/venv/lib/python3.11/site-packages (from jupyter-events>=0.9.0->jupyter-server<3,>=2.4.0->notebook) (6.0.1)\r\n",
      "Requirement already satisfied: rfc3339-validator in /Users/fabianloewe/Projects/master-thesis/venv/lib/python3.11/site-packages (from jupyter-events>=0.9.0->jupyter-server<3,>=2.4.0->notebook) (0.1.4)\r\n",
      "Requirement already satisfied: rfc3986-validator>=0.1.1 in /Users/fabianloewe/Projects/master-thesis/venv/lib/python3.11/site-packages (from jupyter-events>=0.9.0->jupyter-server<3,>=2.4.0->notebook) (0.1.1)\r\n",
      "Requirement already satisfied: beautifulsoup4 in /Users/fabianloewe/Projects/master-thesis/venv/lib/python3.11/site-packages (from nbconvert>=6.4.4->jupyter-server<3,>=2.4.0->notebook) (4.12.3)\r\n",
      "Requirement already satisfied: bleach!=5.0.0 in /Users/fabianloewe/Projects/master-thesis/venv/lib/python3.11/site-packages (from nbconvert>=6.4.4->jupyter-server<3,>=2.4.0->notebook) (6.1.0)\r\n",
      "Requirement already satisfied: defusedxml in /Users/fabianloewe/Projects/master-thesis/venv/lib/python3.11/site-packages (from nbconvert>=6.4.4->jupyter-server<3,>=2.4.0->notebook) (0.7.1)\r\n",
      "Requirement already satisfied: jupyterlab-pygments in /Users/fabianloewe/Projects/master-thesis/venv/lib/python3.11/site-packages (from nbconvert>=6.4.4->jupyter-server<3,>=2.4.0->notebook) (0.3.0)\r\n",
      "Requirement already satisfied: mistune<4,>=2.0.3 in /Users/fabianloewe/Projects/master-thesis/venv/lib/python3.11/site-packages (from nbconvert>=6.4.4->jupyter-server<3,>=2.4.0->notebook) (3.0.2)\r\n",
      "Requirement already satisfied: nbclient>=0.5.0 in /Users/fabianloewe/Projects/master-thesis/venv/lib/python3.11/site-packages (from nbconvert>=6.4.4->jupyter-server<3,>=2.4.0->notebook) (0.9.0)\r\n",
      "Requirement already satisfied: pandocfilters>=1.4.1 in /Users/fabianloewe/Projects/master-thesis/venv/lib/python3.11/site-packages (from nbconvert>=6.4.4->jupyter-server<3,>=2.4.0->notebook) (1.5.1)\r\n",
      "Requirement already satisfied: tinycss2 in /Users/fabianloewe/Projects/master-thesis/venv/lib/python3.11/site-packages (from nbconvert>=6.4.4->jupyter-server<3,>=2.4.0->notebook) (1.2.1)\r\n",
      "Requirement already satisfied: fastjsonschema in /Users/fabianloewe/Projects/master-thesis/venv/lib/python3.11/site-packages (from nbformat>=5.3.0->jupyter-server<3,>=2.4.0->notebook) (2.19.1)\r\n",
      "Requirement already satisfied: ptyprocess>=0.5 in /Users/fabianloewe/Projects/master-thesis/venv/lib/python3.11/site-packages (from pexpect>4.3->ipython>=6.1.0->ipywidgets) (0.7.0)\r\n",
      "Requirement already satisfied: wcwidth in /Users/fabianloewe/Projects/master-thesis/venv/lib/python3.11/site-packages (from prompt-toolkit<3.1.0,>=3.0.41->ipython>=6.1.0->ipywidgets) (0.2.13)\r\n",
      "Requirement already satisfied: charset-normalizer<4,>=2 in /Users/fabianloewe/Projects/master-thesis/venv/lib/python3.11/site-packages (from requests>=2.31->jupyterlab-server<3,>=2.22.1->notebook) (3.3.2)\r\n",
      "Requirement already satisfied: urllib3<3,>=1.21.1 in /Users/fabianloewe/Projects/master-thesis/venv/lib/python3.11/site-packages (from requests>=2.31->jupyterlab-server<3,>=2.22.1->notebook) (2.2.0)\r\n",
      "Requirement already satisfied: argon2-cffi-bindings in /Users/fabianloewe/Projects/master-thesis/venv/lib/python3.11/site-packages (from argon2-cffi->jupyter-server<3,>=2.4.0->notebook) (21.2.0)\r\n",
      "Requirement already satisfied: appnope in /Users/fabianloewe/Projects/master-thesis/venv/lib/python3.11/site-packages (from ipykernel->jupyterlab<5,>=4.0.2->notebook) (0.1.4)\r\n",
      "Requirement already satisfied: debugpy>=1.6.5 in /Users/fabianloewe/Projects/master-thesis/venv/lib/python3.11/site-packages (from ipykernel->jupyterlab<5,>=4.0.2->notebook) (1.8.1)\r\n",
      "Requirement already satisfied: nest-asyncio in /Users/fabianloewe/Projects/master-thesis/venv/lib/python3.11/site-packages (from ipykernel->jupyterlab<5,>=4.0.2->notebook) (1.6.0)\r\n",
      "Requirement already satisfied: psutil in /Users/fabianloewe/Projects/master-thesis/venv/lib/python3.11/site-packages (from ipykernel->jupyterlab<5,>=4.0.2->notebook) (5.9.8)\r\n",
      "Requirement already satisfied: executing>=1.2.0 in /Users/fabianloewe/Projects/master-thesis/venv/lib/python3.11/site-packages (from stack-data->ipython>=6.1.0->ipywidgets) (2.0.1)\r\n",
      "Requirement already satisfied: asttokens>=2.1.0 in /Users/fabianloewe/Projects/master-thesis/venv/lib/python3.11/site-packages (from stack-data->ipython>=6.1.0->ipywidgets) (2.4.1)\r\n",
      "Requirement already satisfied: pure-eval in /Users/fabianloewe/Projects/master-thesis/venv/lib/python3.11/site-packages (from stack-data->ipython>=6.1.0->ipywidgets) (0.2.2)\r\n",
      "Requirement already satisfied: six>=1.12.0 in /Users/fabianloewe/Projects/master-thesis/venv/lib/python3.11/site-packages (from asttokens>=2.1.0->stack-data->ipython>=6.1.0->ipywidgets) (1.16.0)\r\n",
      "Requirement already satisfied: webencodings in /Users/fabianloewe/Projects/master-thesis/venv/lib/python3.11/site-packages (from bleach!=5.0.0->nbconvert>=6.4.4->jupyter-server<3,>=2.4.0->notebook) (0.5.1)\r\n",
      "Requirement already satisfied: fqdn in /Users/fabianloewe/Projects/master-thesis/venv/lib/python3.11/site-packages (from jsonschema[format-nongpl]>=4.18.0->jupyter-events>=0.9.0->jupyter-server<3,>=2.4.0->notebook) (1.5.1)\r\n",
      "Requirement already satisfied: isoduration in /Users/fabianloewe/Projects/master-thesis/venv/lib/python3.11/site-packages (from jsonschema[format-nongpl]>=4.18.0->jupyter-events>=0.9.0->jupyter-server<3,>=2.4.0->notebook) (20.11.0)\r\n",
      "Requirement already satisfied: jsonpointer>1.13 in /Users/fabianloewe/Projects/master-thesis/venv/lib/python3.11/site-packages (from jsonschema[format-nongpl]>=4.18.0->jupyter-events>=0.9.0->jupyter-server<3,>=2.4.0->notebook) (2.4)\r\n",
      "Requirement already satisfied: uri-template in /Users/fabianloewe/Projects/master-thesis/venv/lib/python3.11/site-packages (from jsonschema[format-nongpl]>=4.18.0->jupyter-events>=0.9.0->jupyter-server<3,>=2.4.0->notebook) (1.3.0)\r\n",
      "Requirement already satisfied: webcolors>=1.11 in /Users/fabianloewe/Projects/master-thesis/venv/lib/python3.11/site-packages (from jsonschema[format-nongpl]>=4.18.0->jupyter-events>=0.9.0->jupyter-server<3,>=2.4.0->notebook) (1.13)\r\n",
      "Requirement already satisfied: cffi>=1.0.1 in /Users/fabianloewe/Projects/master-thesis/venv/lib/python3.11/site-packages (from argon2-cffi-bindings->argon2-cffi->jupyter-server<3,>=2.4.0->notebook) (1.16.0)\r\n",
      "Requirement already satisfied: soupsieve>1.2 in /Users/fabianloewe/Projects/master-thesis/venv/lib/python3.11/site-packages (from beautifulsoup4->nbconvert>=6.4.4->jupyter-server<3,>=2.4.0->notebook) (2.5)\r\n",
      "Requirement already satisfied: pycparser in /Users/fabianloewe/Projects/master-thesis/venv/lib/python3.11/site-packages (from cffi>=1.0.1->argon2-cffi-bindings->argon2-cffi->jupyter-server<3,>=2.4.0->notebook) (2.21)\r\n",
      "Requirement already satisfied: arrow>=0.15.0 in /Users/fabianloewe/Projects/master-thesis/venv/lib/python3.11/site-packages (from isoduration->jsonschema[format-nongpl]>=4.18.0->jupyter-events>=0.9.0->jupyter-server<3,>=2.4.0->notebook) (1.3.0)\r\n",
      "Requirement already satisfied: types-python-dateutil>=2.8.10 in /Users/fabianloewe/Projects/master-thesis/venv/lib/python3.11/site-packages (from arrow>=0.15.0->isoduration->jsonschema[format-nongpl]>=4.18.0->jupyter-events>=0.9.0->jupyter-server<3,>=2.4.0->notebook) (2.8.19.20240106)\r\n",
      "Downloading pillow-10.2.0-cp311-cp311-macosx_11_0_arm64.whl (3.3 MB)\r\n",
      "\u001b[2K   \u001b[90m━━━━━━━━━━━━━━━━━━━━━━━━━━━━━━━━━━━━━━━━\u001b[0m \u001b[32m3.3/3.3 MB\u001b[0m \u001b[31m5.4 MB/s\u001b[0m eta \u001b[36m0:00:00\u001b[0ma \u001b[36m0:00:01\u001b[0m\r\n",
      "\u001b[?25hDownloading ipywidgets-8.1.2-py3-none-any.whl (139 kB)\r\n",
      "\u001b[2K   \u001b[90m━━━━━━━━━━━━━━━━━━━━━━━━━━━━━━━━━━━━━━━━\u001b[0m \u001b[32m139.4/139.4 kB\u001b[0m \u001b[31m4.5 MB/s\u001b[0m eta \u001b[36m0:00:00\u001b[0m\r\n",
      "\u001b[?25hDownloading asyncstdlib-3.12.1-py3-none-any.whl (38 kB)\r\n",
      "Downloading jupyterlab_widgets-3.0.10-py3-none-any.whl (215 kB)\r\n",
      "\u001b[2K   \u001b[90m━━━━━━━━━━━━━━━━━━━━━━━━━━━━━━━━━━━━━━━━\u001b[0m \u001b[32m215.0/215.0 kB\u001b[0m \u001b[31m4.7 MB/s\u001b[0m eta \u001b[36m0:00:00\u001b[0ma \u001b[36m0:00:01\u001b[0m\r\n",
      "\u001b[?25hDownloading widgetsnbextension-4.0.10-py3-none-any.whl (2.3 MB)\r\n",
      "\u001b[2K   \u001b[90m━━━━━━━━━━━━━━━━━━━━━━━━━━━━━━━━━━━━━━━━\u001b[0m \u001b[32m2.3/2.3 MB\u001b[0m \u001b[31m5.6 MB/s\u001b[0m eta \u001b[36m0:00:00\u001b[0m00:01\u001b[0m00:01\u001b[0m\r\n",
      "\u001b[?25hInstalling collected packages: widgetsnbextension, pillow, jupyterlab-widgets, asyncstdlib, ipywidgets\r\n",
      "Successfully installed asyncstdlib-3.12.1 ipywidgets-8.1.2 jupyterlab-widgets-3.0.10 pillow-10.2.0 widgetsnbextension-4.0.10\r\n",
      "Note: you may need to restart the kernel to use updated packages.\n",
      "usage: jupyter [-h] [--version] [--config-dir] [--data-dir] [--runtime-dir]\r\n",
      "               [--paths] [--json] [--debug]\r\n",
      "               [subcommand]\r\n",
      "\r\n",
      "Jupyter: Interactive Computing\r\n",
      "\r\n",
      "positional arguments:\r\n",
      "  subcommand     the subcommand to launch\r\n",
      "\r\n",
      "options:\r\n",
      "  -h, --help     show this help message and exit\r\n",
      "  --version      show the versions of core jupyter packages and exit\r\n",
      "  --config-dir   show Jupyter config dir\r\n",
      "  --data-dir     show Jupyter data dir\r\n",
      "  --runtime-dir  show Jupyter runtime dir\r\n",
      "  --paths        show all Jupyter paths. Add --json for machine-readable\r\n",
      "                 format.\r\n",
      "  --json         output paths as machine-readable json\r\n",
      "  --debug        output debug information about paths\r\n",
      "\r\n",
      "Available subcommands: dejavu events execute kernel kernelspec lab\r\n",
      "labextension labhub migrate nbconvert notebook run server troubleshoot trust\r\n",
      "\r\n",
      "Jupyter command `jupyter-nbextension` not found.\r\n",
      "Found the following embedding methods: MobiStego, PixelKnot, PocketStego, Pictograph, SteganographyM, Passlok\n"
     ]
    },
    {
     "name": "stderr",
     "output_type": "stream",
     "text": [
      "/var/folders/02/y53_lh_10ss885lfr9gw0p800000gn/T/ipykernel_68102/1526063876.py:5: DeprecationWarning: \n",
      "Pyarrow will become a required dependency of pandas in the next major release of pandas (pandas 3.0),\n",
      "(to allow more performant data types, such as the Arrow string type, and better interoperability with other libraries)\n",
      "but was not found to be installed on your system.\n",
      "If this would cause problems for you,\n",
      "please provide us feedback at https://github.com/pandas-dev/pandas/issues/54466\n",
      "        \n",
      "  import pandas as pd\n"
     ]
    }
   ],
   "source": [
    "%run extract-lsbs.ipynb"
   ]
  },
  {
   "cell_type": "code",
   "execution_count": 3,
   "id": "f64389feb6e6fd3d",
   "metadata": {
    "ExecuteTime": {
     "end_time": "2024-03-20T11:06:47.537168Z",
     "start_time": "2024-03-20T11:06:47.534583Z"
    },
    "collapsed": false,
    "jupyter": {
     "outputs_hidden": false
    }
   },
   "outputs": [],
   "source": [
    "async def for_each_image(func):\n",
    "    \"\"\"Helper function to iterate over all stego images and apply a function to them.\"\"\"\n",
    "    for method, stego_images in stego_images_by_method.items():\n",
    "        for bits in [1, 2, 4]:\n",
    "            for direction in ['msb', 'lsb']:\n",
    "                yield await func(stego_images, (method, bits, direction))"
   ]
  },
  {
   "cell_type": "markdown",
   "id": "d4806b37527f6ef3",
   "metadata": {
    "collapsed": false,
    "jupyter": {
     "outputs_hidden": false
    }
   },
   "source": [
    "## Known message attack"
   ]
  },
  {
   "cell_type": "code",
   "execution_count": 5,
   "id": "bea3ac8191fb383d",
   "metadata": {
    "ExecuteTime": {
     "end_time": "2024-03-19T22:59:27.516032Z",
     "start_time": "2024-03-19T22:59:27.512855Z"
    },
    "collapsed": false,
    "jupyter": {
     "outputs_hidden": false
    }
   },
   "outputs": [],
   "source": [
    "EMBEDDED_MESSAGES_DIR = Path('./data/embedded_messages')\n",
    "\n",
    "\n",
    "async def save_embedded_messages(base_dir=EMBEDDED_MESSAGES_DIR):\n",
    "    async def handler(stego_images, path_parts):\n",
    "        method, bits, direction = path_parts\n",
    "        sub_dir = base_dir / method / f'ls{bits}b' / direction\n",
    "        if sub_dir.exists():\n",
    "            return\n",
    "\n",
    "        sub_dir.mkdir(parents=True, exist_ok=True)\n",
    "        async for stego_img, msg in extract_messages(stego_images, bits, direction, method):\n",
    "            img_name = stego_img.stem\n",
    "            msg_file = sub_dir / f'{img_name}.txt'\n",
    "            if msg_file.exists():\n",
    "                continue\n",
    "\n",
    "            msg_file.write_bytes(msg.tobytes())\n",
    "\n",
    "    _ = [_ async for _ in for_each_image(handler)]\n",
    "\n",
    "\n",
    "await save_embedded_messages()"
   ]
  },
  {
   "cell_type": "code",
   "execution_count": 6,
   "id": "811ed8db2abeaca9",
   "metadata": {
    "ExecuteTime": {
     "end_time": "2024-03-19T23:03:25.840099Z",
     "start_time": "2024-03-19T22:59:29.567044Z"
    },
    "collapsed": false,
    "jupyter": {
     "outputs_hidden": false
    }
   },
   "outputs": [
    {
     "data": {
      "application/vnd.jupyter.widget-view+json": {
       "model_id": "cbdf7edc81cd440f9bd92a830cf656ae",
       "version_major": 2,
       "version_minor": 0
      },
      "text/plain": [
       "Cycling through MobiStego 1 msb:   0%|          | 0/3060 [00:00<?, ?it/s]"
      ]
     },
     "metadata": {},
     "output_type": "display_data"
    },
    {
     "data": {
      "application/vnd.jupyter.widget-view+json": {
       "model_id": "7f4709ac57c84355ad7a0b2a6f2550c5",
       "version_major": 2,
       "version_minor": 0
      },
      "text/plain": [
       "Cycling through MobiStego 1 lsb:   0%|          | 0/3060 [00:00<?, ?it/s]"
      ]
     },
     "metadata": {},
     "output_type": "display_data"
    },
    {
     "data": {
      "application/vnd.jupyter.widget-view+json": {
       "model_id": "591af2302a12408aaca62161f6e5cd75",
       "version_major": 2,
       "version_minor": 0
      },
      "text/plain": [
       "Cycling through MobiStego 2 msb:   0%|          | 0/3060 [00:00<?, ?it/s]"
      ]
     },
     "metadata": {},
     "output_type": "display_data"
    },
    {
     "data": {
      "application/vnd.jupyter.widget-view+json": {
       "model_id": "29089f2381ef4638a3204ce1a618d3a6",
       "version_major": 2,
       "version_minor": 0
      },
      "text/plain": [
       "Cycling through MobiStego 2 lsb:   0%|          | 0/3060 [00:00<?, ?it/s]"
      ]
     },
     "metadata": {},
     "output_type": "display_data"
    },
    {
     "data": {
      "application/vnd.jupyter.widget-view+json": {
       "model_id": "02f15d0d13b64ad4b05877a1bd410051",
       "version_major": 2,
       "version_minor": 0
      },
      "text/plain": [
       "Cycling through MobiStego 4 msb:   0%|          | 0/3060 [00:00<?, ?it/s]"
      ]
     },
     "metadata": {},
     "output_type": "display_data"
    },
    {
     "data": {
      "application/vnd.jupyter.widget-view+json": {
       "model_id": "0210d1b800e145a88527bd2e86c687d0",
       "version_major": 2,
       "version_minor": 0
      },
      "text/plain": [
       "Cycling through MobiStego 4 lsb:   0%|          | 0/3060 [00:00<?, ?it/s]"
      ]
     },
     "metadata": {},
     "output_type": "display_data"
    },
    {
     "data": {
      "application/vnd.jupyter.widget-view+json": {
       "model_id": "569f1fe2edc84fa8ad0b40e2e813d3b2",
       "version_major": 2,
       "version_minor": 0
      },
      "text/plain": [
       "Cycling through PixelKnot 1 msb:   0%|          | 0/3060 [00:00<?, ?it/s]"
      ]
     },
     "metadata": {},
     "output_type": "display_data"
    },
    {
     "data": {
      "application/vnd.jupyter.widget-view+json": {
       "model_id": "410340c37bd04cbc81e0c5c0ce788963",
       "version_major": 2,
       "version_minor": 0
      },
      "text/plain": [
       "Cycling through PixelKnot 1 lsb:   0%|          | 0/3060 [00:00<?, ?it/s]"
      ]
     },
     "metadata": {},
     "output_type": "display_data"
    },
    {
     "data": {
      "application/vnd.jupyter.widget-view+json": {
       "model_id": "88c7f5c2101e45fcb8f8e7875c43008b",
       "version_major": 2,
       "version_minor": 0
      },
      "text/plain": [
       "Cycling through PixelKnot 2 msb:   0%|          | 0/3060 [00:00<?, ?it/s]"
      ]
     },
     "metadata": {},
     "output_type": "display_data"
    },
    {
     "data": {
      "application/vnd.jupyter.widget-view+json": {
       "model_id": "6bf0f751e91241baa7401d7e67cd2f70",
       "version_major": 2,
       "version_minor": 0
      },
      "text/plain": [
       "Cycling through PixelKnot 2 lsb:   0%|          | 0/3060 [00:00<?, ?it/s]"
      ]
     },
     "metadata": {},
     "output_type": "display_data"
    },
    {
     "data": {
      "application/vnd.jupyter.widget-view+json": {
       "model_id": "877044de27e14e4d87f512a9a5cfb31f",
       "version_major": 2,
       "version_minor": 0
      },
      "text/plain": [
       "Cycling through PixelKnot 4 msb:   0%|          | 0/3060 [00:00<?, ?it/s]"
      ]
     },
     "metadata": {},
     "output_type": "display_data"
    },
    {
     "data": {
      "application/vnd.jupyter.widget-view+json": {
       "model_id": "a2b4f96daae04743af60daf6d62af836",
       "version_major": 2,
       "version_minor": 0
      },
      "text/plain": [
       "Cycling through PixelKnot 4 lsb:   0%|          | 0/3060 [00:00<?, ?it/s]"
      ]
     },
     "metadata": {},
     "output_type": "display_data"
    },
    {
     "data": {
      "application/vnd.jupyter.widget-view+json": {
       "model_id": "9bf7d6cfc8c049959ed76319276dd16d",
       "version_major": 2,
       "version_minor": 0
      },
      "text/plain": [
       "Cycling through PocketStego 1 msb:   0%|          | 0/3060 [00:00<?, ?it/s]"
      ]
     },
     "metadata": {},
     "output_type": "display_data"
    },
    {
     "data": {
      "application/vnd.jupyter.widget-view+json": {
       "model_id": "5452954b225145c482ff2b80a89174a8",
       "version_major": 2,
       "version_minor": 0
      },
      "text/plain": [
       "Cycling through PocketStego 1 lsb:   0%|          | 0/3060 [00:00<?, ?it/s]"
      ]
     },
     "metadata": {},
     "output_type": "display_data"
    },
    {
     "data": {
      "application/vnd.jupyter.widget-view+json": {
       "model_id": "42dd2b290fc241068eae83acf67ed35f",
       "version_major": 2,
       "version_minor": 0
      },
      "text/plain": [
       "Cycling through PocketStego 2 msb:   0%|          | 0/3060 [00:00<?, ?it/s]"
      ]
     },
     "metadata": {},
     "output_type": "display_data"
    },
    {
     "data": {
      "application/vnd.jupyter.widget-view+json": {
       "model_id": "0c40eb066e144e3b8a1aa59185dbb073",
       "version_major": 2,
       "version_minor": 0
      },
      "text/plain": [
       "Cycling through PocketStego 2 lsb:   0%|          | 0/3060 [00:00<?, ?it/s]"
      ]
     },
     "metadata": {},
     "output_type": "display_data"
    },
    {
     "data": {
      "application/vnd.jupyter.widget-view+json": {
       "model_id": "eb0e7b0e82094463a6f582ee1940a6fc",
       "version_major": 2,
       "version_minor": 0
      },
      "text/plain": [
       "Cycling through PocketStego 4 msb:   0%|          | 0/3060 [00:00<?, ?it/s]"
      ]
     },
     "metadata": {},
     "output_type": "display_data"
    },
    {
     "data": {
      "application/vnd.jupyter.widget-view+json": {
       "model_id": "b331a9954f284cac8a9c6da4151b5783",
       "version_major": 2,
       "version_minor": 0
      },
      "text/plain": [
       "Cycling through PocketStego 4 lsb:   0%|          | 0/3060 [00:00<?, ?it/s]"
      ]
     },
     "metadata": {},
     "output_type": "display_data"
    },
    {
     "data": {
      "application/vnd.jupyter.widget-view+json": {
       "model_id": "7ba1cc1d5a52455ab27e89bfe3b4e42e",
       "version_major": 2,
       "version_minor": 0
      },
      "text/plain": [
       "Cycling through Pictograph 1 msb:   0%|          | 0/4800 [00:00<?, ?it/s]"
      ]
     },
     "metadata": {},
     "output_type": "display_data"
    },
    {
     "data": {
      "application/vnd.jupyter.widget-view+json": {
       "model_id": "5bef71ea0f434c13814b153abb88cd3c",
       "version_major": 2,
       "version_minor": 0
      },
      "text/plain": [
       "Cycling through Pictograph 1 lsb:   0%|          | 0/4800 [00:00<?, ?it/s]"
      ]
     },
     "metadata": {},
     "output_type": "display_data"
    },
    {
     "data": {
      "application/vnd.jupyter.widget-view+json": {
       "model_id": "3f5d5f1833034edea5002c5b66b53ab3",
       "version_major": 2,
       "version_minor": 0
      },
      "text/plain": [
       "Cycling through Pictograph 2 msb:   0%|          | 0/4800 [00:00<?, ?it/s]"
      ]
     },
     "metadata": {},
     "output_type": "display_data"
    },
    {
     "data": {
      "application/vnd.jupyter.widget-view+json": {
       "model_id": "51bf6b3a034d4a29a1c3e9f22f83b761",
       "version_major": 2,
       "version_minor": 0
      },
      "text/plain": [
       "Cycling through Pictograph 2 lsb:   0%|          | 0/4800 [00:00<?, ?it/s]"
      ]
     },
     "metadata": {},
     "output_type": "display_data"
    },
    {
     "data": {
      "application/vnd.jupyter.widget-view+json": {
       "model_id": "d74520772f0449a9af2e5da36528c79b",
       "version_major": 2,
       "version_minor": 0
      },
      "text/plain": [
       "Cycling through Pictograph 4 msb:   0%|          | 0/4800 [00:00<?, ?it/s]"
      ]
     },
     "metadata": {},
     "output_type": "display_data"
    },
    {
     "data": {
      "application/vnd.jupyter.widget-view+json": {
       "model_id": "03a462f7b0f24022a0d335318e20a1af",
       "version_major": 2,
       "version_minor": 0
      },
      "text/plain": [
       "Cycling through Pictograph 4 lsb:   0%|          | 0/4800 [00:00<?, ?it/s]"
      ]
     },
     "metadata": {},
     "output_type": "display_data"
    },
    {
     "data": {
      "application/vnd.jupyter.widget-view+json": {
       "model_id": "b091ed3c663d42d7a32c1e83f22cf9ca",
       "version_major": 2,
       "version_minor": 0
      },
      "text/plain": [
       "Cycling through SteganographyM 1 msb:   0%|          | 0/3060 [00:00<?, ?it/s]"
      ]
     },
     "metadata": {},
     "output_type": "display_data"
    },
    {
     "data": {
      "application/vnd.jupyter.widget-view+json": {
       "model_id": "7540bff6d46840008fa9d35db0ae3457",
       "version_major": 2,
       "version_minor": 0
      },
      "text/plain": [
       "Cycling through SteganographyM 1 lsb:   0%|          | 0/3060 [00:00<?, ?it/s]"
      ]
     },
     "metadata": {},
     "output_type": "display_data"
    },
    {
     "data": {
      "application/vnd.jupyter.widget-view+json": {
       "model_id": "cf6fe209466b45bb989750d7d9baed5d",
       "version_major": 2,
       "version_minor": 0
      },
      "text/plain": [
       "Cycling through SteganographyM 2 msb:   0%|          | 0/3060 [00:00<?, ?it/s]"
      ]
     },
     "metadata": {},
     "output_type": "display_data"
    },
    {
     "data": {
      "application/vnd.jupyter.widget-view+json": {
       "model_id": "3c5e6f31105d4adebe6deaef5d227dbc",
       "version_major": 2,
       "version_minor": 0
      },
      "text/plain": [
       "Cycling through SteganographyM 2 lsb:   0%|          | 0/3060 [00:00<?, ?it/s]"
      ]
     },
     "metadata": {},
     "output_type": "display_data"
    },
    {
     "data": {
      "application/vnd.jupyter.widget-view+json": {
       "model_id": "b2ddaae44ec243fcabc4f7e545de3846",
       "version_major": 2,
       "version_minor": 0
      },
      "text/plain": [
       "Cycling through SteganographyM 4 msb:   0%|          | 0/3060 [00:00<?, ?it/s]"
      ]
     },
     "metadata": {},
     "output_type": "display_data"
    },
    {
     "data": {
      "application/vnd.jupyter.widget-view+json": {
       "model_id": "64a266dc989a480b8632d46a9743f8be",
       "version_major": 2,
       "version_minor": 0
      },
      "text/plain": [
       "Cycling through SteganographyM 4 lsb:   0%|          | 0/3060 [00:00<?, ?it/s]"
      ]
     },
     "metadata": {},
     "output_type": "display_data"
    },
    {
     "data": {
      "application/vnd.jupyter.widget-view+json": {
       "model_id": "19a06b00c4fb4870b3850a2148e9d6f1",
       "version_major": 2,
       "version_minor": 0
      },
      "text/plain": [
       "Cycling through Passlok 1 msb:   0%|          | 0/1530 [00:00<?, ?it/s]"
      ]
     },
     "metadata": {},
     "output_type": "display_data"
    },
    {
     "data": {
      "application/vnd.jupyter.widget-view+json": {
       "model_id": "dd446bcde8ef44fbb200a2b5ca29d1e3",
       "version_major": 2,
       "version_minor": 0
      },
      "text/plain": [
       "Cycling through Passlok 1 lsb:   0%|          | 0/1530 [00:00<?, ?it/s]"
      ]
     },
     "metadata": {},
     "output_type": "display_data"
    },
    {
     "data": {
      "application/vnd.jupyter.widget-view+json": {
       "model_id": "71bc12862de2463da4b32cafa8d017e4",
       "version_major": 2,
       "version_minor": 0
      },
      "text/plain": [
       "Cycling through Passlok 2 msb:   0%|          | 0/1530 [00:00<?, ?it/s]"
      ]
     },
     "metadata": {},
     "output_type": "display_data"
    },
    {
     "data": {
      "application/vnd.jupyter.widget-view+json": {
       "model_id": "67ec47cf1f5a4267ae2f0653969c2ac6",
       "version_major": 2,
       "version_minor": 0
      },
      "text/plain": [
       "Cycling through Passlok 2 lsb:   0%|          | 0/1530 [00:00<?, ?it/s]"
      ]
     },
     "metadata": {},
     "output_type": "display_data"
    },
    {
     "data": {
      "application/vnd.jupyter.widget-view+json": {
       "model_id": "9bedf9aecdf64652bebd128fb9cb1d53",
       "version_major": 2,
       "version_minor": 0
      },
      "text/plain": [
       "Cycling through Passlok 4 msb:   0%|          | 0/1530 [00:00<?, ?it/s]"
      ]
     },
     "metadata": {},
     "output_type": "display_data"
    },
    {
     "data": {
      "application/vnd.jupyter.widget-view+json": {
       "model_id": "cc3189197f51448cbad04148838420d5",
       "version_major": 2,
       "version_minor": 0
      },
      "text/plain": [
       "Cycling through Passlok 4 lsb:   0%|          | 0/1530 [00:00<?, ?it/s]"
      ]
     },
     "metadata": {},
     "output_type": "display_data"
    },
    {
     "data": {
      "text/plain": [
       "[(0.0, None),\n",
       " (0.0, None),\n",
       " (0.9993464052287582, ('MobiStego', 2, 'msb', 3)),\n",
       " (0.0, None),\n",
       " (0.0, None),\n",
       " (0.0, None),\n",
       " (0.0, None),\n",
       " (0.0, None),\n",
       " (0.0, None),\n",
       " (0.0, None),\n",
       " (0.0, None),\n",
       " (0.0, None),\n",
       " (0.0, None),\n",
       " (0.0, None),\n",
       " (0.0, None),\n",
       " (0.0, None),\n",
       " (0.0, None),\n",
       " (0.0, None),\n",
       " (0.0, None),\n",
       " (0.0, None),\n",
       " (0.0, None),\n",
       " (0.0, None),\n",
       " (0.0, None),\n",
       " (0.0, None),\n",
       " (0.0, None),\n",
       " (0.0, None),\n",
       " (0.0, None),\n",
       " (0.0, None),\n",
       " (0.0, None),\n",
       " (0.0, None),\n",
       " (0.0, None),\n",
       " (0.0, None),\n",
       " (0.0, None),\n",
       " (0.0, None),\n",
       " (0.0, None),\n",
       " (0.0, None)]"
      ]
     },
     "execution_count": 6,
     "metadata": {},
     "output_type": "execute_result"
    }
   ],
   "source": [
    "MESSAGE_DIR = Path('../datasets/StegoAppDB_stegos_20240309-030352/message_dictionary')\n",
    "\n",
    "\n",
    "def find_nth_substring(haystack, needle, n):\n",
    "    start = haystack.find(needle)\n",
    "    while start >= 0 and n > 1:\n",
    "        start = haystack.find(needle, start + len(needle))\n",
    "        n -= 1\n",
    "    return start\n",
    "\n",
    "\n",
    "async def get_original_message(stego_img):\n",
    "    img_row = info_file[info_file['image_filename'] == stego_img.name]\n",
    "    msg_name = img_row['message_dictionary'].values[0]\n",
    "    starting_line_index = img_row['message_starting_index'].values[0]\n",
    "    msg_len = img_row['message_length'].values[0]\n",
    "    full_msg = (MESSAGE_DIR / msg_name).read_text()\n",
    "    start_index = find_nth_substring(full_msg, '\\n', starting_line_index - 1) + 1\n",
    "    return full_msg[start_index:start_index + msg_len].encode('utf-8')\n",
    "\n",
    "\n",
    "async def get_embedded_message(stego_img, method, bits, direction):\n",
    "    return (EMBEDDED_MESSAGES_DIR / method / f'ls{bits}b' / direction / f'{stego_img.stem}.txt').read_bytes()\n",
    "\n",
    "\n",
    "async def detect_used_method_and_bits(stego_images, path_parts):\n",
    "    method, bits, direction = path_parts\n",
    "    results = []\n",
    "    for stego_img in tqdm(stego_images, desc=f'Cycling through {method} {bits} {direction}'):\n",
    "        original_msg = await get_original_message(stego_img)\n",
    "        extracted_msg = await get_embedded_message(stego_img, method, bits, direction)\n",
    "        index = extracted_msg.find(original_msg)\n",
    "        if index != -1:\n",
    "            results.append((method, bits, direction, index))\n",
    "\n",
    "    rate = len(results) / len(stego_images)\n",
    "    results = set(results)\n",
    "    if len(results) == 1:\n",
    "        return rate, results.pop()\n",
    "    elif len(results) > 1:\n",
    "        return rate, results\n",
    "    else:\n",
    "        return rate, None\n",
    "\n",
    "\n",
    "detected_used_method_and_bits = [(rate, values) async for rate, values in for_each_image(detect_used_method_and_bits)]\n",
    "detected_used_method_and_bits"
   ]
  },
  {
   "cell_type": "code",
   "execution_count": 31,
   "id": "4dafb43c494e9c4a",
   "metadata": {
    "ExecuteTime": {
     "end_time": "2024-03-19T17:44:49.750693Z",
     "start_time": "2024-03-19T17:44:49.747819Z"
    },
    "collapsed": false,
    "jupyter": {
     "outputs_hidden": false
    }
   },
   "outputs": [],
   "source": []
  },
  {
   "cell_type": "markdown",
   "id": "e02feefce72d2f00",
   "metadata": {
    "collapsed": false,
    "jupyter": {
     "outputs_hidden": false
    }
   },
   "source": [
    "### Overlap the payloads\n",
    "\n",
    "To detect a signature, we will overlap the messages of the stego images by doing a bitwise and-operation.\n",
    "This naive approach can only detect a leading signature in the payloads.\n",
    "For detecting a signature at the end of the payloads, we need to know the payload length\n",
    "which can be calculated approximately with e.g. the RS analysis.\n",
    "\n",
    "After collecting the messages, we will overlap them by doing a bitwise and-operation and\n",
    "strip all surrounding zeros to find the signature."
   ]
  },
  {
   "cell_type": "code",
   "execution_count": null,
   "id": "7c78d65d6bcfced4",
   "metadata": {
    "collapsed": false,
    "jupyter": {
     "outputs_hidden": false
    }
   },
   "outputs": [],
   "source": [
    "def _overlap_message(acc, msg):\n",
    "    if acc.shape != msg.shape:\n",
    "        acc, msg = (acc, np.resize(msg, acc.shape)) if acc.size < msg.size else (np.resize(acc, msg.shape), msg)\n",
    "    return np.bitwise_and(acc, msg)\n",
    "\n",
    "\n",
    "async def extract_leading_sig(stego_images, bits: int = 1, direction='msb', embedding_method=None):\n",
    "    messages = (msg async for msg in extract_messages(stego_images, bits, direction, embedding_method))\n",
    "    reduced_msg = await afn.reduce(_overlap_message, messages)\n",
    "    return np.trim_zeros(reduced_msg.ravel()).tobytes()\n",
    "\n",
    "\n",
    "leading_signatures = {}\n",
    "for method, stego_images in stego_images_by_method.items():\n",
    "    leading_signatures[method] = {\n",
    "        'MSB': {}, 'LSB': {}\n",
    "    }\n",
    "    for bits in [1, 2, 4]:\n",
    "        leading_signatures[method]['MSB'][bits] = await extract_leading_sig(stego_images, bits, 'msb', method)\n",
    "        leading_signatures[method]['LSB'][bits] = await extract_leading_sig(stego_images, bits, 'lsb', method)\n",
    "\n",
    "leading_signatures"
   ]
  }
 ],
 "metadata": {
  "kernelspec": {
   "display_name": "Python 3 (ipykernel)",
   "language": "python",
   "name": "python3"
  },
  "language_info": {
   "codemirror_mode": {
    "name": "ipython",
    "version": 3
   },
   "file_extension": ".py",
   "mimetype": "text/x-python",
   "name": "python",
   "nbconvert_exporter": "python",
   "pygments_lexer": "ipython3",
   "version": "3.11.7"
  }
 },
 "nbformat": 4,
 "nbformat_minor": 5
}
