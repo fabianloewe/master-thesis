{
 "cells": [
  {
   "cell_type": "markdown",
   "source": [
    "# Imports"
   ],
   "metadata": {
    "collapsed": false
   },
   "id": "d605c3b78320b7ce"
  },
  {
   "cell_type": "code",
   "id": "initial_id",
   "metadata": {
    "collapsed": true,
    "ExecuteTime": {
     "end_time": "2024-04-11T15:13:10.212688Z",
     "start_time": "2024-04-11T15:13:10.123281Z"
    }
   },
   "source": [
    "import os\n",
    "import sys\n",
    "\n",
    "sys.path.extend(['/Users/fabianloewe/Projects/master-thesis/tools/aletheia'])\n",
    "print(sys.path)\n",
    "\n",
    "import pandas as pd\n",
    "import aletheialib.attacks as attacks\n",
    "import aletheialib.options.tools as tools"
   ],
   "outputs": [
    {
     "name": "stdout",
     "output_type": "stream",
     "text": [
      "['/Users/fabianloewe/Applications/PyCharm Professional Edition.app/Contents/plugins/python/helpers-pro/jupyter_debug', '/Users/fabianloewe/Applications/PyCharm Professional Edition.app/Contents/plugins/python/helpers/pydev', '/Users/fabianloewe/Projects/master-thesis/notebooks', '/opt/homebrew/Cellar/python@3.11/3.11.8/Frameworks/Python.framework/Versions/3.11/lib/python311.zip', '/opt/homebrew/Cellar/python@3.11/3.11.8/Frameworks/Python.framework/Versions/3.11/lib/python3.11', '/opt/homebrew/Cellar/python@3.11/3.11.8/Frameworks/Python.framework/Versions/3.11/lib/python3.11/lib-dynload', '', '/Users/fabianloewe/Projects/master-thesis/venv/lib/python3.11/site-packages', '/Users/floewe/Projects/master-thesis/tools/aletheia', '/Users/fabianloewe/Projects/master-thesis/tools/aletheia']\n"
     ]
    },
    {
     "ename": "ModuleNotFoundError",
     "evalue": "No module named 'magic'",
     "output_type": "error",
     "traceback": [
      "\u001B[0;31m---------------------------------------------------------------------------\u001B[0m",
      "\u001B[0;31mModuleNotFoundError\u001B[0m                       Traceback (most recent call last)",
      "Cell \u001B[0;32mIn[2], line 8\u001B[0m\n\u001B[1;32m      5\u001B[0m \u001B[38;5;28mprint\u001B[39m(sys\u001B[38;5;241m.\u001B[39mpath)\n\u001B[1;32m      7\u001B[0m \u001B[38;5;28;01mimport\u001B[39;00m \u001B[38;5;21;01mpandas\u001B[39;00m \u001B[38;5;28;01mas\u001B[39;00m \u001B[38;5;21;01mpd\u001B[39;00m\n\u001B[0;32m----> 8\u001B[0m \u001B[38;5;28;01mimport\u001B[39;00m \u001B[38;5;21;01maletheialib\u001B[39;00m\u001B[38;5;21;01m.\u001B[39;00m\u001B[38;5;21;01mattacks\u001B[39;00m \u001B[38;5;28;01mas\u001B[39;00m \u001B[38;5;21;01mattacks\u001B[39;00m\n\u001B[1;32m      9\u001B[0m \u001B[38;5;28;01mimport\u001B[39;00m \u001B[38;5;21;01maletheialib\u001B[39;00m\u001B[38;5;21;01m.\u001B[39;00m\u001B[38;5;21;01moptions\u001B[39;00m\u001B[38;5;21;01m.\u001B[39;00m\u001B[38;5;21;01mtools\u001B[39;00m \u001B[38;5;28;01mas\u001B[39;00m \u001B[38;5;21;01mtools\u001B[39;00m\n",
      "File \u001B[0;32m~/Projects/master-thesis/tools/aletheia/aletheialib/attacks.py:15\u001B[0m\n\u001B[1;32m     12\u001B[0m \u001B[38;5;28;01mfrom\u001B[39;00m \u001B[38;5;21;01mpathlib\u001B[39;00m \u001B[38;5;28;01mimport\u001B[39;00m Path\n\u001B[1;32m     14\u001B[0m \u001B[38;5;28;01mimport\u001B[39;00m \u001B[38;5;21;01mclick\u001B[39;00m\n\u001B[0;32m---> 15\u001B[0m \u001B[38;5;28;01mimport\u001B[39;00m \u001B[38;5;21;01mmagic\u001B[39;00m\n\u001B[1;32m     16\u001B[0m \u001B[38;5;28;01mimport\u001B[39;00m \u001B[38;5;21;01mnumpy\u001B[39;00m \u001B[38;5;28;01mas\u001B[39;00m \u001B[38;5;21;01mnp\u001B[39;00m\n\u001B[1;32m     17\u001B[0m \u001B[38;5;28;01mimport\u001B[39;00m \u001B[38;5;21;01mscipy\u001B[39;00m\u001B[38;5;21;01m.\u001B[39;00m\u001B[38;5;21;01mstats\u001B[39;00m\n",
      "\u001B[0;31mModuleNotFoundError\u001B[0m: No module named 'magic'"
     ]
    }
   ],
   "execution_count": 2
  },
  {
   "cell_type": "markdown",
   "source": [
    "# Prepare data"
   ],
   "metadata": {
    "collapsed": false
   },
   "id": "a600a026da75bb5a"
  },
  {
   "cell_type": "code",
   "source": [
    "EMBEDDING_METHODS = [\n",
    "    'MobiStego', 'Passlok', 'Pictograph', 'PixelKnot', 'PocketStego', 'SteganographyM'\n",
    "]\n",
    "\n",
    "os.chdir('/home/floewe/Projects/master-thesis/datasets/StegoAppDB_stegos_20240309-030352')\n",
    "df = pd.read_csv('./StegoAppDB_stegos_20240309-030352_stego_directory.csv')\n",
    "\n",
    "dfs = {m: df[df['embedding_method'] == m] for m in EMBEDDING_METHODS}\n",
    "dfs_image_pairs = {\n",
    "    m: list(zip(dfs[m]['cover_image_filename'], dfs[m]['stego_image_filename']))\n",
    "    for m in EMBEDDING_METHODS\n",
    "}"
   ],
   "metadata": {
    "collapsed": false
   },
   "id": "162728ca09c3becd",
   "outputs": [],
   "execution_count": null
  },
  {
   "cell_type": "markdown",
   "source": [
    "# Compute file size diffs"
   ],
   "metadata": {
    "collapsed": false
   },
   "id": "28ef9dd0ec4cf21a"
  },
  {
   "cell_type": "code",
   "source": [
    "for method, image_pairs in dfs_image_pairs.items():\n",
    "    size_diffs_df = pd.DataFrame(attacks.size_diff(image_pairs),\n",
    "                                 columns=['Cover', 'Stego', 'File Size Diff (Bytes)', 'File Size Diff (Percentage)'])\n",
    "    size_diffs_df.reset_index()\n",
    "    size_diffs_df['index'] = size_diffs_df.index\n",
    "    size_diffs_df.plot.scatter(x='index', y='File Size Diff (Percentage)', title=method)"
   ],
   "metadata": {
    "collapsed": false
   },
   "id": "1f96ff9a52a7c844",
   "outputs": [],
   "execution_count": null
  },
  {
   "cell_type": "markdown",
   "source": [],
   "metadata": {
    "collapsed": false
   },
   "id": "63f94b00bff313d5"
  }
 ],
 "metadata": {
  "kernelspec": {
   "display_name": "Python 3",
   "language": "python",
   "name": "python3"
  },
  "language_info": {
   "codemirror_mode": {
    "name": "ipython",
    "version": 2
   },
   "file_extension": ".py",
   "mimetype": "text/x-python",
   "name": "python",
   "nbconvert_exporter": "python",
   "pygments_lexer": "ipython2",
   "version": "2.7.6"
  }
 },
 "nbformat": 4,
 "nbformat_minor": 5
}
