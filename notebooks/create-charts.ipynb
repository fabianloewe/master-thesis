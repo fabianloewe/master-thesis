{
 "cells": [
  {
   "cell_type": "markdown",
   "metadata": {},
   "source": [
    "# Create a radar chart (Kiviat)"
   ]
  },
  {
   "cell_type": "code",
   "execution_count": 20,
   "metadata": {},
   "outputs": [],
   "source": [
    "from quickchart import QuickChart\n",
    "\n",
    "def create_radar_chart(data, filename):\n",
    "    qc = QuickChart()\n",
    "    qc.width = 500\n",
    "    qc.height = 300\n",
    "    qc.device_pixel_ratio = 2.0\n",
    "    qc.config = {\n",
    "        'type': 'radar',\n",
    "        'data': data,\n",
    "        'options': {\n",
    "            'elements': {\n",
    "                'line': {\n",
    "                    'borderWidth': 3\n",
    "                }\n",
    "            },\n",
    "            'scale': {\n",
    "                'ticks': {\n",
    "                    'beginAtZero': True,\n",
    "                    'min': 0,\n",
    "                    'max': 3,\n",
    "                    'stepSize': 1\n",
    "                }\n",
    "            }\n",
    "        },\n",
    "    }\n",
    "\n",
    "    qc.to_file(filename)"
   ]
  },
  {
   "cell_type": "code",
   "execution_count": 31,
   "metadata": {},
   "outputs": [],
   "source": [
    "structure_data = {\n",
    "    'labels': ['Kapazität', 'Robustheit', 'Erkennbarkeit'],\n",
    "    'datasets': [{\n",
    "        'label': 'Einbettung in Struktur',\n",
    "        'data': [3, 1, 1],\n",
    "        'fill': True,\n",
    "        'backgroundColor': 'rgba(255, 99, 132, 0.2)',\n",
    "        'borderColor': 'rgb(255, 99, 132)',\n",
    "        'pointBackgroundColor': 'rgb(255, 99, 132)',\n",
    "        'pointBorderColor': '#fff',\n",
    "        'pointHoverBackgroundColor': '#fff',\n",
    "        'pointHoverBorderColor': 'rgb(255, 99, 132)'\n",
    "    }, {\n",
    "        'label': 'Steganografie',\n",
    "        'data': [1, 3, 3],\n",
    "        'fill': True,\n",
    "        'backgroundColor': 'rgba(150, 150, 10, 0.2)',\n",
    "        'borderColor': 'rgb(150, 150, 132)',\n",
    "        'pointBackgroundColor': 'rgb(150, 150, 10)',\n",
    "        'pointBorderColor': '#fff',\n",
    "        'pointHoverBackgroundColor': '#fff',\n",
    "        'pointHoverBorderColor': 'rgb(150, 150, 10)'\n",
    "    }, {\n",
    "        'label': 'Steganografie',\n",
    "        'data': [2, 2, 2],\n",
    "        'fill': True,\n",
    "        'backgroundColor': 'rgba(250, 200, 50, 0.2)',\n",
    "        'borderColor': 'rgb(250, 200, 50)',\n",
    "        'pointBackgroundColor': 'rgb(250, 200, 50)',\n",
    "        'pointBorderColor': '#fff',\n",
    "        'pointHoverBackgroundColor': '#fff',\n",
    "        'pointHoverBorderColor': 'rgb(250, 200, 50)'\n",
    "    }]\n",
    "}\n",
    "\n",
    "create_radar_chart(structure_data, '../assets/images/abbildung_radar-verfahren.png')"
   ]
  }
 ],
 "metadata": {
  "kernelspec": {
   "display_name": "local-venv",
   "language": "python",
   "name": "local-venv"
  },
  "language_info": {
   "codemirror_mode": {
    "name": "ipython",
    "version": 3
   },
   "file_extension": ".py",
   "mimetype": "text/x-python",
   "name": "python",
   "nbconvert_exporter": "python",
   "pygments_lexer": "ipython3",
   "version": "3.11.7"
  }
 },
 "nbformat": 4,
 "nbformat_minor": 2
}
