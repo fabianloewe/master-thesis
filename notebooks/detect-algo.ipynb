{
 "cells": [
  {
   "cell_type": "markdown",
   "id": "6c9a2ab0c77f8bfc",
   "metadata": {
    "collapsed": false
   },
   "source": [
    "# Detect the payload size for LSB steganography\n",
    "\n",
    "In this notebook, different methods to detect the payload size are presented. \n",
    "The payload size is the size of the data that is being transmitted inside the stego image\n",
    "that was hidden using LSB steganography.\n",
    "\n",
    "Three methods will be presented that can be used depending on the information that is available:\n",
    "- Known message attack: If the original message is known, it is possible to detect the payload size by identifying the message in the extracted payload. This is the most reliable method but may take a while if the used LSBs are high.\n",
    "- Known stego image attack: If the stego image is known, it is possible to detect the payload size by checking how the file size changes and find the correlation between the payload size and the file size.\n",
    "- Statistical attack: Using RS analysis, it is possible to detect the payload size by analyzing the distribution of the pixel values.\n",
    "\n",
    "## Initialization\n",
    "\n",
    "First we need to import the extraction functions of [Extract LSBs](./extract-lsbs.ipynb)."
   ]
  },
  {
   "cell_type": "code",
   "execution_count": 7,
   "id": "c60f4d85554ff688",
   "metadata": {
    "collapsed": false,
    "ExecuteTime": {
     "end_time": "2024-03-25T09:00:29.997120Z",
     "start_time": "2024-03-25T09:00:29.995253Z"
    }
   },
   "outputs": [],
   "source": [
    "from tqdm.notebook import tqdm\n",
    "from pathlib import Path"
   ]
  },
  {
   "cell_type": "code",
   "execution_count": 8,
   "id": "f2872b3eeb338bfc",
   "metadata": {
    "collapsed": false,
    "ExecuteTime": {
     "end_time": "2024-03-25T09:00:31.925800Z",
     "start_time": "2024-03-25T09:00:30.022235Z"
    }
   },
   "outputs": [
    {
     "name": "stdout",
     "output_type": "stream",
     "text": [
      "Requirement already satisfied: pillow in /Users/fabianloewe/Projects/master-thesis/venv/lib/python3.11/site-packages (10.2.0)\r\n",
      "Requirement already satisfied: tqdm in /Users/fabianloewe/Projects/master-thesis/venv/lib/python3.11/site-packages (4.66.2)\r\n",
      "Requirement already satisfied: ipywidgets in /Users/fabianloewe/Projects/master-thesis/venv/lib/python3.11/site-packages (8.1.2)\r\n",
      "Requirement already satisfied: notebook in /Users/fabianloewe/Projects/master-thesis/venv/lib/python3.11/site-packages (7.0.7)\r\n",
      "Requirement already satisfied: asyncstdlib in /Users/fabianloewe/Projects/master-thesis/venv/lib/python3.11/site-packages (3.12.1)\r\n",
      "Requirement already satisfied: comm>=0.1.3 in /Users/fabianloewe/Projects/master-thesis/venv/lib/python3.11/site-packages (from ipywidgets) (0.2.1)\r\n",
      "Requirement already satisfied: ipython>=6.1.0 in /Users/fabianloewe/Projects/master-thesis/venv/lib/python3.11/site-packages (from ipywidgets) (8.21.0)\r\n",
      "Requirement already satisfied: traitlets>=4.3.1 in /Users/fabianloewe/Projects/master-thesis/venv/lib/python3.11/site-packages (from ipywidgets) (5.14.1)\r\n",
      "Requirement already satisfied: widgetsnbextension~=4.0.10 in /Users/fabianloewe/Projects/master-thesis/venv/lib/python3.11/site-packages (from ipywidgets) (4.0.10)\r\n",
      "Requirement already satisfied: jupyterlab-widgets~=3.0.10 in /Users/fabianloewe/Projects/master-thesis/venv/lib/python3.11/site-packages (from ipywidgets) (3.0.10)\r\n",
      "Requirement already satisfied: jupyter-server<3,>=2.4.0 in /Users/fabianloewe/Projects/master-thesis/venv/lib/python3.11/site-packages (from notebook) (2.12.5)\r\n",
      "Requirement already satisfied: jupyterlab-server<3,>=2.22.1 in /Users/fabianloewe/Projects/master-thesis/venv/lib/python3.11/site-packages (from notebook) (2.25.2)\r\n",
      "Requirement already satisfied: jupyterlab<5,>=4.0.2 in /Users/fabianloewe/Projects/master-thesis/venv/lib/python3.11/site-packages (from notebook) (4.1.0)\r\n",
      "Requirement already satisfied: notebook-shim<0.3,>=0.2 in /Users/fabianloewe/Projects/master-thesis/venv/lib/python3.11/site-packages (from notebook) (0.2.3)\r\n",
      "Requirement already satisfied: tornado>=6.2.0 in /Users/fabianloewe/Projects/master-thesis/venv/lib/python3.11/site-packages (from notebook) (6.4)\r\n",
      "Requirement already satisfied: decorator in /Users/fabianloewe/Projects/master-thesis/venv/lib/python3.11/site-packages (from ipython>=6.1.0->ipywidgets) (5.1.1)\r\n",
      "Requirement already satisfied: jedi>=0.16 in /Users/fabianloewe/Projects/master-thesis/venv/lib/python3.11/site-packages (from ipython>=6.1.0->ipywidgets) (0.19.1)\r\n",
      "Requirement already satisfied: matplotlib-inline in /Users/fabianloewe/Projects/master-thesis/venv/lib/python3.11/site-packages (from ipython>=6.1.0->ipywidgets) (0.1.6)\r\n",
      "Requirement already satisfied: prompt-toolkit<3.1.0,>=3.0.41 in /Users/fabianloewe/Projects/master-thesis/venv/lib/python3.11/site-packages (from ipython>=6.1.0->ipywidgets) (3.0.43)\r\n",
      "Requirement already satisfied: pygments>=2.4.0 in /Users/fabianloewe/Projects/master-thesis/venv/lib/python3.11/site-packages (from ipython>=6.1.0->ipywidgets) (2.17.2)\r\n",
      "Requirement already satisfied: stack-data in /Users/fabianloewe/Projects/master-thesis/venv/lib/python3.11/site-packages (from ipython>=6.1.0->ipywidgets) (0.6.3)\r\n",
      "Requirement already satisfied: pexpect>4.3 in /Users/fabianloewe/Projects/master-thesis/venv/lib/python3.11/site-packages (from ipython>=6.1.0->ipywidgets) (4.9.0)\r\n",
      "Requirement already satisfied: anyio>=3.1.0 in /Users/fabianloewe/Projects/master-thesis/venv/lib/python3.11/site-packages (from jupyter-server<3,>=2.4.0->notebook) (4.2.0)\r\n",
      "Requirement already satisfied: argon2-cffi in /Users/fabianloewe/Projects/master-thesis/venv/lib/python3.11/site-packages (from jupyter-server<3,>=2.4.0->notebook) (23.1.0)\r\n",
      "Requirement already satisfied: jinja2 in /Users/fabianloewe/Projects/master-thesis/venv/lib/python3.11/site-packages (from jupyter-server<3,>=2.4.0->notebook) (3.1.3)\r\n",
      "Requirement already satisfied: jupyter-client>=7.4.4 in /Users/fabianloewe/Projects/master-thesis/venv/lib/python3.11/site-packages (from jupyter-server<3,>=2.4.0->notebook) (8.6.0)\r\n",
      "Requirement already satisfied: jupyter-core!=5.0.*,>=4.12 in /Users/fabianloewe/Projects/master-thesis/venv/lib/python3.11/site-packages (from jupyter-server<3,>=2.4.0->notebook) (5.7.1)\r\n",
      "Requirement already satisfied: jupyter-events>=0.9.0 in /Users/fabianloewe/Projects/master-thesis/venv/lib/python3.11/site-packages (from jupyter-server<3,>=2.4.0->notebook) (0.9.0)\r\n",
      "Requirement already satisfied: jupyter-server-terminals in /Users/fabianloewe/Projects/master-thesis/venv/lib/python3.11/site-packages (from jupyter-server<3,>=2.4.0->notebook) (0.5.2)\r\n",
      "Requirement already satisfied: nbconvert>=6.4.4 in /Users/fabianloewe/Projects/master-thesis/venv/lib/python3.11/site-packages (from jupyter-server<3,>=2.4.0->notebook) (7.16.0)\r\n",
      "Requirement already satisfied: nbformat>=5.3.0 in /Users/fabianloewe/Projects/master-thesis/venv/lib/python3.11/site-packages (from jupyter-server<3,>=2.4.0->notebook) (5.9.2)\r\n",
      "Requirement already satisfied: overrides in /Users/fabianloewe/Projects/master-thesis/venv/lib/python3.11/site-packages (from jupyter-server<3,>=2.4.0->notebook) (7.7.0)\r\n",
      "Requirement already satisfied: packaging in /Users/fabianloewe/Projects/master-thesis/venv/lib/python3.11/site-packages (from jupyter-server<3,>=2.4.0->notebook) (23.2)\r\n",
      "Requirement already satisfied: prometheus-client in /Users/fabianloewe/Projects/master-thesis/venv/lib/python3.11/site-packages (from jupyter-server<3,>=2.4.0->notebook) (0.19.0)\r\n",
      "Requirement already satisfied: pyzmq>=24 in /Users/fabianloewe/Projects/master-thesis/venv/lib/python3.11/site-packages (from jupyter-server<3,>=2.4.0->notebook) (25.1.2)\r\n",
      "Requirement already satisfied: send2trash>=1.8.2 in /Users/fabianloewe/Projects/master-thesis/venv/lib/python3.11/site-packages (from jupyter-server<3,>=2.4.0->notebook) (1.8.2)\r\n",
      "Requirement already satisfied: terminado>=0.8.3 in /Users/fabianloewe/Projects/master-thesis/venv/lib/python3.11/site-packages (from jupyter-server<3,>=2.4.0->notebook) (0.18.0)\r\n",
      "Requirement already satisfied: websocket-client in /Users/fabianloewe/Projects/master-thesis/venv/lib/python3.11/site-packages (from jupyter-server<3,>=2.4.0->notebook) (1.7.0)\r\n",
      "Requirement already satisfied: async-lru>=1.0.0 in /Users/fabianloewe/Projects/master-thesis/venv/lib/python3.11/site-packages (from jupyterlab<5,>=4.0.2->notebook) (2.0.4)\r\n",
      "Requirement already satisfied: httpx>=0.25.0 in /Users/fabianloewe/Projects/master-thesis/venv/lib/python3.11/site-packages (from jupyterlab<5,>=4.0.2->notebook) (0.26.0)\r\n",
      "Requirement already satisfied: ipykernel in /Users/fabianloewe/Projects/master-thesis/venv/lib/python3.11/site-packages (from jupyterlab<5,>=4.0.2->notebook) (6.29.2)\r\n",
      "Requirement already satisfied: jupyter-lsp>=2.0.0 in /Users/fabianloewe/Projects/master-thesis/venv/lib/python3.11/site-packages (from jupyterlab<5,>=4.0.2->notebook) (2.2.2)\r\n",
      "Requirement already satisfied: babel>=2.10 in /Users/fabianloewe/Projects/master-thesis/venv/lib/python3.11/site-packages (from jupyterlab-server<3,>=2.22.1->notebook) (2.14.0)\r\n",
      "Requirement already satisfied: json5>=0.9.0 in /Users/fabianloewe/Projects/master-thesis/venv/lib/python3.11/site-packages (from jupyterlab-server<3,>=2.22.1->notebook) (0.9.14)\r\n",
      "Requirement already satisfied: jsonschema>=4.18.0 in /Users/fabianloewe/Projects/master-thesis/venv/lib/python3.11/site-packages (from jupyterlab-server<3,>=2.22.1->notebook) (4.21.1)\r\n",
      "Requirement already satisfied: requests>=2.31 in /Users/fabianloewe/Projects/master-thesis/venv/lib/python3.11/site-packages (from jupyterlab-server<3,>=2.22.1->notebook) (2.31.0)\r\n",
      "Requirement already satisfied: idna>=2.8 in /Users/fabianloewe/Projects/master-thesis/venv/lib/python3.11/site-packages (from anyio>=3.1.0->jupyter-server<3,>=2.4.0->notebook) (3.6)\r\n",
      "Requirement already satisfied: sniffio>=1.1 in /Users/fabianloewe/Projects/master-thesis/venv/lib/python3.11/site-packages (from anyio>=3.1.0->jupyter-server<3,>=2.4.0->notebook) (1.3.0)\r\n",
      "Requirement already satisfied: certifi in /Users/fabianloewe/Projects/master-thesis/venv/lib/python3.11/site-packages (from httpx>=0.25.0->jupyterlab<5,>=4.0.2->notebook) (2024.2.2)\r\n",
      "Requirement already satisfied: httpcore==1.* in /Users/fabianloewe/Projects/master-thesis/venv/lib/python3.11/site-packages (from httpx>=0.25.0->jupyterlab<5,>=4.0.2->notebook) (1.0.2)\r\n",
      "Requirement already satisfied: h11<0.15,>=0.13 in /Users/fabianloewe/Projects/master-thesis/venv/lib/python3.11/site-packages (from httpcore==1.*->httpx>=0.25.0->jupyterlab<5,>=4.0.2->notebook) (0.14.0)\r\n",
      "Requirement already satisfied: parso<0.9.0,>=0.8.3 in /Users/fabianloewe/Projects/master-thesis/venv/lib/python3.11/site-packages (from jedi>=0.16->ipython>=6.1.0->ipywidgets) (0.8.3)\r\n",
      "Requirement already satisfied: MarkupSafe>=2.0 in /Users/fabianloewe/Projects/master-thesis/venv/lib/python3.11/site-packages (from jinja2->jupyter-server<3,>=2.4.0->notebook) (2.1.5)\r\n",
      "Requirement already satisfied: attrs>=22.2.0 in /Users/fabianloewe/Projects/master-thesis/venv/lib/python3.11/site-packages (from jsonschema>=4.18.0->jupyterlab-server<3,>=2.22.1->notebook) (23.2.0)\r\n",
      "Requirement already satisfied: jsonschema-specifications>=2023.03.6 in /Users/fabianloewe/Projects/master-thesis/venv/lib/python3.11/site-packages (from jsonschema>=4.18.0->jupyterlab-server<3,>=2.22.1->notebook) (2023.12.1)\r\n",
      "Requirement already satisfied: referencing>=0.28.4 in /Users/fabianloewe/Projects/master-thesis/venv/lib/python3.11/site-packages (from jsonschema>=4.18.0->jupyterlab-server<3,>=2.22.1->notebook) (0.33.0)\r\n",
      "Requirement already satisfied: rpds-py>=0.7.1 in /Users/fabianloewe/Projects/master-thesis/venv/lib/python3.11/site-packages (from jsonschema>=4.18.0->jupyterlab-server<3,>=2.22.1->notebook) (0.17.1)\r\n",
      "Requirement already satisfied: python-dateutil>=2.8.2 in /Users/fabianloewe/Projects/master-thesis/venv/lib/python3.11/site-packages (from jupyter-client>=7.4.4->jupyter-server<3,>=2.4.0->notebook) (2.8.2)\r\n",
      "Requirement already satisfied: platformdirs>=2.5 in /Users/fabianloewe/Projects/master-thesis/venv/lib/python3.11/site-packages (from jupyter-core!=5.0.*,>=4.12->jupyter-server<3,>=2.4.0->notebook) (4.2.0)\r\n",
      "Requirement already satisfied: python-json-logger>=2.0.4 in /Users/fabianloewe/Projects/master-thesis/venv/lib/python3.11/site-packages (from jupyter-events>=0.9.0->jupyter-server<3,>=2.4.0->notebook) (2.0.7)\r\n",
      "Requirement already satisfied: pyyaml>=5.3 in /Users/fabianloewe/Projects/master-thesis/venv/lib/python3.11/site-packages (from jupyter-events>=0.9.0->jupyter-server<3,>=2.4.0->notebook) (6.0.1)\r\n",
      "Requirement already satisfied: rfc3339-validator in /Users/fabianloewe/Projects/master-thesis/venv/lib/python3.11/site-packages (from jupyter-events>=0.9.0->jupyter-server<3,>=2.4.0->notebook) (0.1.4)\r\n",
      "Requirement already satisfied: rfc3986-validator>=0.1.1 in /Users/fabianloewe/Projects/master-thesis/venv/lib/python3.11/site-packages (from jupyter-events>=0.9.0->jupyter-server<3,>=2.4.0->notebook) (0.1.1)\r\n",
      "Requirement already satisfied: beautifulsoup4 in /Users/fabianloewe/Projects/master-thesis/venv/lib/python3.11/site-packages (from nbconvert>=6.4.4->jupyter-server<3,>=2.4.0->notebook) (4.12.3)\r\n",
      "Requirement already satisfied: bleach!=5.0.0 in /Users/fabianloewe/Projects/master-thesis/venv/lib/python3.11/site-packages (from nbconvert>=6.4.4->jupyter-server<3,>=2.4.0->notebook) (6.1.0)\r\n",
      "Requirement already satisfied: defusedxml in /Users/fabianloewe/Projects/master-thesis/venv/lib/python3.11/site-packages (from nbconvert>=6.4.4->jupyter-server<3,>=2.4.0->notebook) (0.7.1)\r\n",
      "Requirement already satisfied: jupyterlab-pygments in /Users/fabianloewe/Projects/master-thesis/venv/lib/python3.11/site-packages (from nbconvert>=6.4.4->jupyter-server<3,>=2.4.0->notebook) (0.3.0)\r\n",
      "Requirement already satisfied: mistune<4,>=2.0.3 in /Users/fabianloewe/Projects/master-thesis/venv/lib/python3.11/site-packages (from nbconvert>=6.4.4->jupyter-server<3,>=2.4.0->notebook) (3.0.2)\r\n",
      "Requirement already satisfied: nbclient>=0.5.0 in /Users/fabianloewe/Projects/master-thesis/venv/lib/python3.11/site-packages (from nbconvert>=6.4.4->jupyter-server<3,>=2.4.0->notebook) (0.9.0)\r\n",
      "Requirement already satisfied: pandocfilters>=1.4.1 in /Users/fabianloewe/Projects/master-thesis/venv/lib/python3.11/site-packages (from nbconvert>=6.4.4->jupyter-server<3,>=2.4.0->notebook) (1.5.1)\r\n",
      "Requirement already satisfied: tinycss2 in /Users/fabianloewe/Projects/master-thesis/venv/lib/python3.11/site-packages (from nbconvert>=6.4.4->jupyter-server<3,>=2.4.0->notebook) (1.2.1)\r\n",
      "Requirement already satisfied: fastjsonschema in /Users/fabianloewe/Projects/master-thesis/venv/lib/python3.11/site-packages (from nbformat>=5.3.0->jupyter-server<3,>=2.4.0->notebook) (2.19.1)\r\n",
      "Requirement already satisfied: ptyprocess>=0.5 in /Users/fabianloewe/Projects/master-thesis/venv/lib/python3.11/site-packages (from pexpect>4.3->ipython>=6.1.0->ipywidgets) (0.7.0)\r\n",
      "Requirement already satisfied: wcwidth in /Users/fabianloewe/Projects/master-thesis/venv/lib/python3.11/site-packages (from prompt-toolkit<3.1.0,>=3.0.41->ipython>=6.1.0->ipywidgets) (0.2.13)\r\n",
      "Requirement already satisfied: charset-normalizer<4,>=2 in /Users/fabianloewe/Projects/master-thesis/venv/lib/python3.11/site-packages (from requests>=2.31->jupyterlab-server<3,>=2.22.1->notebook) (3.3.2)\r\n",
      "Requirement already satisfied: urllib3<3,>=1.21.1 in /Users/fabianloewe/Projects/master-thesis/venv/lib/python3.11/site-packages (from requests>=2.31->jupyterlab-server<3,>=2.22.1->notebook) (2.2.0)\r\n",
      "Requirement already satisfied: argon2-cffi-bindings in /Users/fabianloewe/Projects/master-thesis/venv/lib/python3.11/site-packages (from argon2-cffi->jupyter-server<3,>=2.4.0->notebook) (21.2.0)\r\n",
      "Requirement already satisfied: appnope in /Users/fabianloewe/Projects/master-thesis/venv/lib/python3.11/site-packages (from ipykernel->jupyterlab<5,>=4.0.2->notebook) (0.1.4)\r\n",
      "Requirement already satisfied: debugpy>=1.6.5 in /Users/fabianloewe/Projects/master-thesis/venv/lib/python3.11/site-packages (from ipykernel->jupyterlab<5,>=4.0.2->notebook) (1.8.1)\r\n",
      "Requirement already satisfied: nest-asyncio in /Users/fabianloewe/Projects/master-thesis/venv/lib/python3.11/site-packages (from ipykernel->jupyterlab<5,>=4.0.2->notebook) (1.6.0)\r\n",
      "Requirement already satisfied: psutil in /Users/fabianloewe/Projects/master-thesis/venv/lib/python3.11/site-packages (from ipykernel->jupyterlab<5,>=4.0.2->notebook) (5.9.8)\r\n",
      "Requirement already satisfied: executing>=1.2.0 in /Users/fabianloewe/Projects/master-thesis/venv/lib/python3.11/site-packages (from stack-data->ipython>=6.1.0->ipywidgets) (2.0.1)\r\n",
      "Requirement already satisfied: asttokens>=2.1.0 in /Users/fabianloewe/Projects/master-thesis/venv/lib/python3.11/site-packages (from stack-data->ipython>=6.1.0->ipywidgets) (2.4.1)\r\n",
      "Requirement already satisfied: pure-eval in /Users/fabianloewe/Projects/master-thesis/venv/lib/python3.11/site-packages (from stack-data->ipython>=6.1.0->ipywidgets) (0.2.2)\r\n",
      "Requirement already satisfied: six>=1.12.0 in /Users/fabianloewe/Projects/master-thesis/venv/lib/python3.11/site-packages (from asttokens>=2.1.0->stack-data->ipython>=6.1.0->ipywidgets) (1.16.0)\r\n",
      "Requirement already satisfied: webencodings in /Users/fabianloewe/Projects/master-thesis/venv/lib/python3.11/site-packages (from bleach!=5.0.0->nbconvert>=6.4.4->jupyter-server<3,>=2.4.0->notebook) (0.5.1)\r\n",
      "Requirement already satisfied: fqdn in /Users/fabianloewe/Projects/master-thesis/venv/lib/python3.11/site-packages (from jsonschema[format-nongpl]>=4.18.0->jupyter-events>=0.9.0->jupyter-server<3,>=2.4.0->notebook) (1.5.1)\r\n",
      "Requirement already satisfied: isoduration in /Users/fabianloewe/Projects/master-thesis/venv/lib/python3.11/site-packages (from jsonschema[format-nongpl]>=4.18.0->jupyter-events>=0.9.0->jupyter-server<3,>=2.4.0->notebook) (20.11.0)\r\n",
      "Requirement already satisfied: jsonpointer>1.13 in /Users/fabianloewe/Projects/master-thesis/venv/lib/python3.11/site-packages (from jsonschema[format-nongpl]>=4.18.0->jupyter-events>=0.9.0->jupyter-server<3,>=2.4.0->notebook) (2.4)\r\n",
      "Requirement already satisfied: uri-template in /Users/fabianloewe/Projects/master-thesis/venv/lib/python3.11/site-packages (from jsonschema[format-nongpl]>=4.18.0->jupyter-events>=0.9.0->jupyter-server<3,>=2.4.0->notebook) (1.3.0)\r\n",
      "Requirement already satisfied: webcolors>=1.11 in /Users/fabianloewe/Projects/master-thesis/venv/lib/python3.11/site-packages (from jsonschema[format-nongpl]>=4.18.0->jupyter-events>=0.9.0->jupyter-server<3,>=2.4.0->notebook) (1.13)\r\n",
      "Requirement already satisfied: cffi>=1.0.1 in /Users/fabianloewe/Projects/master-thesis/venv/lib/python3.11/site-packages (from argon2-cffi-bindings->argon2-cffi->jupyter-server<3,>=2.4.0->notebook) (1.16.0)\r\n",
      "Requirement already satisfied: soupsieve>1.2 in /Users/fabianloewe/Projects/master-thesis/venv/lib/python3.11/site-packages (from beautifulsoup4->nbconvert>=6.4.4->jupyter-server<3,>=2.4.0->notebook) (2.5)\r\n",
      "Requirement already satisfied: pycparser in /Users/fabianloewe/Projects/master-thesis/venv/lib/python3.11/site-packages (from cffi>=1.0.1->argon2-cffi-bindings->argon2-cffi->jupyter-server<3,>=2.4.0->notebook) (2.21)\r\n",
      "Requirement already satisfied: arrow>=0.15.0 in /Users/fabianloewe/Projects/master-thesis/venv/lib/python3.11/site-packages (from isoduration->jsonschema[format-nongpl]>=4.18.0->jupyter-events>=0.9.0->jupyter-server<3,>=2.4.0->notebook) (1.3.0)\r\n",
      "Requirement already satisfied: types-python-dateutil>=2.8.10 in /Users/fabianloewe/Projects/master-thesis/venv/lib/python3.11/site-packages (from arrow>=0.15.0->isoduration->jsonschema[format-nongpl]>=4.18.0->jupyter-events>=0.9.0->jupyter-server<3,>=2.4.0->notebook) (2.8.19.20240106)\r\n",
      "Note: you may need to restart the kernel to use updated packages.\n",
      "usage: jupyter [-h] [--version] [--config-dir] [--data-dir] [--runtime-dir]\r\n",
      "               [--paths] [--json] [--debug]\r\n",
      "               [subcommand]\r\n",
      "\r\n",
      "Jupyter: Interactive Computing\r\n",
      "\r\n",
      "positional arguments:\r\n",
      "  subcommand     the subcommand to launch\r\n",
      "\r\n",
      "options:\r\n",
      "  -h, --help     show this help message and exit\r\n",
      "  --version      show the versions of core jupyter packages and exit\r\n",
      "  --config-dir   show Jupyter config dir\r\n",
      "  --data-dir     show Jupyter data dir\r\n",
      "  --runtime-dir  show Jupyter runtime dir\r\n",
      "  --paths        show all Jupyter paths. Add --json for machine-readable\r\n",
      "                 format.\r\n",
      "  --json         output paths as machine-readable json\r\n",
      "  --debug        output debug information about paths\r\n",
      "\r\n",
      "Available subcommands: dejavu events execute kernel kernelspec lab\r\n",
      "labextension labhub migrate nbconvert notebook run server troubleshoot trust\r\n",
      "\r\n",
      "Jupyter command `jupyter-nbextension` not found.\r\n",
      "Found the following embedding methods: MobiStego, PixelKnot, PocketStego, Pictograph, SteganographyM, Passlok\n"
     ]
    }
   ],
   "source": [
    "%run extract-lsbs.ipynb"
   ]
  },
  {
   "cell_type": "code",
   "execution_count": 9,
   "id": "f64389feb6e6fd3d",
   "metadata": {
    "collapsed": false,
    "ExecuteTime": {
     "end_time": "2024-03-25T09:00:31.929562Z",
     "start_time": "2024-03-25T09:00:31.927114Z"
    }
   },
   "outputs": [],
   "source": [
    "async def for_each_image(func, take=None, filter_methods=None):\n",
    "    \"\"\"Helper function to iterate over all stego images and apply a function to them.\"\"\"\n",
    "    filter_methods = (lambda x: True) if filter_methods is None else filter_methods\n",
    "\n",
    "    for method, stego_images in stego_images_by_method.items():\n",
    "        if not filter_methods(method):\n",
    "            continue\n",
    "\n",
    "        for channels in ['RGB', 'RGBA', 'A', 'R', 'G', 'B']: # Sorted by most likely occurence; other combination possible\n",
    "            for bits in [1, 2, 4]: # Other bits (e.g. 3) possible but higher computation time\n",
    "                for direction in ['msb', 'lsb']:\n",
    "                    yield await func(stego_images[:take] if take is not None else stego_images, (method, channels, bits, direction))"
   ]
  },
  {
   "cell_type": "markdown",
   "id": "d4806b37527f6ef3",
   "metadata": {
    "collapsed": false
   },
   "source": [
    "## Known message attack"
   ]
  },
  {
   "cell_type": "code",
   "execution_count": 10,
   "id": "bea3ac8191fb383d",
   "metadata": {
    "collapsed": false,
    "ExecuteTime": {
     "end_time": "2024-03-25T09:00:31.933357Z",
     "start_time": "2024-03-25T09:00:31.930641Z"
    }
   },
   "outputs": [],
   "source": [
    "EMBEDDED_MESSAGES_DIR = Path('./data/embedded_messages')\n",
    "\n",
    "\n",
    "async def save_embedded_messages(base_dir=EMBEDDED_MESSAGES_DIR):\n",
    "    async def handler(stego_images, path_parts):\n",
    "        method, channels, bits, direction = path_parts\n",
    "        sub_dir = base_dir / method / channels / f'ls{bits}b' / direction\n",
    "        if sub_dir.exists():\n",
    "            return\n",
    "\n",
    "        sub_dir.mkdir(parents=True, exist_ok=True)\n",
    "        async for stego_img, msg in extract_messages(stego_images, bits, direction, method):\n",
    "            img_name = stego_img.stem\n",
    "            msg_file = sub_dir / f'{img_name}.txt'\n",
    "            if msg_file.exists():\n",
    "                continue\n",
    "\n",
    "            msg_file.write_bytes(msg.tobytes())\n",
    "\n",
    "    _ = [_ async for _ in for_each_image(handler)]"
   ]
  },
  {
   "cell_type": "code",
   "execution_count": 11,
   "id": "811ed8db2abeaca9",
   "metadata": {
    "collapsed": false,
    "ExecuteTime": {
     "end_time": "2024-03-25T09:00:36.042747Z",
     "start_time": "2024-03-25T09:00:31.934464Z"
    }
   },
   "outputs": [
    {
     "data": {
      "text/plain": "Cycling through PocketStego RGB 1-LSB MSB:   0%|          | 0/10 [00:00<?, ?it/s]",
      "application/vnd.jupyter.widget-view+json": {
       "version_major": 2,
       "version_minor": 0,
       "model_id": "9e378c3dda28414dbe2e61f44b857424"
      }
     },
     "metadata": {},
     "output_type": "display_data"
    },
    {
     "data": {
      "text/plain": "Cycling through PocketStego RGB 1-LSB LSB:   0%|          | 0/10 [00:00<?, ?it/s]",
      "application/vnd.jupyter.widget-view+json": {
       "version_major": 2,
       "version_minor": 0,
       "model_id": "a4946182cf024d7b91c28aa13cf2ab2c"
      }
     },
     "metadata": {},
     "output_type": "display_data"
    },
    {
     "data": {
      "text/plain": "Cycling through PocketStego RGB 2-LSB MSB:   0%|          | 0/10 [00:00<?, ?it/s]",
      "application/vnd.jupyter.widget-view+json": {
       "version_major": 2,
       "version_minor": 0,
       "model_id": "096a891c8a734ccc86caa2d5ccf387d9"
      }
     },
     "metadata": {},
     "output_type": "display_data"
    },
    {
     "data": {
      "text/plain": "Cycling through PocketStego RGB 2-LSB LSB:   0%|          | 0/10 [00:00<?, ?it/s]",
      "application/vnd.jupyter.widget-view+json": {
       "version_major": 2,
       "version_minor": 0,
       "model_id": "74ccf000250c4368b64cc0f247186b7b"
      }
     },
     "metadata": {},
     "output_type": "display_data"
    },
    {
     "data": {
      "text/plain": "Cycling through PocketStego RGB 4-LSB MSB:   0%|          | 0/10 [00:00<?, ?it/s]",
      "application/vnd.jupyter.widget-view+json": {
       "version_major": 2,
       "version_minor": 0,
       "model_id": "0a21a5fb99b44085b78257cc9b732770"
      }
     },
     "metadata": {},
     "output_type": "display_data"
    },
    {
     "data": {
      "text/plain": "Cycling through PocketStego RGB 4-LSB LSB:   0%|          | 0/10 [00:00<?, ?it/s]",
      "application/vnd.jupyter.widget-view+json": {
       "version_major": 2,
       "version_minor": 0,
       "model_id": "b2354a0bbe924bd089dbdd049b26da97"
      }
     },
     "metadata": {},
     "output_type": "display_data"
    },
    {
     "data": {
      "text/plain": "Cycling through PocketStego RGBA 1-LSB MSB:   0%|          | 0/10 [00:00<?, ?it/s]",
      "application/vnd.jupyter.widget-view+json": {
       "version_major": 2,
       "version_minor": 0,
       "model_id": "0776ba170632434092db63e3533c94d8"
      }
     },
     "metadata": {},
     "output_type": "display_data"
    },
    {
     "data": {
      "text/plain": "Cycling through PocketStego RGBA 1-LSB LSB:   0%|          | 0/10 [00:00<?, ?it/s]",
      "application/vnd.jupyter.widget-view+json": {
       "version_major": 2,
       "version_minor": 0,
       "model_id": "22c00fe4c29d4061ae1cf8163d1a0a21"
      }
     },
     "metadata": {},
     "output_type": "display_data"
    },
    {
     "data": {
      "text/plain": "Cycling through PocketStego RGBA 2-LSB MSB:   0%|          | 0/10 [00:00<?, ?it/s]",
      "application/vnd.jupyter.widget-view+json": {
       "version_major": 2,
       "version_minor": 0,
       "model_id": "9c2782ba64a44e859b906995e530d3e9"
      }
     },
     "metadata": {},
     "output_type": "display_data"
    },
    {
     "data": {
      "text/plain": "Cycling through PocketStego RGBA 2-LSB LSB:   0%|          | 0/10 [00:00<?, ?it/s]",
      "application/vnd.jupyter.widget-view+json": {
       "version_major": 2,
       "version_minor": 0,
       "model_id": "e2a319965a064fadb3b582f739197116"
      }
     },
     "metadata": {},
     "output_type": "display_data"
    },
    {
     "data": {
      "text/plain": "Cycling through PocketStego RGBA 4-LSB MSB:   0%|          | 0/10 [00:00<?, ?it/s]",
      "application/vnd.jupyter.widget-view+json": {
       "version_major": 2,
       "version_minor": 0,
       "model_id": "6360d5f4dd094f5dbeea145cfbc973c8"
      }
     },
     "metadata": {},
     "output_type": "display_data"
    },
    {
     "data": {
      "text/plain": "Cycling through PocketStego RGBA 4-LSB LSB:   0%|          | 0/10 [00:00<?, ?it/s]",
      "application/vnd.jupyter.widget-view+json": {
       "version_major": 2,
       "version_minor": 0,
       "model_id": "baa77eca6a904f9799786e3803a928dc"
      }
     },
     "metadata": {},
     "output_type": "display_data"
    },
    {
     "data": {
      "text/plain": "Cycling through PocketStego A 1-LSB MSB:   0%|          | 0/10 [00:00<?, ?it/s]",
      "application/vnd.jupyter.widget-view+json": {
       "version_major": 2,
       "version_minor": 0,
       "model_id": "1ea534453b264058b4c7cd99863e5289"
      }
     },
     "metadata": {},
     "output_type": "display_data"
    },
    {
     "data": {
      "text/plain": "Cycling through PocketStego A 1-LSB LSB:   0%|          | 0/10 [00:00<?, ?it/s]",
      "application/vnd.jupyter.widget-view+json": {
       "version_major": 2,
       "version_minor": 0,
       "model_id": "7b5ce62a645f42d7b9d0e236d9084f8a"
      }
     },
     "metadata": {},
     "output_type": "display_data"
    },
    {
     "data": {
      "text/plain": "Cycling through PocketStego A 2-LSB MSB:   0%|          | 0/10 [00:00<?, ?it/s]",
      "application/vnd.jupyter.widget-view+json": {
       "version_major": 2,
       "version_minor": 0,
       "model_id": "6934143188614aecbe137952d1f21f8e"
      }
     },
     "metadata": {},
     "output_type": "display_data"
    },
    {
     "data": {
      "text/plain": "Cycling through PocketStego A 2-LSB LSB:   0%|          | 0/10 [00:00<?, ?it/s]",
      "application/vnd.jupyter.widget-view+json": {
       "version_major": 2,
       "version_minor": 0,
       "model_id": "f5813f9a7af24b5a80ffdd0c946b7b4e"
      }
     },
     "metadata": {},
     "output_type": "display_data"
    },
    {
     "data": {
      "text/plain": "Cycling through PocketStego A 4-LSB MSB:   0%|          | 0/10 [00:00<?, ?it/s]",
      "application/vnd.jupyter.widget-view+json": {
       "version_major": 2,
       "version_minor": 0,
       "model_id": "e13420a04d4a4499b5f926eca679c82a"
      }
     },
     "metadata": {},
     "output_type": "display_data"
    },
    {
     "data": {
      "text/plain": "Cycling through PocketStego A 4-LSB LSB:   0%|          | 0/10 [00:00<?, ?it/s]",
      "application/vnd.jupyter.widget-view+json": {
       "version_major": 2,
       "version_minor": 0,
       "model_id": "134d30f03f2e42a0a266b48b0843ebc1"
      }
     },
     "metadata": {},
     "output_type": "display_data"
    },
    {
     "data": {
      "text/plain": "Cycling through PocketStego R 1-LSB MSB:   0%|          | 0/10 [00:00<?, ?it/s]",
      "application/vnd.jupyter.widget-view+json": {
       "version_major": 2,
       "version_minor": 0,
       "model_id": "4debbe2e0808493f908a768b0af71477"
      }
     },
     "metadata": {},
     "output_type": "display_data"
    },
    {
     "data": {
      "text/plain": "Cycling through PocketStego R 1-LSB LSB:   0%|          | 0/10 [00:00<?, ?it/s]",
      "application/vnd.jupyter.widget-view+json": {
       "version_major": 2,
       "version_minor": 0,
       "model_id": "bc333b3bcffd47ba811ccd60362b473a"
      }
     },
     "metadata": {},
     "output_type": "display_data"
    },
    {
     "data": {
      "text/plain": "Cycling through PocketStego R 2-LSB MSB:   0%|          | 0/10 [00:00<?, ?it/s]",
      "application/vnd.jupyter.widget-view+json": {
       "version_major": 2,
       "version_minor": 0,
       "model_id": "5420a3341c28479a932f71222c544369"
      }
     },
     "metadata": {},
     "output_type": "display_data"
    },
    {
     "data": {
      "text/plain": "Cycling through PocketStego R 2-LSB LSB:   0%|          | 0/10 [00:00<?, ?it/s]",
      "application/vnd.jupyter.widget-view+json": {
       "version_major": 2,
       "version_minor": 0,
       "model_id": "1710ea2c6eef4e82bef7f3da2555a01e"
      }
     },
     "metadata": {},
     "output_type": "display_data"
    },
    {
     "data": {
      "text/plain": "Cycling through PocketStego R 4-LSB MSB:   0%|          | 0/10 [00:00<?, ?it/s]",
      "application/vnd.jupyter.widget-view+json": {
       "version_major": 2,
       "version_minor": 0,
       "model_id": "d24611f551414990abe18e6a7a184351"
      }
     },
     "metadata": {},
     "output_type": "display_data"
    },
    {
     "data": {
      "text/plain": "Cycling through PocketStego R 4-LSB LSB:   0%|          | 0/10 [00:00<?, ?it/s]",
      "application/vnd.jupyter.widget-view+json": {
       "version_major": 2,
       "version_minor": 0,
       "model_id": "93843fee0f764deeae5d65ae8871aa4e"
      }
     },
     "metadata": {},
     "output_type": "display_data"
    },
    {
     "data": {
      "text/plain": "Cycling through PocketStego G 1-LSB MSB:   0%|          | 0/10 [00:00<?, ?it/s]",
      "application/vnd.jupyter.widget-view+json": {
       "version_major": 2,
       "version_minor": 0,
       "model_id": "d3b61d683ff14a2496e733b1ba2f4894"
      }
     },
     "metadata": {},
     "output_type": "display_data"
    },
    {
     "data": {
      "text/plain": "Cycling through PocketStego G 1-LSB LSB:   0%|          | 0/10 [00:00<?, ?it/s]",
      "application/vnd.jupyter.widget-view+json": {
       "version_major": 2,
       "version_minor": 0,
       "model_id": "24a3bf631a344b9ba71e9c2527870d14"
      }
     },
     "metadata": {},
     "output_type": "display_data"
    },
    {
     "data": {
      "text/plain": "Cycling through PocketStego G 2-LSB MSB:   0%|          | 0/10 [00:00<?, ?it/s]",
      "application/vnd.jupyter.widget-view+json": {
       "version_major": 2,
       "version_minor": 0,
       "model_id": "dacd60c3f17741b087dddeef35e507d3"
      }
     },
     "metadata": {},
     "output_type": "display_data"
    },
    {
     "data": {
      "text/plain": "Cycling through PocketStego G 2-LSB LSB:   0%|          | 0/10 [00:00<?, ?it/s]",
      "application/vnd.jupyter.widget-view+json": {
       "version_major": 2,
       "version_minor": 0,
       "model_id": "76083773423b4ba8a7ffc2380b0697b5"
      }
     },
     "metadata": {},
     "output_type": "display_data"
    },
    {
     "data": {
      "text/plain": "Cycling through PocketStego G 4-LSB MSB:   0%|          | 0/10 [00:00<?, ?it/s]",
      "application/vnd.jupyter.widget-view+json": {
       "version_major": 2,
       "version_minor": 0,
       "model_id": "bc675c29eb404e7591a93af7fc00198b"
      }
     },
     "metadata": {},
     "output_type": "display_data"
    },
    {
     "data": {
      "text/plain": "Cycling through PocketStego G 4-LSB LSB:   0%|          | 0/10 [00:00<?, ?it/s]",
      "application/vnd.jupyter.widget-view+json": {
       "version_major": 2,
       "version_minor": 0,
       "model_id": "01ce186340bd43189872701e113b38e9"
      }
     },
     "metadata": {},
     "output_type": "display_data"
    },
    {
     "data": {
      "text/plain": "Cycling through PocketStego B 1-LSB MSB:   0%|          | 0/10 [00:00<?, ?it/s]",
      "application/vnd.jupyter.widget-view+json": {
       "version_major": 2,
       "version_minor": 0,
       "model_id": "ce15cbf7597141c19c335bd664230a97"
      }
     },
     "metadata": {},
     "output_type": "display_data"
    },
    {
     "data": {
      "text/plain": "Cycling through PocketStego B 1-LSB LSB:   0%|          | 0/10 [00:00<?, ?it/s]",
      "application/vnd.jupyter.widget-view+json": {
       "version_major": 2,
       "version_minor": 0,
       "model_id": "c6b9db1ae32d423a9264b78a60f36bb2"
      }
     },
     "metadata": {},
     "output_type": "display_data"
    },
    {
     "data": {
      "text/plain": "Cycling through PocketStego B 2-LSB MSB:   0%|          | 0/10 [00:00<?, ?it/s]",
      "application/vnd.jupyter.widget-view+json": {
       "version_major": 2,
       "version_minor": 0,
       "model_id": "5d015454eb1a41659d9270a885e9c444"
      }
     },
     "metadata": {},
     "output_type": "display_data"
    },
    {
     "data": {
      "text/plain": "Cycling through PocketStego B 2-LSB LSB:   0%|          | 0/10 [00:00<?, ?it/s]",
      "application/vnd.jupyter.widget-view+json": {
       "version_major": 2,
       "version_minor": 0,
       "model_id": "4f3ddf38e24e4bf5a4d291f98431c0eb"
      }
     },
     "metadata": {},
     "output_type": "display_data"
    },
    {
     "data": {
      "text/plain": "Cycling through PocketStego B 4-LSB MSB:   0%|          | 0/10 [00:00<?, ?it/s]",
      "application/vnd.jupyter.widget-view+json": {
       "version_major": 2,
       "version_minor": 0,
       "model_id": "44952f5fce45443f8af1b79a3d90c119"
      }
     },
     "metadata": {},
     "output_type": "display_data"
    },
    {
     "data": {
      "text/plain": "Cycling through PocketStego B 4-LSB LSB:   0%|          | 0/10 [00:00<?, ?it/s]",
      "application/vnd.jupyter.widget-view+json": {
       "version_major": 2,
       "version_minor": 0,
       "model_id": "b1b64ea3c84348cb8c7f0fd85f73d0dd"
      }
     },
     "metadata": {},
     "output_type": "display_data"
    },
    {
     "data": {
      "text/plain": "[]"
     },
     "execution_count": 11,
     "metadata": {},
     "output_type": "execute_result"
    }
   ],
   "source": [
    "MESSAGE_DIR = Path('../datasets/StegoAppDB_stegos_20240309-030352/message_dictionary')\n",
    "\n",
    "\n",
    "def find_nth_substring(haystack, needle, n):\n",
    "    start = haystack.find(needle)\n",
    "    while start >= 0 and n > 1:\n",
    "        start = haystack.find(needle, start + len(needle))\n",
    "        n -= 1\n",
    "    return start\n",
    "\n",
    "\n",
    "async def get_original_message(stego_img):\n",
    "    img_row = info_file[info_file['image_filename'] == stego_img.name]\n",
    "    msg_name = img_row['message_dictionary'].values[0]\n",
    "    starting_line_index = img_row['message_starting_index'].values[0]\n",
    "    msg_len = img_row['message_length'].values[0]\n",
    "    full_msg = (MESSAGE_DIR / msg_name).read_text()\n",
    "    start_index = find_nth_substring(full_msg, '\\n', starting_line_index - 1) + 1\n",
    "    return full_msg[start_index:start_index + msg_len].encode('utf-8')\n",
    "\n",
    "\n",
    "async def get_embedded_message(stego_img, bits, direction, channels):\n",
    "    return extract_message(stego_img, bits, direction, channels=channels).tobytes()\n",
    "\n",
    "\n",
    "async def detect_used_method_and_bits(stego_images, path_parts):\n",
    "    method, channels, bits, direction = path_parts\n",
    "    results = []\n",
    "    for stego_img in tqdm(stego_images, desc=f'Cycling through {method} {channels} {bits}-LSB {direction.upper()}'):\n",
    "        original_msg = await get_original_message(stego_img)\n",
    "        extracted_msg = await get_embedded_message(stego_img, bits, direction, channels)\n",
    "        index = extracted_msg.find(original_msg)\n",
    "        if index != -1:\n",
    "            results.append((method, bits, direction, index))\n",
    "\n",
    "    rate = len(results) / len(stego_images)\n",
    "    results = set(results)\n",
    "    if len(results) == 1:\n",
    "        return rate, results.pop()\n",
    "    elif len(results) > 1:\n",
    "        return rate, results\n",
    "    else:\n",
    "        return rate, None\n",
    "\n",
    "\n",
    "#detected_used_method_and_bits = await detect_used_method_and_bits(\n",
    "#    stego_images_by_method['PocketStego'][:10],\n",
    "#    ('PocketStego', 'B', 1, 'MSB')\n",
    "#)\n",
    "detected_used_method_and_bits = [\n",
    "    (rate, values) \n",
    "    async for rate, values in for_each_image(detect_used_method_and_bits, take=10, filter_methods=lambda m: m == 'PocketStego') \n",
    "    if values is not None\n",
    "]\n",
    "detected_used_method_and_bits"
   ]
  },
  {
   "cell_type": "markdown",
   "id": "e02feefce72d2f00",
   "metadata": {
    "collapsed": false
   },
   "source": [
    "### Overlap the payloads\n",
    "\n",
    "To detect a signature, we will overlap the messages of the stego images by doing a bitwise and-operation.\n",
    "This naive approach can only detect a leading signature in the payloads.\n",
    "For detecting a signature at the end of the payloads, we need to know the payload length\n",
    "which can be calculated approximately with e.g. the RS analysis.\n",
    "\n",
    "After collecting the messages, we will overlap them by doing a bitwise and-operation and\n",
    "strip all surrounding zeros to find the signature."
   ]
  },
  {
   "cell_type": "code",
   "execution_count": 12,
   "id": "7c78d65d6bcfced4",
   "metadata": {
    "collapsed": false,
    "ExecuteTime": {
     "end_time": "2024-03-25T09:00:36.105656Z",
     "start_time": "2024-03-25T09:00:36.044444Z"
    }
   },
   "outputs": [
    {
     "ename": "TypeError",
     "evalue": "argument of type 'NoneType' is not iterable",
     "output_type": "error",
     "traceback": [
      "\u001B[0;31m---------------------------------------------------------------------------\u001B[0m",
      "\u001B[0;31mTypeError\u001B[0m                                 Traceback (most recent call last)",
      "Cell \u001B[0;32mIn[12], line 19\u001B[0m\n\u001B[1;32m     15\u001B[0m     leading_signatures[method] \u001B[38;5;241m=\u001B[39m {\n\u001B[1;32m     16\u001B[0m         \u001B[38;5;124m'\u001B[39m\u001B[38;5;124mMSB\u001B[39m\u001B[38;5;124m'\u001B[39m: {}, \u001B[38;5;124m'\u001B[39m\u001B[38;5;124mLSB\u001B[39m\u001B[38;5;124m'\u001B[39m: {}\n\u001B[1;32m     17\u001B[0m     }\n\u001B[1;32m     18\u001B[0m     \u001B[38;5;28;01mfor\u001B[39;00m bits \u001B[38;5;129;01min\u001B[39;00m [\u001B[38;5;241m1\u001B[39m, \u001B[38;5;241m2\u001B[39m, \u001B[38;5;241m4\u001B[39m]:\n\u001B[0;32m---> 19\u001B[0m         leading_signatures[method][\u001B[38;5;124m'\u001B[39m\u001B[38;5;124mMSB\u001B[39m\u001B[38;5;124m'\u001B[39m][bits] \u001B[38;5;241m=\u001B[39m \u001B[38;5;28;01mawait\u001B[39;00m extract_leading_sig(stego_images, bits, \u001B[38;5;124m'\u001B[39m\u001B[38;5;124mmsb\u001B[39m\u001B[38;5;124m'\u001B[39m, method)\n\u001B[1;32m     20\u001B[0m         leading_signatures[method][\u001B[38;5;124m'\u001B[39m\u001B[38;5;124mLSB\u001B[39m\u001B[38;5;124m'\u001B[39m][bits] \u001B[38;5;241m=\u001B[39m \u001B[38;5;28;01mawait\u001B[39;00m extract_leading_sig(stego_images, bits, \u001B[38;5;124m'\u001B[39m\u001B[38;5;124mlsb\u001B[39m\u001B[38;5;124m'\u001B[39m, method)\n\u001B[1;32m     22\u001B[0m leading_signatures\n",
      "Cell \u001B[0;32mIn[12], line 9\u001B[0m, in \u001B[0;36mextract_leading_sig\u001B[0;34m(stego_images, bits, direction, embedding_method)\u001B[0m\n\u001B[1;32m      7\u001B[0m \u001B[38;5;28;01masync\u001B[39;00m \u001B[38;5;28;01mdef\u001B[39;00m \u001B[38;5;21mextract_leading_sig\u001B[39m(stego_images, bits: \u001B[38;5;28mint\u001B[39m \u001B[38;5;241m=\u001B[39m \u001B[38;5;241m1\u001B[39m, direction\u001B[38;5;241m=\u001B[39m\u001B[38;5;124m'\u001B[39m\u001B[38;5;124mmsb\u001B[39m\u001B[38;5;124m'\u001B[39m, embedding_method\u001B[38;5;241m=\u001B[39m\u001B[38;5;28;01mNone\u001B[39;00m):\n\u001B[1;32m      8\u001B[0m     messages \u001B[38;5;241m=\u001B[39m (msg \u001B[38;5;28;01masync\u001B[39;00m \u001B[38;5;28;01mfor\u001B[39;00m msg \u001B[38;5;129;01min\u001B[39;00m extract_messages(stego_images, bits, direction, embedding_method))\n\u001B[0;32m----> 9\u001B[0m     reduced_msg \u001B[38;5;241m=\u001B[39m \u001B[38;5;28;01mawait\u001B[39;00m afn\u001B[38;5;241m.\u001B[39mreduce(_overlap_message, messages)\n\u001B[1;32m     10\u001B[0m     \u001B[38;5;28;01mreturn\u001B[39;00m np\u001B[38;5;241m.\u001B[39mtrim_zeros(reduced_msg\u001B[38;5;241m.\u001B[39mravel())\u001B[38;5;241m.\u001B[39mtobytes()\n",
      "File \u001B[0;32m~/Projects/master-thesis/venv/lib/python3.11/site-packages/asyncstdlib/functools.py:195\u001B[0m, in \u001B[0;36mreduce\u001B[0;34m(function, iterable, initial)\u001B[0m\n\u001B[1;32m    192\u001B[0m \u001B[38;5;28;01masync\u001B[39;00m \u001B[38;5;28;01mwith\u001B[39;00m ScopedIter(iterable) \u001B[38;5;28;01mas\u001B[39;00m item_iter:\n\u001B[1;32m    193\u001B[0m     \u001B[38;5;28;01mtry\u001B[39;00m:\n\u001B[1;32m    194\u001B[0m         value \u001B[38;5;241m=\u001B[39m (\n\u001B[0;32m--> 195\u001B[0m             initial \u001B[38;5;28;01mif\u001B[39;00m initial \u001B[38;5;129;01mis\u001B[39;00m \u001B[38;5;129;01mnot\u001B[39;00m __REDUCE_SENTINEL \u001B[38;5;28;01melse\u001B[39;00m \u001B[38;5;28;01mawait\u001B[39;00m anext(item_iter)\n\u001B[1;32m    196\u001B[0m         )\n\u001B[1;32m    197\u001B[0m     \u001B[38;5;28;01mexcept\u001B[39;00m \u001B[38;5;167;01mStopAsyncIteration\u001B[39;00m:\n\u001B[1;32m    198\u001B[0m         \u001B[38;5;28;01mraise\u001B[39;00m \u001B[38;5;167;01mTypeError\u001B[39;00m(\n\u001B[1;32m    199\u001B[0m             \u001B[38;5;124m\"\u001B[39m\u001B[38;5;124mreduce() of empty sequence with no initial value\u001B[39m\u001B[38;5;124m\"\u001B[39m\n\u001B[1;32m    200\u001B[0m         ) \u001B[38;5;28;01mfrom\u001B[39;00m \u001B[38;5;28;01mNone\u001B[39;00m\n",
      "File \u001B[0;32m~/Projects/master-thesis/venv/lib/python3.11/site-packages/asyncstdlib/builtins.py:47\u001B[0m, in \u001B[0;36manext\u001B[0;34m(iterator, default)\u001B[0m\n\u001B[1;32m     32\u001B[0m \u001B[38;5;250m\u001B[39m\u001B[38;5;124;03m\"\"\"\u001B[39;00m\n\u001B[1;32m     33\u001B[0m \u001B[38;5;124;03mRetrieve the next item from the async iterator\u001B[39;00m\n\u001B[1;32m     34\u001B[0m \n\u001B[0;32m   (...)\u001B[0m\n\u001B[1;32m     44\u001B[0m \u001B[38;5;124;03m    i.e. support the :py:meth:`~object.__anext__` method.\u001B[39;00m\n\u001B[1;32m     45\u001B[0m \u001B[38;5;124;03m\"\"\"\u001B[39;00m\n\u001B[1;32m     46\u001B[0m \u001B[38;5;28;01mtry\u001B[39;00m:\n\u001B[0;32m---> 47\u001B[0m     \u001B[38;5;28;01mreturn\u001B[39;00m \u001B[38;5;28;01mawait\u001B[39;00m iterator\u001B[38;5;241m.\u001B[39m\u001B[38;5;21m__anext__\u001B[39m()\n\u001B[1;32m     48\u001B[0m \u001B[38;5;28;01mexcept\u001B[39;00m \u001B[38;5;167;01mStopAsyncIteration\u001B[39;00m:\n\u001B[1;32m     49\u001B[0m     \u001B[38;5;28;01mif\u001B[39;00m default \u001B[38;5;129;01mis\u001B[39;00m __ANEXT_DEFAULT:\n",
      "Cell \u001B[0;32mIn[12], line 8\u001B[0m, in \u001B[0;36m<genexpr>\u001B[0;34m(.0)\u001B[0m\n\u001B[1;32m      7\u001B[0m \u001B[38;5;28;01masync\u001B[39;00m \u001B[38;5;28;01mdef\u001B[39;00m \u001B[38;5;21mextract_leading_sig\u001B[39m(stego_images, bits: \u001B[38;5;28mint\u001B[39m \u001B[38;5;241m=\u001B[39m \u001B[38;5;241m1\u001B[39m, direction\u001B[38;5;241m=\u001B[39m\u001B[38;5;124m'\u001B[39m\u001B[38;5;124mmsb\u001B[39m\u001B[38;5;124m'\u001B[39m, embedding_method\u001B[38;5;241m=\u001B[39m\u001B[38;5;28;01mNone\u001B[39;00m):\n\u001B[0;32m----> 8\u001B[0m     messages \u001B[38;5;241m=\u001B[39m (msg \u001B[38;5;28;01masync\u001B[39;00m \u001B[38;5;28;01mfor\u001B[39;00m msg \u001B[38;5;129;01min\u001B[39;00m extract_messages(stego_images, bits, direction, embedding_method))\n\u001B[1;32m      9\u001B[0m     reduced_msg \u001B[38;5;241m=\u001B[39m \u001B[38;5;28;01mawait\u001B[39;00m afn\u001B[38;5;241m.\u001B[39mreduce(_overlap_message, messages)\n\u001B[1;32m     10\u001B[0m     \u001B[38;5;28;01mreturn\u001B[39;00m np\u001B[38;5;241m.\u001B[39mtrim_zeros(reduced_msg\u001B[38;5;241m.\u001B[39mravel())\u001B[38;5;241m.\u001B[39mtobytes()\n",
      "File \u001B[0;32m/var/folders/02/y53_lh_10ss885lfr9gw0p800000gn/T/ipykernel_92031/627549426.py:86\u001B[0m, in \u001B[0;36mextract_messages\u001B[0;34m(images, bits, direction, embedding_method, convert_mode, channels)\u001B[0m\n\u001B[1;32m     84\u001B[0m     tasks \u001B[38;5;241m=\u001B[39m [(img, extract_message(img, bits, direction, convert_mode, channels)) \u001B[38;5;28;01masync\u001B[39;00m \u001B[38;5;28;01mfor\u001B[39;00m img \u001B[38;5;129;01min\u001B[39;00m images]\n\u001B[1;32m     85\u001B[0m \u001B[38;5;28;01melif\u001B[39;00m \u001B[38;5;28mhasattr\u001B[39m(images, \u001B[38;5;124m'\u001B[39m\u001B[38;5;124m__iter__\u001B[39m\u001B[38;5;124m'\u001B[39m):\n\u001B[0;32m---> 86\u001B[0m     tasks \u001B[38;5;241m=\u001B[39m \u001B[43m[\u001B[49m\u001B[43m(\u001B[49m\u001B[43mimg\u001B[49m\u001B[43m,\u001B[49m\u001B[43m \u001B[49m\u001B[43mextract_message\u001B[49m\u001B[43m(\u001B[49m\u001B[43mimg\u001B[49m\u001B[43m,\u001B[49m\u001B[43m \u001B[49m\u001B[43mbits\u001B[49m\u001B[43m,\u001B[49m\u001B[43m \u001B[49m\u001B[43mdirection\u001B[49m\u001B[43m,\u001B[49m\u001B[43m \u001B[49m\u001B[43mconvert_mode\u001B[49m\u001B[43m,\u001B[49m\u001B[43m \u001B[49m\u001B[43mchannels\u001B[49m\u001B[43m)\u001B[49m\u001B[43m)\u001B[49m\u001B[43m \u001B[49m\u001B[38;5;28;43;01mfor\u001B[39;49;00m\u001B[43m \u001B[49m\u001B[43mimg\u001B[49m\u001B[43m \u001B[49m\u001B[38;5;129;43;01min\u001B[39;49;00m\u001B[43m \u001B[49m\u001B[43mimages\u001B[49m\u001B[43m]\u001B[49m\n\u001B[1;32m     87\u001B[0m \u001B[38;5;28;01melse\u001B[39;00m:\n\u001B[1;32m     88\u001B[0m     \u001B[38;5;28;01mraise\u001B[39;00m \u001B[38;5;167;01mValueError\u001B[39;00m(\u001B[38;5;124m'\u001B[39m\u001B[38;5;124mdiff_images must be an iterable or an async iterable\u001B[39m\u001B[38;5;124m'\u001B[39m)\n",
      "File \u001B[0;32m/var/folders/02/y53_lh_10ss885lfr9gw0p800000gn/T/ipykernel_92031/627549426.py:86\u001B[0m, in \u001B[0;36m<listcomp>\u001B[0;34m(.0)\u001B[0m\n\u001B[1;32m     84\u001B[0m     tasks \u001B[38;5;241m=\u001B[39m [(img, extract_message(img, bits, direction, convert_mode, channels)) \u001B[38;5;28;01masync\u001B[39;00m \u001B[38;5;28;01mfor\u001B[39;00m img \u001B[38;5;129;01min\u001B[39;00m images]\n\u001B[1;32m     85\u001B[0m \u001B[38;5;28;01melif\u001B[39;00m \u001B[38;5;28mhasattr\u001B[39m(images, \u001B[38;5;124m'\u001B[39m\u001B[38;5;124m__iter__\u001B[39m\u001B[38;5;124m'\u001B[39m):\n\u001B[0;32m---> 86\u001B[0m     tasks \u001B[38;5;241m=\u001B[39m [(img, \u001B[43mextract_message\u001B[49m\u001B[43m(\u001B[49m\u001B[43mimg\u001B[49m\u001B[43m,\u001B[49m\u001B[43m \u001B[49m\u001B[43mbits\u001B[49m\u001B[43m,\u001B[49m\u001B[43m \u001B[49m\u001B[43mdirection\u001B[49m\u001B[43m,\u001B[49m\u001B[43m \u001B[49m\u001B[43mconvert_mode\u001B[49m\u001B[43m,\u001B[49m\u001B[43m \u001B[49m\u001B[43mchannels\u001B[49m\u001B[43m)\u001B[49m) \u001B[38;5;28;01mfor\u001B[39;00m img \u001B[38;5;129;01min\u001B[39;00m images]\n\u001B[1;32m     87\u001B[0m \u001B[38;5;28;01melse\u001B[39;00m:\n\u001B[1;32m     88\u001B[0m     \u001B[38;5;28;01mraise\u001B[39;00m \u001B[38;5;167;01mValueError\u001B[39;00m(\u001B[38;5;124m'\u001B[39m\u001B[38;5;124mdiff_images must be an iterable or an async iterable\u001B[39m\u001B[38;5;124m'\u001B[39m)\n",
      "File \u001B[0;32m/var/folders/02/y53_lh_10ss885lfr9gw0p800000gn/T/ipykernel_92031/627549426.py:69\u001B[0m, in \u001B[0;36mextract_message\u001B[0;34m(img_path, bits, direction, convert_mode, channels)\u001B[0m\n\u001B[1;32m     68\u001B[0m \u001B[38;5;28;01mdef\u001B[39;00m \u001B[38;5;21mextract_message\u001B[39m(img_path: Path, bits: \u001B[38;5;28mint\u001B[39m, direction\u001B[38;5;241m=\u001B[39m\u001B[38;5;124m'\u001B[39m\u001B[38;5;124mmsb\u001B[39m\u001B[38;5;124m'\u001B[39m, convert_mode\u001B[38;5;241m=\u001B[39m\u001B[38;5;124m'\u001B[39m\u001B[38;5;124mRGB\u001B[39m\u001B[38;5;124m'\u001B[39m, channels\u001B[38;5;241m=\u001B[39m\u001B[38;5;28;01mNone\u001B[39;00m):\n\u001B[0;32m---> 69\u001B[0m     data \u001B[38;5;241m=\u001B[39m \u001B[43m_load_image\u001B[49m\u001B[43m(\u001B[49m\u001B[43mimg_path\u001B[49m\u001B[43m,\u001B[49m\u001B[43m \u001B[49m\u001B[43mconvert_mode\u001B[49m\u001B[43m,\u001B[49m\u001B[43m \u001B[49m\u001B[43mchannels\u001B[49m\u001B[43m)\u001B[49m\n\u001B[1;32m     70\u001B[0m     \u001B[38;5;28;01mif\u001B[39;00m bits \u001B[38;5;241m==\u001B[39m \u001B[38;5;241m1\u001B[39m \u001B[38;5;129;01mor\u001B[39;00m bits\u001B[38;5;241m.\u001B[39mbit_count() \u001B[38;5;241m==\u001B[39m \u001B[38;5;241m1\u001B[39m:\n\u001B[1;32m     71\u001B[0m         \u001B[38;5;28;01mif\u001B[39;00m direction \u001B[38;5;241m==\u001B[39m \u001B[38;5;124m'\u001B[39m\u001B[38;5;124mmsb\u001B[39m\u001B[38;5;124m'\u001B[39m:\n",
      "File \u001B[0;32m/var/folders/02/y53_lh_10ss885lfr9gw0p800000gn/T/ipykernel_92031/627549426.py:57\u001B[0m, in \u001B[0;36m_load_image\u001B[0;34m(img_path, convert_mode, channels)\u001B[0m\n\u001B[1;32m     56\u001B[0m \u001B[38;5;28;01mdef\u001B[39;00m \u001B[38;5;21m_load_image\u001B[39m(img_path: Path, convert_mode\u001B[38;5;241m=\u001B[39m\u001B[38;5;124m'\u001B[39m\u001B[38;5;124mRGB\u001B[39m\u001B[38;5;124m'\u001B[39m, channels\u001B[38;5;241m=\u001B[39m\u001B[38;5;28;01mNone\u001B[39;00m):\n\u001B[0;32m---> 57\u001B[0m     \u001B[38;5;28;01mif\u001B[39;00m \u001B[38;5;124;43m'\u001B[39;49m\u001B[38;5;124;43mA\u001B[39;49m\u001B[38;5;124;43m'\u001B[39;49m\u001B[43m \u001B[49m\u001B[38;5;129;43;01min\u001B[39;49;00m\u001B[43m \u001B[49m\u001B[43mchannels\u001B[49m:\n\u001B[1;32m     58\u001B[0m         convert_mode \u001B[38;5;241m=\u001B[39m \u001B[38;5;124m'\u001B[39m\u001B[38;5;124mRGBA\u001B[39m\u001B[38;5;124m'\u001B[39m\n\u001B[1;32m     60\u001B[0m     \u001B[38;5;28;01mwith\u001B[39;00m Image\u001B[38;5;241m.\u001B[39mopen(img_path) \u001B[38;5;28;01mas\u001B[39;00m img:\n",
      "\u001B[0;31mTypeError\u001B[0m: argument of type 'NoneType' is not iterable"
     ]
    }
   ],
   "source": [
    "def _overlap_message(acc, msg):\n",
    "    if acc.shape != msg.shape:\n",
    "        acc, msg = (acc, np.resize(msg, acc.shape)) if acc.size < msg.size else (np.resize(acc, msg.shape), msg)\n",
    "    return np.bitwise_and(acc, msg)\n",
    "\n",
    "\n",
    "async def extract_leading_sig(stego_images, bits: int = 1, direction='msb', embedding_method=None):\n",
    "    messages = (msg async for msg in extract_messages(stego_images, bits, direction, embedding_method))\n",
    "    reduced_msg = await afn.reduce(_overlap_message, messages)\n",
    "    return np.trim_zeros(reduced_msg.ravel()).tobytes()\n",
    "\n",
    "\n",
    "leading_signatures = {}\n",
    "for method, stego_images in stego_images_by_method.items():\n",
    "    leading_signatures[method] = {\n",
    "        'MSB': {}, 'LSB': {}\n",
    "    }\n",
    "    for bits in [1, 2, 4]:\n",
    "        leading_signatures[method]['MSB'][bits] = await extract_leading_sig(stego_images, bits, 'msb', method)\n",
    "        leading_signatures[method]['LSB'][bits] = await extract_leading_sig(stego_images, bits, 'lsb', method)\n",
    "\n",
    "leading_signatures"
   ]
  }
 ],
 "metadata": {
  "kernelspec": {
   "display_name": "venv",
   "language": "python",
   "name": "python3"
  },
  "language_info": {
   "codemirror_mode": {
    "name": "ipython",
    "version": 3
   },
   "file_extension": ".py",
   "mimetype": "text/x-python",
   "name": "python",
   "nbconvert_exporter": "python",
   "pygments_lexer": "ipython3",
   "version": "3.11.7"
  }
 },
 "nbformat": 4,
 "nbformat_minor": 5
}
