{
 "cells": [
  {
   "cell_type": "markdown",
   "source": [
    "# Detect the payload size for LSB steganography\n",
    "\n",
    "In this notebook, different methods to detect the payload size are presented. \n",
    "The payload size is the size of the data that is being transmitted inside the stego image\n",
    "that was hidden using LSB steganography.\n",
    "\n",
    "Three methods will be presented that can be used depending on the information that is available:\n",
    "- Known message attack: If the original message is known, it is possible to detect the payload size by identifying the message in the extracted payload. This is the most reliable method but may take a while if the used LSBs are high.\n",
    "- Known stego image attack: If the stego image is known, it is possible to detect the payload size by checking how the file size changes and find the correlation between the payload size and the file size.\n",
    "- Statistical attack: Using RS analysis, it is possible to detect the payload size by analyzing the distribution of the pixel values.\n",
    "\n",
    "## Initialization\n",
    "\n",
    "First we need to import the extraction functions of [Extract LSBs](./extract-lsbs.ipynb)."
   ],
   "metadata": {
    "collapsed": false
   },
   "id": "6c9a2ab0c77f8bfc"
  },
  {
   "cell_type": "code",
   "outputs": [],
   "source": [
    "from tqdm.notebook import tqdm\n",
    "from pathlib import Path"
   ],
   "metadata": {
    "collapsed": false,
    "is_executing": true
   },
   "id": "c60f4d85554ff688",
   "execution_count": null
  },
  {
   "cell_type": "code",
   "outputs": [
    {
     "name": "stdout",
     "output_type": "stream",
     "text": [
      "\u001B[31mERROR: Exception:\r\n",
      "Traceback (most recent call last):\r\n",
      "  File \"/Users/fabianloewe/Data/master-thesis/venv/lib/python3.11/site-packages/pip/_internal/cli/base_command.py\", line 180, in exc_logging_wrapper\r\n",
      "    status = run_func(*args)\r\n",
      "             ^^^^^^^^^^^^^^^\r\n",
      "  File \"/Users/fabianloewe/Data/master-thesis/venv/lib/python3.11/site-packages/pip/_internal/cli/req_command.py\", line 245, in wrapper\r\n",
      "    return func(self, options, args)\r\n",
      "           ^^^^^^^^^^^^^^^^^^^^^^^^^\r\n",
      "  File \"/Users/fabianloewe/Data/master-thesis/venv/lib/python3.11/site-packages/pip/_internal/commands/install.py\", line 324, in run\r\n",
      "    session = self.get_default_session(options)\r\n",
      "              ^^^^^^^^^^^^^^^^^^^^^^^^^^^^^^^^^\r\n",
      "  File \"/Users/fabianloewe/Data/master-thesis/venv/lib/python3.11/site-packages/pip/_internal/cli/req_command.py\", line 95, in get_default_session\r\n",
      "    self._session = self.enter_context(self._build_session(options))\r\n",
      "                                       ^^^^^^^^^^^^^^^^^^^^^^^^^^^^\r\n",
      "  File \"/Users/fabianloewe/Data/master-thesis/venv/lib/python3.11/site-packages/pip/_internal/cli/req_command.py\", line 122, in _build_session\r\n",
      "    session = PipSession(\r\n",
      "              ^^^^^^^^^^^\r\n",
      "  File \"/Users/fabianloewe/Data/master-thesis/venv/lib/python3.11/site-packages/pip/_internal/network/session.py\", line 342, in __init__\r\n",
      "    self.headers[\"User-Agent\"] = user_agent()\r\n",
      "                                 ^^^^^^^^^^^^\r\n",
      "  File \"/Users/fabianloewe/Data/master-thesis/venv/lib/python3.11/site-packages/pip/_internal/network/session.py\", line 175, in user_agent\r\n",
      "    setuptools_dist = get_default_environment().get_distribution(\"setuptools\")\r\n",
      "                      ^^^^^^^^^^^^^^^^^^^^^^^^^^^^^^^^^^^^^^^^^^^^^^^^^^^^^^^^\r\n",
      "  File \"/Users/fabianloewe/Data/master-thesis/venv/lib/python3.11/site-packages/pip/_internal/metadata/importlib/_envs.py\", line 189, in get_distribution\r\n",
      "    return next(matches, None)\r\n",
      "           ^^^^^^^^^^^^^^^^^^^\r\n",
      "  File \"/Users/fabianloewe/Data/master-thesis/venv/lib/python3.11/site-packages/pip/_internal/metadata/importlib/_envs.py\", line 184, in <genexpr>\r\n",
      "    matches = (\r\n",
      "              ^\r\n",
      "  File \"/Users/fabianloewe/Data/master-thesis/venv/lib/python3.11/site-packages/pip/_internal/metadata/base.py\", line 626, in iter_all_distributions\r\n",
      "    for dist in self._iter_distributions():\r\n",
      "  File \"/Users/fabianloewe/Data/master-thesis/venv/lib/python3.11/site-packages/pip/_internal/metadata/importlib/_envs.py\", line 176, in _iter_distributions\r\n",
      "    yield from finder.find(location)\r\n",
      "  File \"/Users/fabianloewe/Data/master-thesis/venv/lib/python3.11/site-packages/pip/_internal/metadata/importlib/_envs.py\", line 79, in find\r\n",
      "    for dist, info_location in self._find_impl(location):\r\n",
      "  File \"/Users/fabianloewe/Data/master-thesis/venv/lib/python3.11/site-packages/pip/_internal/metadata/importlib/_envs.py\", line 64, in _find_impl\r\n",
      "    raw_name = get_dist_name(dist)\r\n",
      "               ^^^^^^^^^^^^^^^^^^^\r\n",
      "  File \"/Users/fabianloewe/Data/master-thesis/venv/lib/python3.11/site-packages/pip/_internal/metadata/importlib/_compat.py\", line 52, in get_dist_name\r\n",
      "    name = cast(Any, dist).name\r\n",
      "           ^^^^^^^^^^^^^^^^^^^^\r\n",
      "  File \"/opt/homebrew/Cellar/python@3.11/3.11.7_1/Frameworks/Python.framework/Versions/3.11/lib/python3.11/importlib/metadata/__init__.py\", line 622, in name\r\n",
      "    return self.metadata['Name']\r\n",
      "           ^^^^^^^^^^^^^\r\n",
      "  File \"/opt/homebrew/Cellar/python@3.11/3.11.7_1/Frameworks/Python.framework/Versions/3.11/lib/python3.11/importlib/metadata/__init__.py\", line 610, in metadata\r\n",
      "    self.read_text('METADATA')\r\n",
      "  File \"/opt/homebrew/Cellar/python@3.11/3.11.7_1/Frameworks/Python.framework/Versions/3.11/lib/python3.11/importlib/metadata/__init__.py\", line 938, in read_text\r\n",
      "    return self._path.joinpath(filename).read_text(encoding='utf-8')\r\n",
      "           ^^^^^^^^^^^^^^^^^^^^^^^^^^^^^^^^^^^^^^^^^^^^^^^^^^^^^^^^^\r\n",
      "  File \"/opt/homebrew/Cellar/python@3.11/3.11.7_1/Frameworks/Python.framework/Versions/3.11/lib/python3.11/pathlib.py\", line 1059, in read_text\r\n",
      "    return f.read()\r\n",
      "           ^^^^^^^^\r\n",
      "  File \"<frozen codecs>\", line 322, in decode\r\n",
      "UnicodeDecodeError: 'utf-8' codec can't decode byte 0x92 in position 2: invalid start byte\u001B[0m\u001B[31m\r\n",
      "\u001B[0mTraceback (most recent call last):\r\n",
      "  File \"<frozen runpy>\", line 198, in _run_module_as_main\r\n",
      "  File \"<frozen runpy>\", line 88, in _run_code\r\n",
      "  File \"/Users/fabianloewe/Data/master-thesis/venv/lib/python3.11/site-packages/pip/__main__.py\", line 24, in <module>\r\n",
      "    sys.exit(_main())\r\n",
      "             ^^^^^^^\r\n",
      "  File \"/Users/fabianloewe/Data/master-thesis/venv/lib/python3.11/site-packages/pip/_internal/cli/main.py\", line 79, in main\r\n",
      "    return command.main(cmd_args)\r\n",
      "           ^^^^^^^^^^^^^^^^^^^^^^\r\n",
      "  File \"/Users/fabianloewe/Data/master-thesis/venv/lib/python3.11/site-packages/pip/_internal/cli/base_command.py\", line 101, in main\r\n",
      "    return self._main(args)\r\n",
      "           ^^^^^^^^^^^^^^^^\r\n",
      "  File \"/Users/fabianloewe/Data/master-thesis/venv/lib/python3.11/site-packages/pip/_internal/cli/base_command.py\", line 236, in _main\r\n",
      "    self.handle_pip_version_check(options)\r\n",
      "  File \"/Users/fabianloewe/Data/master-thesis/venv/lib/python3.11/site-packages/pip/_internal/cli/req_command.py\", line 177, in handle_pip_version_check\r\n",
      "    session = self._build_session(\r\n",
      "              ^^^^^^^^^^^^^^^^^^^^\r\n",
      "  File \"/Users/fabianloewe/Data/master-thesis/venv/lib/python3.11/site-packages/pip/_internal/cli/req_command.py\", line 122, in _build_session\r\n",
      "    session = PipSession(\r\n",
      "              ^^^^^^^^^^^\r\n",
      "  File \"/Users/fabianloewe/Data/master-thesis/venv/lib/python3.11/site-packages/pip/_internal/network/session.py\", line 342, in __init__\r\n",
      "    self.headers[\"User-Agent\"] = user_agent()\r\n",
      "                                 ^^^^^^^^^^^^\r\n",
      "  File \"/Users/fabianloewe/Data/master-thesis/venv/lib/python3.11/site-packages/pip/_internal/network/session.py\", line 175, in user_agent\r\n",
      "    setuptools_dist = get_default_environment().get_distribution(\"setuptools\")\r\n",
      "                      ^^^^^^^^^^^^^^^^^^^^^^^^^^^^^^^^^^^^^^^^^^^^^^^^^^^^^^^^\r\n",
      "  File \"/Users/fabianloewe/Data/master-thesis/venv/lib/python3.11/site-packages/pip/_internal/metadata/importlib/_envs.py\", line 189, in get_distribution\r\n",
      "    return next(matches, None)\r\n",
      "           ^^^^^^^^^^^^^^^^^^^\r\n",
      "  File \"/Users/fabianloewe/Data/master-thesis/venv/lib/python3.11/site-packages/pip/_internal/metadata/importlib/_envs.py\", line 184, in <genexpr>\r\n",
      "    matches = (\r\n",
      "              ^\r\n",
      "  File \"/Users/fabianloewe/Data/master-thesis/venv/lib/python3.11/site-packages/pip/_internal/metadata/base.py\", line 626, in iter_all_distributions\r\n",
      "    for dist in self._iter_distributions():\r\n",
      "  File \"/Users/fabianloewe/Data/master-thesis/venv/lib/python3.11/site-packages/pip/_internal/metadata/importlib/_envs.py\", line 176, in _iter_distributions\r\n",
      "    yield from finder.find(location)\r\n",
      "  File \"/Users/fabianloewe/Data/master-thesis/venv/lib/python3.11/site-packages/pip/_internal/metadata/importlib/_envs.py\", line 79, in find\r\n",
      "    for dist, info_location in self._find_impl(location):\r\n",
      "  File \"/Users/fabianloewe/Data/master-thesis/venv/lib/python3.11/site-packages/pip/_internal/metadata/importlib/_envs.py\", line 64, in _find_impl\r\n",
      "    raw_name = get_dist_name(dist)\r\n",
      "               ^^^^^^^^^^^^^^^^^^^\r\n",
      "  File \"/Users/fabianloewe/Data/master-thesis/venv/lib/python3.11/site-packages/pip/_internal/metadata/importlib/_compat.py\", line 52, in get_dist_name\r\n",
      "    name = cast(Any, dist).name\r\n",
      "           ^^^^^^^^^^^^^^^^^^^^\r\n",
      "  File \"/opt/homebrew/Cellar/python@3.11/3.11.7_1/Frameworks/Python.framework/Versions/3.11/lib/python3.11/importlib/metadata/__init__.py\", line 622, in name\r\n",
      "    return self.metadata['Name']\r\n",
      "           ^^^^^^^^^^^^^\r\n",
      "  File \"/opt/homebrew/Cellar/python@3.11/3.11.7_1/Frameworks/Python.framework/Versions/3.11/lib/python3.11/importlib/metadata/__init__.py\", line 610, in metadata\r\n",
      "    self.read_text('METADATA')\r\n",
      "  File \"/opt/homebrew/Cellar/python@3.11/3.11.7_1/Frameworks/Python.framework/Versions/3.11/lib/python3.11/importlib/metadata/__init__.py\", line 938, in read_text\r\n",
      "    return self._path.joinpath(filename).read_text(encoding='utf-8')\r\n",
      "           ^^^^^^^^^^^^^^^^^^^^^^^^^^^^^^^^^^^^^^^^^^^^^^^^^^^^^^^^^\r\n",
      "  File \"/opt/homebrew/Cellar/python@3.11/3.11.7_1/Frameworks/Python.framework/Versions/3.11/lib/python3.11/pathlib.py\", line 1059, in read_text\r\n",
      "    return f.read()\r\n",
      "           ^^^^^^^^\r\n",
      "  File \"<frozen codecs>\", line 322, in decode\r\n",
      "UnicodeDecodeError: 'utf-8' codec can't decode byte 0x92 in position 2: invalid start byte\r\n",
      "Note: you may need to restart the kernel to use updated packages.\n",
      "zsh:1: command not found: jupyter\r\n",
      "Found the following embedding methods: MobiStego, PixelKnot, PocketStego, Pictograph, SteganographyM, Passlok\n"
     ]
    },
    {
     "name": "stderr",
     "output_type": "stream",
     "text": [
      "/var/folders/02/y53_lh_10ss885lfr9gw0p800000gn/T/ipykernel_49150/1526063876.py:5: DeprecationWarning: \n",
      "Pyarrow will become a required dependency of pandas in the next major release of pandas (pandas 3.0),\n",
      "(to allow more performant data types, such as the Arrow string type, and better interoperability with other libraries)\n",
      "but was not found to be installed on your system.\n",
      "If this would cause problems for you,\n",
      "please provide us feedback at https://github.com/pandas-dev/pandas/issues/54466\n",
      "        \n",
      "  import pandas as pd\n"
     ]
    },
    {
     "ename": "RuntimeError",
     "evalue": "This event loop is already running",
     "output_type": "error",
     "traceback": [
      "\u001B[0;31m---------------------------------------------------------------------------\u001B[0m",
      "\u001B[0;31mRuntimeError\u001B[0m                              Traceback (most recent call last)",
      "File \u001B[0;32m~/Data/master-thesis/venv/lib/python3.11/site-packages/IPython/core/async_helpers.py:56\u001B[0m, in \u001B[0;36m_AsyncIORunner.__call__\u001B[0;34m(self, coro)\u001B[0m\n\u001B[1;32m     52\u001B[0m \u001B[38;5;28;01mdef\u001B[39;00m \u001B[38;5;21m__call__\u001B[39m(\u001B[38;5;28mself\u001B[39m, coro):\n\u001B[1;32m     53\u001B[0m \u001B[38;5;250m    \u001B[39m\u001B[38;5;124;03m\"\"\"\u001B[39;00m\n\u001B[1;32m     54\u001B[0m \u001B[38;5;124;03m    Handler for asyncio autoawait\u001B[39;00m\n\u001B[1;32m     55\u001B[0m \u001B[38;5;124;03m    \"\"\"\u001B[39;00m\n\u001B[0;32m---> 56\u001B[0m     \u001B[38;5;28;01mreturn\u001B[39;00m \u001B[43mget_asyncio_loop\u001B[49m\u001B[43m(\u001B[49m\u001B[43m)\u001B[49m\u001B[38;5;241;43m.\u001B[39;49m\u001B[43mrun_until_complete\u001B[49m\u001B[43m(\u001B[49m\u001B[43mcoro\u001B[49m\u001B[43m)\u001B[49m\n",
      "File \u001B[0;32m/opt/homebrew/Cellar/python@3.11/3.11.7_1/Frameworks/Python.framework/Versions/3.11/lib/python3.11/asyncio/base_events.py:629\u001B[0m, in \u001B[0;36mBaseEventLoop.run_until_complete\u001B[0;34m(self, future)\u001B[0m\n\u001B[1;32m    618\u001B[0m \u001B[38;5;250m\u001B[39m\u001B[38;5;124;03m\"\"\"Run until the Future is done.\u001B[39;00m\n\u001B[1;32m    619\u001B[0m \n\u001B[1;32m    620\u001B[0m \u001B[38;5;124;03mIf the argument is a coroutine, it is wrapped in a Task.\u001B[39;00m\n\u001B[0;32m   (...)\u001B[0m\n\u001B[1;32m    626\u001B[0m \u001B[38;5;124;03mReturn the Future's result, or raise its exception.\u001B[39;00m\n\u001B[1;32m    627\u001B[0m \u001B[38;5;124;03m\"\"\"\u001B[39;00m\n\u001B[1;32m    628\u001B[0m \u001B[38;5;28mself\u001B[39m\u001B[38;5;241m.\u001B[39m_check_closed()\n\u001B[0;32m--> 629\u001B[0m \u001B[38;5;28;43mself\u001B[39;49m\u001B[38;5;241;43m.\u001B[39;49m\u001B[43m_check_running\u001B[49m\u001B[43m(\u001B[49m\u001B[43m)\u001B[49m\n\u001B[1;32m    631\u001B[0m new_task \u001B[38;5;241m=\u001B[39m \u001B[38;5;129;01mnot\u001B[39;00m futures\u001B[38;5;241m.\u001B[39misfuture(future)\n\u001B[1;32m    632\u001B[0m future \u001B[38;5;241m=\u001B[39m tasks\u001B[38;5;241m.\u001B[39mensure_future(future, loop\u001B[38;5;241m=\u001B[39m\u001B[38;5;28mself\u001B[39m)\n",
      "File \u001B[0;32m/opt/homebrew/Cellar/python@3.11/3.11.7_1/Frameworks/Python.framework/Versions/3.11/lib/python3.11/asyncio/base_events.py:588\u001B[0m, in \u001B[0;36mBaseEventLoop._check_running\u001B[0;34m(self)\u001B[0m\n\u001B[1;32m    586\u001B[0m \u001B[38;5;28;01mdef\u001B[39;00m \u001B[38;5;21m_check_running\u001B[39m(\u001B[38;5;28mself\u001B[39m):\n\u001B[1;32m    587\u001B[0m     \u001B[38;5;28;01mif\u001B[39;00m \u001B[38;5;28mself\u001B[39m\u001B[38;5;241m.\u001B[39mis_running():\n\u001B[0;32m--> 588\u001B[0m         \u001B[38;5;28;01mraise\u001B[39;00m \u001B[38;5;167;01mRuntimeError\u001B[39;00m(\u001B[38;5;124m'\u001B[39m\u001B[38;5;124mThis event loop is already running\u001B[39m\u001B[38;5;124m'\u001B[39m)\n\u001B[1;32m    589\u001B[0m     \u001B[38;5;28;01mif\u001B[39;00m events\u001B[38;5;241m.\u001B[39m_get_running_loop() \u001B[38;5;129;01mis\u001B[39;00m \u001B[38;5;129;01mnot\u001B[39;00m \u001B[38;5;28;01mNone\u001B[39;00m:\n\u001B[1;32m    590\u001B[0m         \u001B[38;5;28;01mraise\u001B[39;00m \u001B[38;5;167;01mRuntimeError\u001B[39;00m(\n\u001B[1;32m    591\u001B[0m             \u001B[38;5;124m'\u001B[39m\u001B[38;5;124mCannot run the event loop while another loop is running\u001B[39m\u001B[38;5;124m'\u001B[39m)\n",
      "\u001B[0;31mRuntimeError\u001B[0m: This event loop is already running"
     ]
    },
    {
     "ename": "RuntimeError",
     "evalue": "This event loop is already running",
     "output_type": "error",
     "traceback": [
      "\u001B[0;31m---------------------------------------------------------------------------\u001B[0m",
      "\u001B[0;31mRuntimeError\u001B[0m                              Traceback (most recent call last)",
      "Cell \u001B[0;32mIn[3], line 1\u001B[0m\n\u001B[0;32m----> 1\u001B[0m \u001B[43mget_ipython\u001B[49m\u001B[43m(\u001B[49m\u001B[43m)\u001B[49m\u001B[38;5;241;43m.\u001B[39;49m\u001B[43mrun_line_magic\u001B[49m\u001B[43m(\u001B[49m\u001B[38;5;124;43m'\u001B[39;49m\u001B[38;5;124;43mrun\u001B[39;49m\u001B[38;5;124;43m'\u001B[39;49m\u001B[43m,\u001B[49m\u001B[43m \u001B[49m\u001B[38;5;124;43m'\u001B[39;49m\u001B[38;5;124;43mextract-lsbs.ipynb\u001B[39;49m\u001B[38;5;124;43m'\u001B[39;49m\u001B[43m)\u001B[49m\n",
      "File \u001B[0;32m~/Data/master-thesis/venv/lib/python3.11/site-packages/IPython/core/interactiveshell.py:2456\u001B[0m, in \u001B[0;36mInteractiveShell.run_line_magic\u001B[0;34m(self, magic_name, line, _stack_depth)\u001B[0m\n\u001B[1;32m   2454\u001B[0m     kwargs[\u001B[38;5;124m'\u001B[39m\u001B[38;5;124mlocal_ns\u001B[39m\u001B[38;5;124m'\u001B[39m] \u001B[38;5;241m=\u001B[39m \u001B[38;5;28mself\u001B[39m\u001B[38;5;241m.\u001B[39mget_local_scope(stack_depth)\n\u001B[1;32m   2455\u001B[0m \u001B[38;5;28;01mwith\u001B[39;00m \u001B[38;5;28mself\u001B[39m\u001B[38;5;241m.\u001B[39mbuiltin_trap:\n\u001B[0;32m-> 2456\u001B[0m     result \u001B[38;5;241m=\u001B[39m \u001B[43mfn\u001B[49m\u001B[43m(\u001B[49m\u001B[38;5;241;43m*\u001B[39;49m\u001B[43margs\u001B[49m\u001B[43m,\u001B[49m\u001B[43m \u001B[49m\u001B[38;5;241;43m*\u001B[39;49m\u001B[38;5;241;43m*\u001B[39;49m\u001B[43mkwargs\u001B[49m\u001B[43m)\u001B[49m\n\u001B[1;32m   2458\u001B[0m \u001B[38;5;66;03m# The code below prevents the output from being displayed\u001B[39;00m\n\u001B[1;32m   2459\u001B[0m \u001B[38;5;66;03m# when using magics with decorator @output_can_be_silenced\u001B[39;00m\n\u001B[1;32m   2460\u001B[0m \u001B[38;5;66;03m# when the last Python token in the expression is a ';'.\u001B[39;00m\n\u001B[1;32m   2461\u001B[0m \u001B[38;5;28;01mif\u001B[39;00m \u001B[38;5;28mgetattr\u001B[39m(fn, magic\u001B[38;5;241m.\u001B[39mMAGIC_OUTPUT_CAN_BE_SILENCED, \u001B[38;5;28;01mFalse\u001B[39;00m):\n",
      "File \u001B[0;32m~/Data/master-thesis/venv/lib/python3.11/site-packages/IPython/core/magics/execution.py:737\u001B[0m, in \u001B[0;36mExecutionMagics.run\u001B[0;34m(self, parameter_s, runner, file_finder)\u001B[0m\n\u001B[1;32m    735\u001B[0m     \u001B[38;5;28;01mwith\u001B[39;00m preserve_keys(\u001B[38;5;28mself\u001B[39m\u001B[38;5;241m.\u001B[39mshell\u001B[38;5;241m.\u001B[39muser_ns, \u001B[38;5;124m'\u001B[39m\u001B[38;5;124m__file__\u001B[39m\u001B[38;5;124m'\u001B[39m):\n\u001B[1;32m    736\u001B[0m         \u001B[38;5;28mself\u001B[39m\u001B[38;5;241m.\u001B[39mshell\u001B[38;5;241m.\u001B[39muser_ns[\u001B[38;5;124m'\u001B[39m\u001B[38;5;124m__file__\u001B[39m\u001B[38;5;124m'\u001B[39m] \u001B[38;5;241m=\u001B[39m filename\n\u001B[0;32m--> 737\u001B[0m         \u001B[38;5;28;43mself\u001B[39;49m\u001B[38;5;241;43m.\u001B[39;49m\u001B[43mshell\u001B[49m\u001B[38;5;241;43m.\u001B[39;49m\u001B[43msafe_execfile_ipy\u001B[49m\u001B[43m(\u001B[49m\u001B[43mfilename\u001B[49m\u001B[43m,\u001B[49m\u001B[43m \u001B[49m\u001B[43mraise_exceptions\u001B[49m\u001B[38;5;241;43m=\u001B[39;49m\u001B[38;5;28;43;01mTrue\u001B[39;49;00m\u001B[43m)\u001B[49m\n\u001B[1;32m    738\u001B[0m     \u001B[38;5;28;01mreturn\u001B[39;00m\n\u001B[1;32m    740\u001B[0m \u001B[38;5;66;03m# Control the response to exit() calls made by the script being run\u001B[39;00m\n",
      "File \u001B[0;32m~/Data/master-thesis/venv/lib/python3.11/site-packages/IPython/core/interactiveshell.py:2981\u001B[0m, in \u001B[0;36mInteractiveShell.safe_execfile_ipy\u001B[0;34m(self, fname, shell_futures, raise_exceptions)\u001B[0m\n\u001B[1;32m   2979\u001B[0m result \u001B[38;5;241m=\u001B[39m \u001B[38;5;28mself\u001B[39m\u001B[38;5;241m.\u001B[39mrun_cell(cell, silent\u001B[38;5;241m=\u001B[39m\u001B[38;5;28;01mTrue\u001B[39;00m, shell_futures\u001B[38;5;241m=\u001B[39mshell_futures)\n\u001B[1;32m   2980\u001B[0m \u001B[38;5;28;01mif\u001B[39;00m raise_exceptions:\n\u001B[0;32m-> 2981\u001B[0m     \u001B[43mresult\u001B[49m\u001B[38;5;241;43m.\u001B[39;49m\u001B[43mraise_error\u001B[49m\u001B[43m(\u001B[49m\u001B[43m)\u001B[49m\n\u001B[1;32m   2982\u001B[0m \u001B[38;5;28;01melif\u001B[39;00m \u001B[38;5;129;01mnot\u001B[39;00m result\u001B[38;5;241m.\u001B[39msuccess:\n\u001B[1;32m   2983\u001B[0m     \u001B[38;5;28;01mbreak\u001B[39;00m\n",
      "File \u001B[0;32m~/Data/master-thesis/venv/lib/python3.11/site-packages/IPython/core/interactiveshell.py:294\u001B[0m, in \u001B[0;36mExecutionResult.raise_error\u001B[0;34m(self)\u001B[0m\n\u001B[1;32m    292\u001B[0m     \u001B[38;5;28;01mraise\u001B[39;00m \u001B[38;5;28mself\u001B[39m\u001B[38;5;241m.\u001B[39merror_before_exec\n\u001B[1;32m    293\u001B[0m \u001B[38;5;28;01mif\u001B[39;00m \u001B[38;5;28mself\u001B[39m\u001B[38;5;241m.\u001B[39merror_in_exec \u001B[38;5;129;01mis\u001B[39;00m \u001B[38;5;129;01mnot\u001B[39;00m \u001B[38;5;28;01mNone\u001B[39;00m:\n\u001B[0;32m--> 294\u001B[0m     \u001B[38;5;28;01mraise\u001B[39;00m \u001B[38;5;28mself\u001B[39m\u001B[38;5;241m.\u001B[39merror_in_exec\n",
      "File \u001B[0;32m~/Data/master-thesis/venv/lib/python3.11/site-packages/IPython/core/interactiveshell.py:3106\u001B[0m, in \u001B[0;36mInteractiveShell._run_cell\u001B[0;34m(self, raw_cell, store_history, silent, shell_futures, cell_id)\u001B[0m\n\u001B[1;32m   3103\u001B[0m     runner \u001B[38;5;241m=\u001B[39m _pseudo_sync_runner\n\u001B[1;32m   3105\u001B[0m \u001B[38;5;28;01mtry\u001B[39;00m:\n\u001B[0;32m-> 3106\u001B[0m     result \u001B[38;5;241m=\u001B[39m \u001B[43mrunner\u001B[49m\u001B[43m(\u001B[49m\u001B[43mcoro\u001B[49m\u001B[43m)\u001B[49m\n\u001B[1;32m   3107\u001B[0m \u001B[38;5;28;01mexcept\u001B[39;00m \u001B[38;5;167;01mBaseException\u001B[39;00m \u001B[38;5;28;01mas\u001B[39;00m e:\n\u001B[1;32m   3108\u001B[0m     info \u001B[38;5;241m=\u001B[39m ExecutionInfo(\n\u001B[1;32m   3109\u001B[0m         raw_cell, store_history, silent, shell_futures, cell_id\n\u001B[1;32m   3110\u001B[0m     )\n",
      "File \u001B[0;32m~/Data/master-thesis/venv/lib/python3.11/site-packages/IPython/core/async_helpers.py:56\u001B[0m, in \u001B[0;36m_AsyncIORunner.__call__\u001B[0;34m(self, coro)\u001B[0m\n\u001B[1;32m     52\u001B[0m \u001B[38;5;28;01mdef\u001B[39;00m \u001B[38;5;21m__call__\u001B[39m(\u001B[38;5;28mself\u001B[39m, coro):\n\u001B[1;32m     53\u001B[0m \u001B[38;5;250m    \u001B[39m\u001B[38;5;124;03m\"\"\"\u001B[39;00m\n\u001B[1;32m     54\u001B[0m \u001B[38;5;124;03m    Handler for asyncio autoawait\u001B[39;00m\n\u001B[1;32m     55\u001B[0m \u001B[38;5;124;03m    \"\"\"\u001B[39;00m\n\u001B[0;32m---> 56\u001B[0m     \u001B[38;5;28;01mreturn\u001B[39;00m \u001B[43mget_asyncio_loop\u001B[49m\u001B[43m(\u001B[49m\u001B[43m)\u001B[49m\u001B[38;5;241;43m.\u001B[39;49m\u001B[43mrun_until_complete\u001B[49m\u001B[43m(\u001B[49m\u001B[43mcoro\u001B[49m\u001B[43m)\u001B[49m\n",
      "File \u001B[0;32m/opt/homebrew/Cellar/python@3.11/3.11.7_1/Frameworks/Python.framework/Versions/3.11/lib/python3.11/asyncio/base_events.py:629\u001B[0m, in \u001B[0;36mBaseEventLoop.run_until_complete\u001B[0;34m(self, future)\u001B[0m\n\u001B[1;32m    618\u001B[0m \u001B[38;5;250m\u001B[39m\u001B[38;5;124;03m\"\"\"Run until the Future is done.\u001B[39;00m\n\u001B[1;32m    619\u001B[0m \n\u001B[1;32m    620\u001B[0m \u001B[38;5;124;03mIf the argument is a coroutine, it is wrapped in a Task.\u001B[39;00m\n\u001B[0;32m   (...)\u001B[0m\n\u001B[1;32m    626\u001B[0m \u001B[38;5;124;03mReturn the Future's result, or raise its exception.\u001B[39;00m\n\u001B[1;32m    627\u001B[0m \u001B[38;5;124;03m\"\"\"\u001B[39;00m\n\u001B[1;32m    628\u001B[0m \u001B[38;5;28mself\u001B[39m\u001B[38;5;241m.\u001B[39m_check_closed()\n\u001B[0;32m--> 629\u001B[0m \u001B[38;5;28;43mself\u001B[39;49m\u001B[38;5;241;43m.\u001B[39;49m\u001B[43m_check_running\u001B[49m\u001B[43m(\u001B[49m\u001B[43m)\u001B[49m\n\u001B[1;32m    631\u001B[0m new_task \u001B[38;5;241m=\u001B[39m \u001B[38;5;129;01mnot\u001B[39;00m futures\u001B[38;5;241m.\u001B[39misfuture(future)\n\u001B[1;32m    632\u001B[0m future \u001B[38;5;241m=\u001B[39m tasks\u001B[38;5;241m.\u001B[39mensure_future(future, loop\u001B[38;5;241m=\u001B[39m\u001B[38;5;28mself\u001B[39m)\n",
      "File \u001B[0;32m/opt/homebrew/Cellar/python@3.11/3.11.7_1/Frameworks/Python.framework/Versions/3.11/lib/python3.11/asyncio/base_events.py:588\u001B[0m, in \u001B[0;36mBaseEventLoop._check_running\u001B[0;34m(self)\u001B[0m\n\u001B[1;32m    586\u001B[0m \u001B[38;5;28;01mdef\u001B[39;00m \u001B[38;5;21m_check_running\u001B[39m(\u001B[38;5;28mself\u001B[39m):\n\u001B[1;32m    587\u001B[0m     \u001B[38;5;28;01mif\u001B[39;00m \u001B[38;5;28mself\u001B[39m\u001B[38;5;241m.\u001B[39mis_running():\n\u001B[0;32m--> 588\u001B[0m         \u001B[38;5;28;01mraise\u001B[39;00m \u001B[38;5;167;01mRuntimeError\u001B[39;00m(\u001B[38;5;124m'\u001B[39m\u001B[38;5;124mThis event loop is already running\u001B[39m\u001B[38;5;124m'\u001B[39m)\n\u001B[1;32m    589\u001B[0m     \u001B[38;5;28;01mif\u001B[39;00m events\u001B[38;5;241m.\u001B[39m_get_running_loop() \u001B[38;5;129;01mis\u001B[39;00m \u001B[38;5;129;01mnot\u001B[39;00m \u001B[38;5;28;01mNone\u001B[39;00m:\n\u001B[1;32m    590\u001B[0m         \u001B[38;5;28;01mraise\u001B[39;00m \u001B[38;5;167;01mRuntimeError\u001B[39;00m(\n\u001B[1;32m    591\u001B[0m             \u001B[38;5;124m'\u001B[39m\u001B[38;5;124mCannot run the event loop while another loop is running\u001B[39m\u001B[38;5;124m'\u001B[39m)\n",
      "\u001B[0;31mRuntimeError\u001B[0m: This event loop is already running"
     ]
    }
   ],
   "source": [
    "%run extract-lsbs.ipynb"
   ],
   "metadata": {
    "collapsed": false,
    "ExecuteTime": {
     "end_time": "2024-03-19T22:59:23.782046Z",
     "start_time": "2024-03-19T22:59:22.373322Z"
    }
   },
   "id": "f2872b3eeb338bfc",
   "execution_count": 3
  },
  {
   "cell_type": "code",
   "outputs": [],
   "source": [
    "async def for_each_image(func):\n",
    "    \"\"\"Helper function to iterate over all stego images and apply a function to them.\"\"\"\n",
    "    for method, stego_images in stego_images_by_method.items():\n",
    "        for bits in [1, 2, 4]:\n",
    "            for direction in ['msb', 'lsb']:\n",
    "                yield await func(stego_images, (method, bits, direction))"
   ],
   "metadata": {
    "collapsed": false,
    "ExecuteTime": {
     "end_time": "2024-03-19T22:59:24.752437Z",
     "start_time": "2024-03-19T22:59:24.749912Z"
    }
   },
   "id": "f64389feb6e6fd3d",
   "execution_count": 4
  },
  {
   "cell_type": "markdown",
   "source": [
    "## Known message attack"
   ],
   "metadata": {
    "collapsed": false
   },
   "id": "d4806b37527f6ef3"
  },
  {
   "cell_type": "code",
   "outputs": [],
   "source": [
    "EMBEDDED_MESSAGES_DIR = Path('./data/embedded_messages')\n",
    "\n",
    "\n",
    "async def save_embedded_messages(base_dir=EMBEDDED_MESSAGES_DIR):\n",
    "    async def handler(stego_images, path_parts):\n",
    "        method, bits, direction = path_parts\n",
    "        sub_dir = base_dir / method / f'ls{bits}b' / direction\n",
    "        if sub_dir.exists():\n",
    "            return\n",
    "\n",
    "        sub_dir.mkdir(parents=True, exist_ok=True)\n",
    "        async for stego_img, msg in extract_messages(stego_images, bits, direction, method):\n",
    "            img_name = stego_img.stem\n",
    "            msg_file = sub_dir / f'{img_name}.txt'\n",
    "            if msg_file.exists():\n",
    "                continue\n",
    "\n",
    "            msg_file.write_bytes(msg.tobytes())\n",
    "\n",
    "    _ = [_ async for _ in for_each_image(handler)]\n",
    "\n",
    "\n",
    "await save_embedded_messages()"
   ],
   "metadata": {
    "collapsed": false,
    "ExecuteTime": {
     "end_time": "2024-03-19T22:59:27.516032Z",
     "start_time": "2024-03-19T22:59:27.512855Z"
    }
   },
   "id": "bea3ac8191fb383d",
   "execution_count": 5
  },
  {
   "cell_type": "code",
   "outputs": [
    {
     "data": {
      "text/plain": "Cycling through MobiStego 1 msb:   0%|          | 0/3060 [00:00<?, ?it/s]",
      "application/vnd.jupyter.widget-view+json": {
       "version_major": 2,
       "version_minor": 0,
       "model_id": "cbdf7edc81cd440f9bd92a830cf656ae"
      }
     },
     "metadata": {},
     "output_type": "display_data"
    },
    {
     "data": {
      "text/plain": "Cycling through MobiStego 1 lsb:   0%|          | 0/3060 [00:00<?, ?it/s]",
      "application/vnd.jupyter.widget-view+json": {
       "version_major": 2,
       "version_minor": 0,
       "model_id": "7f4709ac57c84355ad7a0b2a6f2550c5"
      }
     },
     "metadata": {},
     "output_type": "display_data"
    },
    {
     "data": {
      "text/plain": "Cycling through MobiStego 2 msb:   0%|          | 0/3060 [00:00<?, ?it/s]",
      "application/vnd.jupyter.widget-view+json": {
       "version_major": 2,
       "version_minor": 0,
       "model_id": "591af2302a12408aaca62161f6e5cd75"
      }
     },
     "metadata": {},
     "output_type": "display_data"
    },
    {
     "data": {
      "text/plain": "Cycling through MobiStego 2 lsb:   0%|          | 0/3060 [00:00<?, ?it/s]",
      "application/vnd.jupyter.widget-view+json": {
       "version_major": 2,
       "version_minor": 0,
       "model_id": "29089f2381ef4638a3204ce1a618d3a6"
      }
     },
     "metadata": {},
     "output_type": "display_data"
    },
    {
     "data": {
      "text/plain": "Cycling through MobiStego 4 msb:   0%|          | 0/3060 [00:00<?, ?it/s]",
      "application/vnd.jupyter.widget-view+json": {
       "version_major": 2,
       "version_minor": 0,
       "model_id": "02f15d0d13b64ad4b05877a1bd410051"
      }
     },
     "metadata": {},
     "output_type": "display_data"
    },
    {
     "data": {
      "text/plain": "Cycling through MobiStego 4 lsb:   0%|          | 0/3060 [00:00<?, ?it/s]",
      "application/vnd.jupyter.widget-view+json": {
       "version_major": 2,
       "version_minor": 0,
       "model_id": "0210d1b800e145a88527bd2e86c687d0"
      }
     },
     "metadata": {},
     "output_type": "display_data"
    },
    {
     "data": {
      "text/plain": "Cycling through PixelKnot 1 msb:   0%|          | 0/3060 [00:00<?, ?it/s]",
      "application/vnd.jupyter.widget-view+json": {
       "version_major": 2,
       "version_minor": 0,
       "model_id": "569f1fe2edc84fa8ad0b40e2e813d3b2"
      }
     },
     "metadata": {},
     "output_type": "display_data"
    },
    {
     "data": {
      "text/plain": "Cycling through PixelKnot 1 lsb:   0%|          | 0/3060 [00:00<?, ?it/s]",
      "application/vnd.jupyter.widget-view+json": {
       "version_major": 2,
       "version_minor": 0,
       "model_id": "410340c37bd04cbc81e0c5c0ce788963"
      }
     },
     "metadata": {},
     "output_type": "display_data"
    },
    {
     "data": {
      "text/plain": "Cycling through PixelKnot 2 msb:   0%|          | 0/3060 [00:00<?, ?it/s]",
      "application/vnd.jupyter.widget-view+json": {
       "version_major": 2,
       "version_minor": 0,
       "model_id": "88c7f5c2101e45fcb8f8e7875c43008b"
      }
     },
     "metadata": {},
     "output_type": "display_data"
    },
    {
     "data": {
      "text/plain": "Cycling through PixelKnot 2 lsb:   0%|          | 0/3060 [00:00<?, ?it/s]",
      "application/vnd.jupyter.widget-view+json": {
       "version_major": 2,
       "version_minor": 0,
       "model_id": "6bf0f751e91241baa7401d7e67cd2f70"
      }
     },
     "metadata": {},
     "output_type": "display_data"
    },
    {
     "data": {
      "text/plain": "Cycling through PixelKnot 4 msb:   0%|          | 0/3060 [00:00<?, ?it/s]",
      "application/vnd.jupyter.widget-view+json": {
       "version_major": 2,
       "version_minor": 0,
       "model_id": "877044de27e14e4d87f512a9a5cfb31f"
      }
     },
     "metadata": {},
     "output_type": "display_data"
    },
    {
     "data": {
      "text/plain": "Cycling through PixelKnot 4 lsb:   0%|          | 0/3060 [00:00<?, ?it/s]",
      "application/vnd.jupyter.widget-view+json": {
       "version_major": 2,
       "version_minor": 0,
       "model_id": "a2b4f96daae04743af60daf6d62af836"
      }
     },
     "metadata": {},
     "output_type": "display_data"
    },
    {
     "data": {
      "text/plain": "Cycling through PocketStego 1 msb:   0%|          | 0/3060 [00:00<?, ?it/s]",
      "application/vnd.jupyter.widget-view+json": {
       "version_major": 2,
       "version_minor": 0,
       "model_id": "9bf7d6cfc8c049959ed76319276dd16d"
      }
     },
     "metadata": {},
     "output_type": "display_data"
    },
    {
     "data": {
      "text/plain": "Cycling through PocketStego 1 lsb:   0%|          | 0/3060 [00:00<?, ?it/s]",
      "application/vnd.jupyter.widget-view+json": {
       "version_major": 2,
       "version_minor": 0,
       "model_id": "5452954b225145c482ff2b80a89174a8"
      }
     },
     "metadata": {},
     "output_type": "display_data"
    },
    {
     "data": {
      "text/plain": "Cycling through PocketStego 2 msb:   0%|          | 0/3060 [00:00<?, ?it/s]",
      "application/vnd.jupyter.widget-view+json": {
       "version_major": 2,
       "version_minor": 0,
       "model_id": "42dd2b290fc241068eae83acf67ed35f"
      }
     },
     "metadata": {},
     "output_type": "display_data"
    },
    {
     "data": {
      "text/plain": "Cycling through PocketStego 2 lsb:   0%|          | 0/3060 [00:00<?, ?it/s]",
      "application/vnd.jupyter.widget-view+json": {
       "version_major": 2,
       "version_minor": 0,
       "model_id": "0c40eb066e144e3b8a1aa59185dbb073"
      }
     },
     "metadata": {},
     "output_type": "display_data"
    },
    {
     "data": {
      "text/plain": "Cycling through PocketStego 4 msb:   0%|          | 0/3060 [00:00<?, ?it/s]",
      "application/vnd.jupyter.widget-view+json": {
       "version_major": 2,
       "version_minor": 0,
       "model_id": "eb0e7b0e82094463a6f582ee1940a6fc"
      }
     },
     "metadata": {},
     "output_type": "display_data"
    },
    {
     "data": {
      "text/plain": "Cycling through PocketStego 4 lsb:   0%|          | 0/3060 [00:00<?, ?it/s]",
      "application/vnd.jupyter.widget-view+json": {
       "version_major": 2,
       "version_minor": 0,
       "model_id": "b331a9954f284cac8a9c6da4151b5783"
      }
     },
     "metadata": {},
     "output_type": "display_data"
    },
    {
     "data": {
      "text/plain": "Cycling through Pictograph 1 msb:   0%|          | 0/4800 [00:00<?, ?it/s]",
      "application/vnd.jupyter.widget-view+json": {
       "version_major": 2,
       "version_minor": 0,
       "model_id": "7ba1cc1d5a52455ab27e89bfe3b4e42e"
      }
     },
     "metadata": {},
     "output_type": "display_data"
    },
    {
     "data": {
      "text/plain": "Cycling through Pictograph 1 lsb:   0%|          | 0/4800 [00:00<?, ?it/s]",
      "application/vnd.jupyter.widget-view+json": {
       "version_major": 2,
       "version_minor": 0,
       "model_id": "5bef71ea0f434c13814b153abb88cd3c"
      }
     },
     "metadata": {},
     "output_type": "display_data"
    },
    {
     "data": {
      "text/plain": "Cycling through Pictograph 2 msb:   0%|          | 0/4800 [00:00<?, ?it/s]",
      "application/vnd.jupyter.widget-view+json": {
       "version_major": 2,
       "version_minor": 0,
       "model_id": "3f5d5f1833034edea5002c5b66b53ab3"
      }
     },
     "metadata": {},
     "output_type": "display_data"
    },
    {
     "data": {
      "text/plain": "Cycling through Pictograph 2 lsb:   0%|          | 0/4800 [00:00<?, ?it/s]",
      "application/vnd.jupyter.widget-view+json": {
       "version_major": 2,
       "version_minor": 0,
       "model_id": "51bf6b3a034d4a29a1c3e9f22f83b761"
      }
     },
     "metadata": {},
     "output_type": "display_data"
    },
    {
     "data": {
      "text/plain": "Cycling through Pictograph 4 msb:   0%|          | 0/4800 [00:00<?, ?it/s]",
      "application/vnd.jupyter.widget-view+json": {
       "version_major": 2,
       "version_minor": 0,
       "model_id": "d74520772f0449a9af2e5da36528c79b"
      }
     },
     "metadata": {},
     "output_type": "display_data"
    },
    {
     "data": {
      "text/plain": "Cycling through Pictograph 4 lsb:   0%|          | 0/4800 [00:00<?, ?it/s]",
      "application/vnd.jupyter.widget-view+json": {
       "version_major": 2,
       "version_minor": 0,
       "model_id": "03a462f7b0f24022a0d335318e20a1af"
      }
     },
     "metadata": {},
     "output_type": "display_data"
    },
    {
     "data": {
      "text/plain": "Cycling through SteganographyM 1 msb:   0%|          | 0/3060 [00:00<?, ?it/s]",
      "application/vnd.jupyter.widget-view+json": {
       "version_major": 2,
       "version_minor": 0,
       "model_id": "b091ed3c663d42d7a32c1e83f22cf9ca"
      }
     },
     "metadata": {},
     "output_type": "display_data"
    },
    {
     "data": {
      "text/plain": "Cycling through SteganographyM 1 lsb:   0%|          | 0/3060 [00:00<?, ?it/s]",
      "application/vnd.jupyter.widget-view+json": {
       "version_major": 2,
       "version_minor": 0,
       "model_id": "7540bff6d46840008fa9d35db0ae3457"
      }
     },
     "metadata": {},
     "output_type": "display_data"
    },
    {
     "data": {
      "text/plain": "Cycling through SteganographyM 2 msb:   0%|          | 0/3060 [00:00<?, ?it/s]",
      "application/vnd.jupyter.widget-view+json": {
       "version_major": 2,
       "version_minor": 0,
       "model_id": "cf6fe209466b45bb989750d7d9baed5d"
      }
     },
     "metadata": {},
     "output_type": "display_data"
    },
    {
     "data": {
      "text/plain": "Cycling through SteganographyM 2 lsb:   0%|          | 0/3060 [00:00<?, ?it/s]",
      "application/vnd.jupyter.widget-view+json": {
       "version_major": 2,
       "version_minor": 0,
       "model_id": "3c5e6f31105d4adebe6deaef5d227dbc"
      }
     },
     "metadata": {},
     "output_type": "display_data"
    },
    {
     "data": {
      "text/plain": "Cycling through SteganographyM 4 msb:   0%|          | 0/3060 [00:00<?, ?it/s]",
      "application/vnd.jupyter.widget-view+json": {
       "version_major": 2,
       "version_minor": 0,
       "model_id": "b2ddaae44ec243fcabc4f7e545de3846"
      }
     },
     "metadata": {},
     "output_type": "display_data"
    },
    {
     "data": {
      "text/plain": "Cycling through SteganographyM 4 lsb:   0%|          | 0/3060 [00:00<?, ?it/s]",
      "application/vnd.jupyter.widget-view+json": {
       "version_major": 2,
       "version_minor": 0,
       "model_id": "64a266dc989a480b8632d46a9743f8be"
      }
     },
     "metadata": {},
     "output_type": "display_data"
    },
    {
     "data": {
      "text/plain": "Cycling through Passlok 1 msb:   0%|          | 0/1530 [00:00<?, ?it/s]",
      "application/vnd.jupyter.widget-view+json": {
       "version_major": 2,
       "version_minor": 0,
       "model_id": "19a06b00c4fb4870b3850a2148e9d6f1"
      }
     },
     "metadata": {},
     "output_type": "display_data"
    },
    {
     "data": {
      "text/plain": "Cycling through Passlok 1 lsb:   0%|          | 0/1530 [00:00<?, ?it/s]",
      "application/vnd.jupyter.widget-view+json": {
       "version_major": 2,
       "version_minor": 0,
       "model_id": "dd446bcde8ef44fbb200a2b5ca29d1e3"
      }
     },
     "metadata": {},
     "output_type": "display_data"
    },
    {
     "data": {
      "text/plain": "Cycling through Passlok 2 msb:   0%|          | 0/1530 [00:00<?, ?it/s]",
      "application/vnd.jupyter.widget-view+json": {
       "version_major": 2,
       "version_minor": 0,
       "model_id": "71bc12862de2463da4b32cafa8d017e4"
      }
     },
     "metadata": {},
     "output_type": "display_data"
    },
    {
     "data": {
      "text/plain": "Cycling through Passlok 2 lsb:   0%|          | 0/1530 [00:00<?, ?it/s]",
      "application/vnd.jupyter.widget-view+json": {
       "version_major": 2,
       "version_minor": 0,
       "model_id": "67ec47cf1f5a4267ae2f0653969c2ac6"
      }
     },
     "metadata": {},
     "output_type": "display_data"
    },
    {
     "data": {
      "text/plain": "Cycling through Passlok 4 msb:   0%|          | 0/1530 [00:00<?, ?it/s]",
      "application/vnd.jupyter.widget-view+json": {
       "version_major": 2,
       "version_minor": 0,
       "model_id": "9bedf9aecdf64652bebd128fb9cb1d53"
      }
     },
     "metadata": {},
     "output_type": "display_data"
    },
    {
     "data": {
      "text/plain": "Cycling through Passlok 4 lsb:   0%|          | 0/1530 [00:00<?, ?it/s]",
      "application/vnd.jupyter.widget-view+json": {
       "version_major": 2,
       "version_minor": 0,
       "model_id": "cc3189197f51448cbad04148838420d5"
      }
     },
     "metadata": {},
     "output_type": "display_data"
    },
    {
     "data": {
      "text/plain": "[(0.0, None),\n (0.0, None),\n (0.9993464052287582, ('MobiStego', 2, 'msb', 3)),\n (0.0, None),\n (0.0, None),\n (0.0, None),\n (0.0, None),\n (0.0, None),\n (0.0, None),\n (0.0, None),\n (0.0, None),\n (0.0, None),\n (0.0, None),\n (0.0, None),\n (0.0, None),\n (0.0, None),\n (0.0, None),\n (0.0, None),\n (0.0, None),\n (0.0, None),\n (0.0, None),\n (0.0, None),\n (0.0, None),\n (0.0, None),\n (0.0, None),\n (0.0, None),\n (0.0, None),\n (0.0, None),\n (0.0, None),\n (0.0, None),\n (0.0, None),\n (0.0, None),\n (0.0, None),\n (0.0, None),\n (0.0, None),\n (0.0, None)]"
     },
     "execution_count": 6,
     "metadata": {},
     "output_type": "execute_result"
    }
   ],
   "source": [
    "MESSAGE_DIR = Path('../datasets/StegoAppDB_stegos_20240309-030352/message_dictionary')\n",
    "\n",
    "\n",
    "def find_nth_substring(haystack, needle, n):\n",
    "    start = haystack.find(needle)\n",
    "    while start >= 0 and n > 1:\n",
    "        start = haystack.find(needle, start + len(needle))\n",
    "        n -= 1\n",
    "    return start\n",
    "\n",
    "\n",
    "async def get_original_message(stego_img):\n",
    "    img_row = info_file[info_file['image_filename'] == stego_img.name]\n",
    "    msg_name = img_row['message_dictionary'].values[0]\n",
    "    starting_line_index = img_row['message_starting_index'].values[0]\n",
    "    msg_len = img_row['message_length'].values[0]\n",
    "    full_msg = (MESSAGE_DIR / msg_name).read_text()\n",
    "    start_index = find_nth_substring(full_msg, '\\n', starting_line_index - 1) + 1\n",
    "    return full_msg[start_index:start_index + msg_len].encode('utf-8')\n",
    "\n",
    "\n",
    "async def get_embedded_message(stego_img, method, bits, direction):\n",
    "    return (EMBEDDED_MESSAGES_DIR / method / f'ls{bits}b' / direction / f'{stego_img.stem}.txt').read_bytes()\n",
    "\n",
    "\n",
    "async def detect_used_method_and_bits(stego_images, path_parts):\n",
    "    method, bits, direction = path_parts\n",
    "    results = []\n",
    "    for stego_img in tqdm(stego_images, desc=f'Cycling through {method} {bits} {direction}'):\n",
    "        original_msg = await get_original_message(stego_img)\n",
    "        extracted_msg = await get_embedded_message(stego_img, method, bits, direction)\n",
    "        index = extracted_msg.find(original_msg)\n",
    "        if index != -1:\n",
    "            results.append((method, bits, direction, index))\n",
    "\n",
    "    rate = len(results) / len(stego_images)\n",
    "    results = set(results)\n",
    "    if len(results) == 1:\n",
    "        return rate, results.pop()\n",
    "    elif len(results) > 1:\n",
    "        return rate, results\n",
    "    else:\n",
    "        return rate, None\n",
    "\n",
    "\n",
    "detected_used_method_and_bits = [(rate, values) async for rate, values in for_each_image(detect_used_method_and_bits)]\n",
    "detected_used_method_and_bits"
   ],
   "metadata": {
    "collapsed": false,
    "ExecuteTime": {
     "end_time": "2024-03-19T23:03:25.840099Z",
     "start_time": "2024-03-19T22:59:29.567044Z"
    }
   },
   "id": "811ed8db2abeaca9",
   "execution_count": 6
  },
  {
   "cell_type": "code",
   "outputs": [],
   "source": [],
   "metadata": {
    "collapsed": false,
    "ExecuteTime": {
     "end_time": "2024-03-19T17:44:49.750693Z",
     "start_time": "2024-03-19T17:44:49.747819Z"
    }
   },
   "id": "4dafb43c494e9c4a",
   "execution_count": 31
  },
  {
   "cell_type": "markdown",
   "source": [
    "### Overlap the payloads\n",
    "\n",
    "To detect a signature, we will overlap the messages of the stego images by doing a bitwise and-operation.\n",
    "This naive approach can only detect a leading signature in the payloads.\n",
    "For detecting a signature at the end of the payloads, we need to know the payload length\n",
    "which can be calculated approximately with e.g. the RS analysis.\n",
    "\n",
    "After collecting the messages, we will overlap them by doing a bitwise and-operation and\n",
    "strip all surrounding zeros to find the signature."
   ],
   "metadata": {
    "collapsed": false
   },
   "id": "e02feefce72d2f00"
  },
  {
   "cell_type": "code",
   "outputs": [],
   "source": [
    "def _overlap_message(acc, msg):\n",
    "    if acc.shape != msg.shape:\n",
    "        acc, msg = (acc, np.resize(msg, acc.shape)) if acc.size < msg.size else (np.resize(acc, msg.shape), msg)\n",
    "    return np.bitwise_and(acc, msg)\n",
    "\n",
    "\n",
    "async def extract_leading_sig(stego_images, bits: int = 1, direction='msb', embedding_method=None):\n",
    "    messages = (msg async for msg in extract_messages(stego_images, bits, direction, embedding_method))\n",
    "    reduced_msg = await afn.reduce(_overlap_message, messages)\n",
    "    return np.trim_zeros(reduced_msg.ravel()).tobytes()\n",
    "\n",
    "\n",
    "leading_signatures = {}\n",
    "for method, stego_images in stego_images_by_method.items():\n",
    "    leading_signatures[method] = {\n",
    "        'MSB': {}, 'LSB': {}\n",
    "    }\n",
    "    for bits in [1, 2, 4]:\n",
    "        leading_signatures[method]['MSB'][bits] = await extract_leading_sig(stego_images, bits, 'msb', method)\n",
    "        leading_signatures[method]['LSB'][bits] = await extract_leading_sig(stego_images, bits, 'lsb', method)\n",
    "\n",
    "leading_signatures"
   ],
   "metadata": {
    "collapsed": false
   },
   "id": "7c78d65d6bcfced4"
  }
 ],
 "metadata": {
  "kernelspec": {
   "name": "local-venv",
   "language": "python",
   "display_name": "local-venv"
  },
  "language_info": {
   "codemirror_mode": {
    "name": "ipython",
    "version": 2
   },
   "file_extension": ".py",
   "mimetype": "text/x-python",
   "name": "python",
   "nbconvert_exporter": "python",
   "pygments_lexer": "ipython2",
   "version": "2.7.6"
  }
 },
 "nbformat": 4,
 "nbformat_minor": 5
}
