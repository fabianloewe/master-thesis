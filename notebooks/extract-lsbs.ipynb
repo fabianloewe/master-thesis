{
 "cells": [
  {
   "cell_type": "markdown",
   "source": [
    "# Extract LSBs \n",
    "\n",
    "In this notebook, we will extract the LSBs of a stego images to find similarities in the payloads."
   ],
   "metadata": {
    "collapsed": false
   },
   "id": "5e4165356bda8780"
  },
  {
   "cell_type": "code",
   "outputs": [
    {
     "name": "stdout",
     "output_type": "stream",
     "text": [
      "\u001B[31mERROR: Exception:\r\n",
      "Traceback (most recent call last):\r\n",
      "  File \"/Users/fabianloewe/Data/master-thesis/venv/lib/python3.11/site-packages/pip/_internal/cli/base_command.py\", line 180, in exc_logging_wrapper\r\n",
      "    status = run_func(*args)\r\n",
      "             ^^^^^^^^^^^^^^^\r\n",
      "  File \"/Users/fabianloewe/Data/master-thesis/venv/lib/python3.11/site-packages/pip/_internal/cli/req_command.py\", line 245, in wrapper\r\n",
      "    return func(self, options, args)\r\n",
      "           ^^^^^^^^^^^^^^^^^^^^^^^^^\r\n",
      "  File \"/Users/fabianloewe/Data/master-thesis/venv/lib/python3.11/site-packages/pip/_internal/commands/install.py\", line 324, in run\r\n",
      "    session = self.get_default_session(options)\r\n",
      "              ^^^^^^^^^^^^^^^^^^^^^^^^^^^^^^^^^\r\n",
      "  File \"/Users/fabianloewe/Data/master-thesis/venv/lib/python3.11/site-packages/pip/_internal/cli/req_command.py\", line 95, in get_default_session\r\n",
      "    self._session = self.enter_context(self._build_session(options))\r\n",
      "                                       ^^^^^^^^^^^^^^^^^^^^^^^^^^^^\r\n",
      "  File \"/Users/fabianloewe/Data/master-thesis/venv/lib/python3.11/site-packages/pip/_internal/cli/req_command.py\", line 122, in _build_session\r\n",
      "    session = PipSession(\r\n",
      "              ^^^^^^^^^^^\r\n",
      "  File \"/Users/fabianloewe/Data/master-thesis/venv/lib/python3.11/site-packages/pip/_internal/network/session.py\", line 342, in __init__\r\n",
      "    self.headers[\"User-Agent\"] = user_agent()\r\n",
      "                                 ^^^^^^^^^^^^\r\n",
      "  File \"/Users/fabianloewe/Data/master-thesis/venv/lib/python3.11/site-packages/pip/_internal/network/session.py\", line 175, in user_agent\r\n",
      "    setuptools_dist = get_default_environment().get_distribution(\"setuptools\")\r\n",
      "                      ^^^^^^^^^^^^^^^^^^^^^^^^^^^^^^^^^^^^^^^^^^^^^^^^^^^^^^^^\r\n",
      "  File \"/Users/fabianloewe/Data/master-thesis/venv/lib/python3.11/site-packages/pip/_internal/metadata/importlib/_envs.py\", line 189, in get_distribution\r\n",
      "    return next(matches, None)\r\n",
      "           ^^^^^^^^^^^^^^^^^^^\r\n",
      "  File \"/Users/fabianloewe/Data/master-thesis/venv/lib/python3.11/site-packages/pip/_internal/metadata/importlib/_envs.py\", line 184, in <genexpr>\r\n",
      "    matches = (\r\n",
      "              ^\r\n",
      "  File \"/Users/fabianloewe/Data/master-thesis/venv/lib/python3.11/site-packages/pip/_internal/metadata/base.py\", line 626, in iter_all_distributions\r\n",
      "    for dist in self._iter_distributions():\r\n",
      "  File \"/Users/fabianloewe/Data/master-thesis/venv/lib/python3.11/site-packages/pip/_internal/metadata/importlib/_envs.py\", line 176, in _iter_distributions\r\n",
      "    yield from finder.find(location)\r\n",
      "  File \"/Users/fabianloewe/Data/master-thesis/venv/lib/python3.11/site-packages/pip/_internal/metadata/importlib/_envs.py\", line 79, in find\r\n",
      "    for dist, info_location in self._find_impl(location):\r\n",
      "  File \"/Users/fabianloewe/Data/master-thesis/venv/lib/python3.11/site-packages/pip/_internal/metadata/importlib/_envs.py\", line 64, in _find_impl\r\n",
      "    raw_name = get_dist_name(dist)\r\n",
      "               ^^^^^^^^^^^^^^^^^^^\r\n",
      "  File \"/Users/fabianloewe/Data/master-thesis/venv/lib/python3.11/site-packages/pip/_internal/metadata/importlib/_compat.py\", line 52, in get_dist_name\r\n",
      "    name = cast(Any, dist).name\r\n",
      "           ^^^^^^^^^^^^^^^^^^^^\r\n",
      "  File \"/opt/homebrew/Cellar/python@3.11/3.11.7_1/Frameworks/Python.framework/Versions/3.11/lib/python3.11/importlib/metadata/__init__.py\", line 622, in name\r\n",
      "    return self.metadata['Name']\r\n",
      "           ^^^^^^^^^^^^^\r\n",
      "  File \"/opt/homebrew/Cellar/python@3.11/3.11.7_1/Frameworks/Python.framework/Versions/3.11/lib/python3.11/importlib/metadata/__init__.py\", line 610, in metadata\r\n",
      "    self.read_text('METADATA')\r\n",
      "  File \"/opt/homebrew/Cellar/python@3.11/3.11.7_1/Frameworks/Python.framework/Versions/3.11/lib/python3.11/importlib/metadata/__init__.py\", line 938, in read_text\r\n",
      "    return self._path.joinpath(filename).read_text(encoding='utf-8')\r\n",
      "           ^^^^^^^^^^^^^^^^^^^^^^^^^^^^^^^^^^^^^^^^^^^^^^^^^^^^^^^^^\r\n",
      "  File \"/opt/homebrew/Cellar/python@3.11/3.11.7_1/Frameworks/Python.framework/Versions/3.11/lib/python3.11/pathlib.py\", line 1059, in read_text\r\n",
      "    return f.read()\r\n",
      "           ^^^^^^^^\r\n",
      "  File \"<frozen codecs>\", line 322, in decode\r\n",
      "UnicodeDecodeError: 'utf-8' codec can't decode byte 0x92 in position 2: invalid start byte\u001B[0m\u001B[31m\r\n",
      "\u001B[0mTraceback (most recent call last):\r\n",
      "  File \"<frozen runpy>\", line 198, in _run_module_as_main\r\n",
      "  File \"<frozen runpy>\", line 88, in _run_code\r\n",
      "  File \"/Users/fabianloewe/Data/master-thesis/venv/lib/python3.11/site-packages/pip/__main__.py\", line 24, in <module>\r\n",
      "    sys.exit(_main())\r\n",
      "             ^^^^^^^\r\n",
      "  File \"/Users/fabianloewe/Data/master-thesis/venv/lib/python3.11/site-packages/pip/_internal/cli/main.py\", line 79, in main\r\n",
      "    return command.main(cmd_args)\r\n",
      "           ^^^^^^^^^^^^^^^^^^^^^^\r\n",
      "  File \"/Users/fabianloewe/Data/master-thesis/venv/lib/python3.11/site-packages/pip/_internal/cli/base_command.py\", line 101, in main\r\n",
      "    return self._main(args)\r\n",
      "           ^^^^^^^^^^^^^^^^\r\n",
      "  File \"/Users/fabianloewe/Data/master-thesis/venv/lib/python3.11/site-packages/pip/_internal/cli/base_command.py\", line 236, in _main\r\n",
      "    self.handle_pip_version_check(options)\r\n",
      "  File \"/Users/fabianloewe/Data/master-thesis/venv/lib/python3.11/site-packages/pip/_internal/cli/req_command.py\", line 177, in handle_pip_version_check\r\n",
      "    session = self._build_session(\r\n",
      "              ^^^^^^^^^^^^^^^^^^^^\r\n",
      "  File \"/Users/fabianloewe/Data/master-thesis/venv/lib/python3.11/site-packages/pip/_internal/cli/req_command.py\", line 122, in _build_session\r\n",
      "    session = PipSession(\r\n",
      "              ^^^^^^^^^^^\r\n",
      "  File \"/Users/fabianloewe/Data/master-thesis/venv/lib/python3.11/site-packages/pip/_internal/network/session.py\", line 342, in __init__\r\n",
      "    self.headers[\"User-Agent\"] = user_agent()\r\n",
      "                                 ^^^^^^^^^^^^\r\n",
      "  File \"/Users/fabianloewe/Data/master-thesis/venv/lib/python3.11/site-packages/pip/_internal/network/session.py\", line 175, in user_agent\r\n",
      "    setuptools_dist = get_default_environment().get_distribution(\"setuptools\")\r\n",
      "                      ^^^^^^^^^^^^^^^^^^^^^^^^^^^^^^^^^^^^^^^^^^^^^^^^^^^^^^^^\r\n",
      "  File \"/Users/fabianloewe/Data/master-thesis/venv/lib/python3.11/site-packages/pip/_internal/metadata/importlib/_envs.py\", line 189, in get_distribution\r\n",
      "    return next(matches, None)\r\n",
      "           ^^^^^^^^^^^^^^^^^^^\r\n",
      "  File \"/Users/fabianloewe/Data/master-thesis/venv/lib/python3.11/site-packages/pip/_internal/metadata/importlib/_envs.py\", line 184, in <genexpr>\r\n",
      "    matches = (\r\n",
      "              ^\r\n",
      "  File \"/Users/fabianloewe/Data/master-thesis/venv/lib/python3.11/site-packages/pip/_internal/metadata/base.py\", line 626, in iter_all_distributions\r\n",
      "    for dist in self._iter_distributions():\r\n",
      "  File \"/Users/fabianloewe/Data/master-thesis/venv/lib/python3.11/site-packages/pip/_internal/metadata/importlib/_envs.py\", line 176, in _iter_distributions\r\n",
      "    yield from finder.find(location)\r\n",
      "  File \"/Users/fabianloewe/Data/master-thesis/venv/lib/python3.11/site-packages/pip/_internal/metadata/importlib/_envs.py\", line 79, in find\r\n",
      "    for dist, info_location in self._find_impl(location):\r\n",
      "  File \"/Users/fabianloewe/Data/master-thesis/venv/lib/python3.11/site-packages/pip/_internal/metadata/importlib/_envs.py\", line 64, in _find_impl\r\n",
      "    raw_name = get_dist_name(dist)\r\n",
      "               ^^^^^^^^^^^^^^^^^^^\r\n",
      "  File \"/Users/fabianloewe/Data/master-thesis/venv/lib/python3.11/site-packages/pip/_internal/metadata/importlib/_compat.py\", line 52, in get_dist_name\r\n",
      "    name = cast(Any, dist).name\r\n",
      "           ^^^^^^^^^^^^^^^^^^^^\r\n",
      "  File \"/opt/homebrew/Cellar/python@3.11/3.11.7_1/Frameworks/Python.framework/Versions/3.11/lib/python3.11/importlib/metadata/__init__.py\", line 622, in name\r\n",
      "    return self.metadata['Name']\r\n",
      "           ^^^^^^^^^^^^^\r\n",
      "  File \"/opt/homebrew/Cellar/python@3.11/3.11.7_1/Frameworks/Python.framework/Versions/3.11/lib/python3.11/importlib/metadata/__init__.py\", line 610, in metadata\r\n",
      "    self.read_text('METADATA')\r\n",
      "  File \"/opt/homebrew/Cellar/python@3.11/3.11.7_1/Frameworks/Python.framework/Versions/3.11/lib/python3.11/importlib/metadata/__init__.py\", line 938, in read_text\r\n",
      "    return self._path.joinpath(filename).read_text(encoding='utf-8')\r\n",
      "           ^^^^^^^^^^^^^^^^^^^^^^^^^^^^^^^^^^^^^^^^^^^^^^^^^^^^^^^^^\r\n",
      "  File \"/opt/homebrew/Cellar/python@3.11/3.11.7_1/Frameworks/Python.framework/Versions/3.11/lib/python3.11/pathlib.py\", line 1059, in read_text\r\n",
      "    return f.read()\r\n",
      "           ^^^^^^^^\r\n",
      "  File \"<frozen codecs>\", line 322, in decode\r\n",
      "UnicodeDecodeError: 'utf-8' codec can't decode byte 0x92 in position 2: invalid start byte\r\n",
      "Note: you may need to restart the kernel to use updated packages.\n",
      "zsh:1: command not found: jupyter\r\n"
     ]
    },
    {
     "name": "stderr",
     "output_type": "stream",
     "text": [
      "/var/folders/02/y53_lh_10ss885lfr9gw0p800000gn/T/ipykernel_41767/2062557236.py:5: DeprecationWarning: \n",
      "Pyarrow will become a required dependency of pandas in the next major release of pandas (pandas 3.0),\n",
      "(to allow more performant data types, such as the Arrow string type, and better interoperability with other libraries)\n",
      "but was not found to be installed on your system.\n",
      "If this would cause problems for you,\n",
      "please provide us feedback at https://github.com/pandas-dev/pandas/issues/54466\n",
      "        \n",
      "  import pandas as pd\n"
     ]
    }
   ],
   "source": [
    "%pip install pillow tqdm ipywidgets notebook asyncstdlib\n",
    "!jupyter nbextension enable --py widgetsnbextension\n",
    "from PIL import Image, ImageChops\n",
    "from pathlib import Path\n",
    "import pandas as pd\n",
    "import numpy as np\n",
    "from tqdm.notebook import tqdm\n",
    "from asyncstdlib import itertools as ait\n",
    "from asyncstdlib import functools as afn"
   ],
   "metadata": {
    "collapsed": false,
    "ExecuteTime": {
     "end_time": "2024-03-20T09:06:48.167422Z",
     "start_time": "2024-03-20T09:06:45.768270Z"
    }
   },
   "id": "7ddca991407f7491",
   "execution_count": 1
  },
  {
   "cell_type": "markdown",
   "source": [
    "## Define constants"
   ],
   "metadata": {
    "collapsed": false
   },
   "id": "56c28f1af3a3f029"
  },
  {
   "cell_type": "code",
   "outputs": [],
   "source": [
    "STEGOAPPDB_PATH = Path('../datasets/StegoAppDB_stegos_20240309-030352')\n",
    "INFO_FILE = STEGOAPPDB_PATH / 'StegoAppDB_stegos_20240309-030352_stego_directory.csv'\n",
    "COVERS_PATH = STEGOAPPDB_PATH / 'covers'\n",
    "STEGOS_PATH = STEGOAPPDB_PATH / 'stegos'\n",
    "METHOD_COLUMN = 'embedding_method'\n",
    "STEGO_COLUMN = 'image_filename'\n",
    "COVER_COLUMN = 'cover_image_filename'"
   ],
   "metadata": {
    "collapsed": false,
    "ExecuteTime": {
     "end_time": "2024-03-14T20:21:16.306987Z",
     "start_time": "2024-03-14T20:21:16.304485Z"
    }
   },
   "id": "90df800940f5061d",
   "execution_count": 3
  },
  {
   "cell_type": "markdown",
   "source": [
    "## Collect stego images\n",
    "\n",
    "We will read the info file to collect all embedding methods and the stego images that were generated using them.\n",
    "\n",
    "### Gather embedding methods\n",
    "\n",
    "The embedding methods can be found in the `METHOD_COLUMN` of the info file."
   ],
   "metadata": {
    "collapsed": false
   },
   "id": "8abb6998458bc50e"
  },
  {
   "cell_type": "code",
   "outputs": [
    {
     "name": "stdout",
     "output_type": "stream",
     "text": [
      "Found the following embedding methods: MobiStego, PixelKnot, PocketStego, Pictograph, SteganographyM, Passlok\n"
     ]
    }
   ],
   "source": [
    "info_file = pd.read_csv(INFO_FILE)\n",
    "embedding_methods = info_file[METHOD_COLUMN].unique()\n",
    "print(f'Found the following embedding methods: {\", \".join(embedding_methods)}')"
   ],
   "metadata": {
    "collapsed": false,
    "ExecuteTime": {
     "end_time": "2024-03-14T20:21:16.360058Z",
     "start_time": "2024-03-14T20:21:16.308090Z"
    }
   },
   "id": "af54b16ac9eb5f8d",
   "execution_count": 4
  },
  {
   "cell_type": "markdown",
   "source": [
    "### Collect stego images\n",
    "\n",
    "Now, for each embedding method, we will collect the stego images that were generated with it."
   ],
   "metadata": {
    "collapsed": false
   },
   "id": "bf94bc307f4efa61"
  },
  {
   "cell_type": "code",
   "outputs": [
    {
     "data": {
      "text/plain": "{'MobiStego': 3060,\n 'PixelKnot': 3060,\n 'PocketStego': 3060,\n 'Pictograph': 4800,\n 'SteganographyM': 3060,\n 'Passlok': 1530}"
     },
     "execution_count": 5,
     "metadata": {},
     "output_type": "execute_result"
    }
   ],
   "source": [
    "def collect_stego_images(embedding_method: str):\n",
    "    return info_file[info_file[METHOD_COLUMN] == embedding_method][STEGO_COLUMN]\n",
    "\n",
    "\n",
    "stego_images_by_method = {method: STEGOS_PATH / collect_stego_images(method) for method in embedding_methods}\n",
    "{method: len(stego_images) for method, stego_images in stego_images_by_method.items()}"
   ],
   "metadata": {
    "collapsed": false,
    "ExecuteTime": {
     "end_time": "2024-03-14T20:21:16.428240Z",
     "start_time": "2024-03-14T20:21:16.362065Z"
    }
   },
   "id": "912d602c38aed305",
   "execution_count": 5
  },
  {
   "cell_type": "markdown",
   "source": [
    "## Try to detect a signature\n",
    "\n",
    "The next step is to try to detect a signature in the payloads corresponding to the embedding methods.\n",
    " \n",
    "### Extract the payloads\n",
    "\n",
    "First, we will extract the LSBs of the stego images.\n",
    "Some embedders may construct the payloads starting from the most significant bits (MSB) and others from the least significant bits (LSB)\n",
    "which leads to the different implementations ending on `msb` and `lsb` respectively.\n",
    "\n",
    "Furthermore, we can optimize the extraction performance by doing a bitwise or-operation over the whole payload\n",
    "if the embedder used the first or to the power of 2 LSBs which is reflected in the implementations containing `opt` in their name.\n",
    "\n",
    "Finally, we operate asynchronously to speed up the extraction process."
   ],
   "metadata": {
    "collapsed": false
   },
   "id": "fbed96b956cc9561"
  },
  {
   "cell_type": "code",
   "outputs": [],
   "source": [
    "def _extract_bits_opt_lsb(data, bits: int):\n",
    "    div = 8 // bits\n",
    "    message = np.zeros(len(data) // div, dtype=np.uint8)\n",
    "    mask = (1 << bits) - 1\n",
    "    for i in range(div):\n",
    "        shift = bits * i\n",
    "        message |= (data[i::div] & mask) << shift\n",
    "    return message\n",
    "\n",
    "\n",
    "def _extract_bits_opt_msb(data, bits: int):\n",
    "    div = 8 // bits\n",
    "    message = np.zeros(len(data) // div, dtype=np.uint8)\n",
    "    mask = (1 << bits) - 1\n",
    "    for i in range(div):\n",
    "        shift = 8 - bits - (bits * i)\n",
    "        message |= (data[i::div] & mask) << shift\n",
    "    return message\n",
    "\n",
    "\n",
    "def _extract_bits_lsb(data, bits: int):\n",
    "    msg_byte = 0\n",
    "    shift = 0\n",
    "    message = []\n",
    "    mask = (1 << bits) - 1\n",
    "    for byte in data:\n",
    "        msg_byte |= (byte & mask) << shift\n",
    "        shift += bits\n",
    "        if shift >= 8:\n",
    "            tmp = msg_byte >> 8\n",
    "            message.append(msg_byte & 0xFF)\n",
    "            msg_byte = tmp\n",
    "            shift -= 8\n",
    "    return np.array(message)\n",
    "\n",
    "\n",
    "def _extract_bits_msb(data, bits: int):\n",
    "    msg_byte = 0\n",
    "    shift = 8 - bits\n",
    "    message = []\n",
    "    mask = (1 << bits) - 1\n",
    "    for byte in data:\n",
    "        msg_byte |= (byte & mask) << shift\n",
    "        shift += bits\n",
    "        if shift <= 0:\n",
    "            tmp = msg_byte >> 8\n",
    "            message.append(msg_byte & 0xFF)\n",
    "            msg_byte = tmp\n",
    "            shift += 8\n",
    "    return np.array(message)\n",
    "\n",
    "\n",
    "async def _load_image(img_path: Path, convert_mode='RGB', channels=None):    \n",
    "    with Image.open(img_path) as img:\n",
    "        arr = np.array(img.convert(convert_mode))\n",
    "        \n",
    "    channels = channels.split() if channels else None\n",
    "    if convert_mode == 'RGB' and 0 < len(channels) < 3:\n",
    "        arr = arr[..., [0, 1, 2][:len(channels)]]\n",
    "    elif convert_mode == 'RGBA' and 0 < len(channels) < 4:\n",
    "        arr = arr[..., [0, 1, 2, 3][:len(channels)]]\n",
    "    return arr.reshape(-1)\n",
    "\n",
    "async def _extract_message(img_path: Path, bits: int, direction='msb', convert_mode='RGB', channels=None):\n",
    "    data = await _load_image(img_path, convert_mode, channels)\n",
    "    if bits == 1 or bits.bit_count() == 1:\n",
    "        if direction == 'msb':\n",
    "            return _extract_bits_opt_msb(data, bits)\n",
    "        else:\n",
    "            return _extract_bits_opt_lsb(data, bits)\n",
    "    else:\n",
    "        if direction == 'msb':\n",
    "            return _extract_bits_msb(data, bits)\n",
    "        else:\n",
    "            return _extract_bits_lsb(data, bits)\n",
    "\n",
    "\n",
    "async def extract_messages(images, bits: int = 1, direction='msb', embedding_method=None, convert_mode='RGB', channels=None):\n",
    "    if hasattr(images, '__aiter__'):\n",
    "        tasks = [(img, _extract_message(img, bits, direction, convert_mode, channels)) async for img in images]\n",
    "    elif hasattr(images, '__iter__'):\n",
    "        tasks = [(img, _extract_message(img, bits, direction, convert_mode, channels)) for img in images]\n",
    "    else:\n",
    "        raise ValueError('diff_images must be an iterable or an async iterable')\n",
    "\n",
    "    for (img, task) in tqdm(tasks,\n",
    "                            desc=f'Extracting {bits}-LSBs' + (f' for {embedding_method}' if embedding_method else '') + (f' with {direction.upper()} direction' if direction else '')):\n",
    "        yield img, await task"
   ],
   "metadata": {
    "collapsed": false,
    "ExecuteTime": {
     "end_time": "2024-03-14T20:21:16.436669Z",
     "start_time": "2024-03-14T20:21:16.429252Z"
    }
   },
   "id": "7ac9018ccd6d2070",
   "execution_count": 6
  }
 ],
 "metadata": {
  "kernelspec": {
   "name": "python3",
   "language": "python",
   "display_name": "Python 3 (ipykernel)"
  },
  "language_info": {
   "codemirror_mode": {
    "name": "ipython",
    "version": 2
   },
   "file_extension": ".py",
   "mimetype": "text/x-python",
   "name": "python",
   "nbconvert_exporter": "python",
   "pygments_lexer": "ipython2",
   "version": "2.7.6"
  }
 },
 "nbformat": 4,
 "nbformat_minor": 5
}
